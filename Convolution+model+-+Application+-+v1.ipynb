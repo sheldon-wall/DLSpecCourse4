{
  "cells": [
    {
      "cell_type": "markdown",
      "metadata": {
        "pycharm": {}
      },
      "source": [
        "# Convolutional Neural Networks: Application\n",
        "\n",
        "Welcome to Course 4\u0027s second assignment! In this notebook, you will:\n",
        "\n",
        "- Implement helper functions that you will use when implementing a TensorFlow model\n",
        "- Implement a fully functioning ConvNet using TensorFlow \n",
        "\n",
        "**After this assignment you will be able to:**\n",
        "\n",
        "- Build and train a ConvNet in TensorFlow for a classification problem \n",
        "\n",
        "We assume here that you are already familiar with TensorFlow. If you are not, please refer the *TensorFlow Tutorial* of the third week of Course 2 (\"*Improving deep neural networks*\")."
      ]
    },
    {
      "cell_type": "markdown",
      "metadata": {
        "pycharm": {}
      },
      "source": [
        "## 1.0 - TensorFlow model\n",
        "\n",
        "In the previous assignment, you built helper functions using numpy to understand the mechanics behind convolutional neural networks. Most practical applications of deep learning today are built using programming frameworks, which have many built-in functions you can simply call. \n",
        "\n",
        "As usual, we will start by loading in the packages. "
      ]
    },
    {
      "cell_type": "code",
      "execution_count": 2,
      "metadata": {
        "collapsed": true,
        "pycharm": {
          "is_executing": false
        }
      },
      "outputs": [],
      "source": [
        "import math\n",
        "import numpy as np\n",
        "import h5py\n",
        "import matplotlib.pyplot as plt\n",
        "import scipy\n",
        "from PIL import Image\n",
        "from scipy import ndimage\n",
        "import tensorflow as tf\n",
        "from tensorflow.python.framework import ops\n",
        "from cnn_utils import *\n",
        "\n",
        "%matplotlib inline\n",
        "np.random.seed(1)"
      ]
    },
    {
      "cell_type": "markdown",
      "metadata": {
        "pycharm": {}
      },
      "source": [
        "Run the next cell to load the \"SIGNS\" dataset you are going to use."
      ]
    },
    {
      "cell_type": "code",
      "execution_count": 3,
      "metadata": {
        "collapsed": true,
        "pycharm": {
          "is_executing": false
        }
      },
      "outputs": [],
      "source": [
        "# Loading the data (signs)\n",
        "X_train_orig, Y_train_orig, X_test_orig, Y_test_orig, classes \u003d load_dataset()"
      ]
    },
    {
      "cell_type": "markdown",
      "metadata": {
        "pycharm": {}
      },
      "source": [
        "As a reminder, the SIGNS dataset is a collection of 6 signs representing numbers from 0 to 5.\n",
        "\n",
        "\u003cimg src\u003d\"images/SIGNS.png\" style\u003d\"width:800px;height:300px;\"\u003e\n",
        "\n",
        "The next cell will show you an example of a labelled image in the dataset. Feel free to change the value of `index` below and re-run to see different examples. "
      ]
    },
    {
      "cell_type": "code",
      "execution_count": 4,
      "metadata": {
        "pycharm": {
          "is_executing": false
        }
      },
      "outputs": [
        {
          "name": "stdout",
          "text": [
            "y \u003d 2\n"
          ],
          "output_type": "stream"
        },
        {
          "data": {
            "text/plain": "\u003cFigure size 432x288 with 1 Axes\u003e",
            "image/png": "[encoded data removed]"
          },
          "metadata": {
            "needs_background": "light"
          },
          "output_type": "display_data"
        }
      ],
      "source": [
        "# Example of a picture\n",
        "index \u003d 6\n",
        "plt.imshow(X_train_orig[index])\n",
        "print (\"y \u003d \" + str(np.squeeze(Y_train_orig[:, index])))"
      ]
    },
    {
      "cell_type": "markdown",
      "metadata": {
        "pycharm": {}
      },
      "source": [
        "In Course 2, you had built a fully-connected network for this dataset. But since this is an image dataset, it is more natural to apply a ConvNet to it.\n",
        "\n",
        "To get started, let\u0027s examine the shapes of your data. "
      ]
    },
    {
      "cell_type": "code",
      "execution_count": 5,
      "metadata": {
        "pycharm": {
          "is_executing": false
        }
      },
      "outputs": [
        {
          "name": "stdout",
          "text": [
            "number of training examples \u003d 1080\nnumber of test examples \u003d 120\nX_train shape: (1080, 64, 64, 3)\nY_train shape: (1080, 6)\nX_test shape: (120, 64, 64, 3)\nY_test shape: (120, 6)\n"
          ],
          "output_type": "stream"
        }
      ],
      "source": [
        "X_train \u003d X_train_orig/255.\n",
        "X_test \u003d X_test_orig/255.\n",
        "Y_train \u003d convert_to_one_hot(Y_train_orig, 6).T\n",
        "Y_test \u003d convert_to_one_hot(Y_test_orig, 6).T\n",
        "print (\"number of training examples \u003d \" + str(X_train.shape[0]))\n",
        "print (\"number of test examples \u003d \" + str(X_test.shape[0]))\n",
        "print (\"X_train shape: \" + str(X_train.shape))\n",
        "print (\"Y_train shape: \" + str(Y_train.shape))\n",
        "print (\"X_test shape: \" + str(X_test.shape))\n",
        "print (\"Y_test shape: \" + str(Y_test.shape))\n",
        "conv_layers \u003d {}"
      ]
    },
    {
      "cell_type": "markdown",
      "metadata": {
        "collapsed": true,
        "pycharm": {}
      },
      "source": [
        "### 1.1 - Create placeholders\n",
        "\n",
        "TensorFlow requires that you create placeholders for the input data that will be fed into the model when running the session.\n",
        "\n",
        "**Exercise**: Implement the function below to create placeholders for the input image X and the output Y. You should not define the number of training examples for the moment. To do so, you could use \"None\" as the batch size, it will give you the flexibility to choose it later. Hence X should be of dimension **[None, n_H0, n_W0, n_C0]** and Y should be of dimension **[None, n_y]**.  [Hint](https://www.tensorflow.org/api_docs/python/tf/placeholder)."
      ]
    },
    {
      "cell_type": "code",
      "execution_count": 6,
      "metadata": {
        "collapsed": true,
        "pycharm": {
          "is_executing": false
        }
      },
      "outputs": [],
      "source": [
        "# GRADED FUNCTION: create_placeholders\n",
        "\n",
        "def create_placeholders(n_H0, n_W0, n_C0, n_y):\n",
        "    \"\"\"\n",
        "    Creates the placeholders for the tensorflow session.\n",
        "    \n",
        "    Arguments:\n",
        "    n_H0 -- scalar, height of an input image\n",
        "    n_W0 -- scalar, width of an input image\n",
        "    n_C0 -- scalar, number of channels of the input\n",
        "    n_y -- scalar, number of classes\n",
        "        \n",
        "    Returns:\n",
        "    X -- placeholder for the data input, of shape [None, n_H0, n_W0, n_C0] and dtype \"float\"\n",
        "    Y -- placeholder for the input labels, of shape [None, n_y] and dtype \"float\"\n",
        "    \"\"\"\n",
        "\n",
        "    ### START CODE HERE ### (≈2 lines)\n",
        "    X \u003d tf.placeholder(tf.float32, shape\u003d[None, n_H0, n_W0, n_C0], name \u003d \"X\")\n",
        "    Y \u003d tf.placeholder(tf.float32, shape\u003d[None, n_y], name \u003d \"Y\")\n",
        "    ### END CODE HERE ###\n",
        "    \n",
        "    return X, Y"
      ]
    },
    {
      "cell_type": "code",
      "execution_count": 7,
      "metadata": {
        "pycharm": {
          "is_executing": false
        }
      },
      "outputs": [
        {
          "name": "stdout",
          "text": [
            "X \u003d Tensor(\"X:0\", shape\u003d(?, 64, 64, 3), dtype\u003dfloat32)\nY \u003d Tensor(\"Y:0\", shape\u003d(?, 6), dtype\u003dfloat32)\n"
          ],
          "output_type": "stream"
        }
      ],
      "source": [
        "X, Y \u003d create_placeholders(64, 64, 3, 6)\n",
        "print (\"X \u003d \" + str(X))\n",
        "print (\"Y \u003d \" + str(Y))"
      ]
    },
    {
      "cell_type": "markdown",
      "metadata": {
        "pycharm": {}
      },
      "source": [
        "**Expected Output**\n",
        "\n",
        "\u003ctable\u003e \n",
        "\u003ctr\u003e\n",
        "\u003ctd\u003e\n",
        "    X \u003d Tensor(\"Placeholder:0\", shape\u003d(?, 64, 64, 3), dtype\u003dfloat32)\n",
        "\n",
        "\u003c/td\u003e\n",
        "\u003c/tr\u003e\n",
        "\u003ctr\u003e\n",
        "\u003ctd\u003e\n",
        "    Y \u003d Tensor(\"Placeholder_1:0\", shape\u003d(?, 6), dtype\u003dfloat32)\n",
        "\n",
        "\u003c/td\u003e\n",
        "\u003c/tr\u003e\n",
        "\u003c/table\u003e"
      ]
    },
    {
      "cell_type": "markdown",
      "metadata": {
        "pycharm": {}
      },
      "source": [
        "### 1.2 - Initialize parameters\n",
        "\n",
        "You will initialize weights/filters $W1$ and $W2$ using `tf.contrib.layers.xavier_initializer(seed \u003d 0)`. You don\u0027t need to worry about bias variables as you will soon see that TensorFlow functions take care of the bias. Note also that you will only initialize the weights/filters for the conv2d functions. TensorFlow initializes the layers for the fully connected part automatically. We will talk more about that later in this assignment.\n",
        "\n",
        "**Exercise:** Implement initialize_parameters(). The dimensions for each group of filters are provided below. Reminder - to initialize a parameter $W$ of shape [1,2,3,4] in Tensorflow, use:\n",
        "```python\n",
        "W \u003d tf.get_variable(\"W\", [1,2,3,4], initializer \u003d ...)\n",
        "```\n",
        "[More Info](https://www.tensorflow.org/api_docs/python/tf/get_variable)."
      ]
    },
    {
      "cell_type": "code",
      "execution_count": 8,
      "metadata": {
        "collapsed": true,
        "pycharm": {
          "is_executing": false
        }
      },
      "outputs": [],
      "source": [
        "# GRADED FUNCTION: initialize_parameters\n",
        "\n",
        "def initialize_parameters():\n",
        "    \"\"\"\n",
        "    Initializes weight parameters to build a neural network with tensorflow. The shapes are:\n",
        "                        W1 : [4, 4, 3, 8]\n",
        "                        W2 : [2, 2, 8, 16]\n",
        "    Returns:\n",
        "    parameters -- a dictionary of tensors containing W1, W2\n",
        "    \"\"\"\n",
        "    \n",
        "    tf.set_random_seed(1)                              # so that your \"random\" numbers match ours\n",
        "        \n",
        "    ### START CODE HERE ### (approx. 2 lines of code)\n",
        "    W1 \u003d tf.get_variable(\"W1\", [4, 4, 3, 8], initializer \u003d tf.contrib.layers.xavier_initializer(seed \u003d 0))\n",
        "    W2 \u003d tf.get_variable(\"W2\", [2, 2, 8, 16], initializer \u003d tf.contrib.layers.xavier_initializer(seed \u003d 0))\n",
        "    ### END CODE HERE ###\n",
        "\n",
        "    parameters \u003d {\"W1\": W1,\n",
        "                  \"W2\": W2}\n",
        "    \n",
        "    return parameters"
      ]
    },
    {
      "cell_type": "code",
      "execution_count": 9,
      "metadata": {
        "pycharm": {
          "is_executing": false
        }
      },
      "outputs": [
        {
          "name": "stdout",
          "text": [
            "\nWARNING: The TensorFlow contrib module will not be included in TensorFlow 2.0.\nFor more information, please see:\n  * https://github.com/tensorflow/community/blob/master/rfcs/20180907-contrib-sunset.md\n  * https://github.com/tensorflow/addons\nIf you depend on functionality not listed there, please file an issue.\n\nWARNING:tensorflow:From c:\\users\\sheld\\pycharmprojects\\dlspeccourse1\\venv\\lib\\site-packages\\tensorflow\\python\\framework\\op_def_library.py:263: colocate_with (from tensorflow.python.framework.ops) is deprecated and will be removed in a future version.\nInstructions for updating:\nColocations handled automatically by placer.\n",
            "W1 \u003d [ 0.00131723  0.1417614  -0.04434952  0.09197326  0.14984085 -0.03514394\n -0.06847463  0.05245192]\nW2 \u003d [-0.08566415  0.17750949  0.11974221  0.16773748 -0.0830943  -0.08058\n -0.00577033 -0.14643836  0.24162132 -0.05857408 -0.19055021  0.1345228\n -0.22779644 -0.1601823  -0.16117483 -0.10286498]\n"
          ],
          "output_type": "stream"
        }
      ],
      "source": [
        "tf.reset_default_graph()\n",
        "with tf.Session() as sess_test:\n",
        "    parameters \u003d initialize_parameters()\n",
        "    init \u003d tf.global_variables_initializer()\n",
        "    sess_test.run(init)\n",
        "    print(\"W1 \u003d \" + str(parameters[\"W1\"].eval()[1,1,1]))\n",
        "    print(\"W2 \u003d \" + str(parameters[\"W2\"].eval()[1,1,1]))"
      ]
    },
    {
      "cell_type": "markdown",
      "metadata": {
        "pycharm": {}
      },
      "source": "** Expected Output:**\n\n\u003ctable\u003e \n    \u003ctr\u003e\n        \u003ctd\u003e\n        W1 \u003d \n        \u003c/td\u003e\n        \u003ctd\u003e\n[ 0.00131723  0.14176141 -0.04434952  0.09197326  0.14984085 -0.03514394 \u003cbr\u003e\n -0.06847463  0.05245192]\n        \u003c/td\u003e\n    \u003c/tr\u003e\n    \u003ctr\u003e\n        \u003ctd\u003e\n        W2 \u003d \n        \u003c/td\u003e\n        \u003ctd\u003e\n[-0.08566415  0.17750949  0.11974221  0.16773748 -0.0830943  -0.08058 \u003cbr\u003e\n -0.00577033 -0.14643836  0.24162132 -0.05857408 -0.19055021  0.1345228 \u003cbr\u003e\n -0.22779644 -0.1601823  -0.16117483 -0.10286498]\n        \u003c/td\u003e\n    \u003c/tr\u003e\n\u003c/table\u003e"
    },
    {
      "cell_type": "markdown",
      "metadata": {
        "pycharm": {}
      },
      "source": [
        "### 1.2 - Forward propagation\n",
        "\n",
        "In TensorFlow, there are built-in functions that carry out the convolution steps for you.\n",
        "\n",
        "- **tf.nn.conv2d(X,W1, strides \u003d [1,s,s,1], padding \u003d \u0027SAME\u0027):** given an input $X$ and a group of filters $W1$, this function convolves $W1$\u0027s filters on X. The third input ([1,s,s,1]) represents the strides for each dimension of the input (m, n_H_prev, n_W_prev, n_C_prev). You can read the full documentation [here](https://www.tensorflow.org/api_docs/python/tf/nn/conv2d)\n",
        "\n",
        "- **tf.nn.max_pool(A, ksize \u003d [1,f,f,1], strides \u003d [1,s,s,1], padding \u003d \u0027SAME\u0027):** given an input A, this function uses a window of size (f, f) and strides of size (s, s) to carry out max pooling over each window. You can read the full documentation [here](https://www.tensorflow.org/api_docs/python/tf/nn/max_pool)\n",
        "\n",
        "- **tf.nn.relu(Z1):** computes the elementwise ReLU of Z1 (which can be any shape). You can read the full documentation [here.](https://www.tensorflow.org/api_docs/python/tf/nn/relu)\n",
        "\n",
        "- **tf.contrib.layers.flatten(P)**: given an input P, this function flattens each example into a 1D vector it while maintaining the batch-size. It returns a flattened tensor with shape [batch_size, k]. You can read the full documentation [here.](https://www.tensorflow.org/api_docs/python/tf/contrib/layers/flatten)\n",
        "\n",
        "- **tf.contrib.layers.fully_connected(F, num_outputs):** given a the flattened input F, it returns the output computed using a fully connected layer. You can read the full documentation [here.](https://www.tensorflow.org/api_docs/python/tf/contrib/layers/fully_connected)\n",
        "\n",
        "In the last function above (`tf.contrib.layers.fully_connected`), the fully connected layer automatically initializes weights in the graph and keeps on training them as you train the model. Hence, you did not need to initialize those weights when initializing the parameters. \n",
        "\n",
        "\n",
        "**Exercise**: \n",
        "\n",
        "Implement the `forward_propagation` function below to build the following model: `CONV2D -\u003e RELU -\u003e MAXPOOL -\u003e CONV2D -\u003e RELU -\u003e MAXPOOL -\u003e FLATTEN -\u003e FULLYCONNECTED`. You should use the functions above. \n",
        "\n",
        "In detail, we will use the following parameters for all the steps:\n",
        "     - Conv2D: stride 1, padding is \"SAME\"\n",
        "     - ReLU\n",
        "     - Max pool: Use an 8 by 8 filter size and an 8 by 8 stride, padding is \"SAME\"\n",
        "     - Conv2D: stride 1, padding is \"SAME\"\n",
        "     - ReLU\n",
        "     - Max pool: Use a 4 by 4 filter size and a 4 by 4 stride, padding is \"SAME\"\n",
        "     - Flatten the previous output.\n",
        "     - FULLYCONNECTED (FC) layer: Apply a fully connected layer without an non-linear activation function. Do not call the softmax here. This will result in 6 neurons in the output layer, which then get passed later to a softmax. In TensorFlow, the softmax and cost function are lumped together into a single function, which you\u0027ll call in a different function when computing the cost. "
      ]
    },
    {
      "cell_type": "code",
      "execution_count": 10,
      "metadata": {
        "pycharm": {
          "is_executing": false
        }
      },
      "outputs": [],
      "source": [
        "# GRADED FUNCTION: forward_propagation\n",
        "\n",
        "def forward_propagation(X, parameters):\n",
        "    \"\"\"\n",
        "    Implements the forward propagation for the model:\n",
        "    CONV2D -\u003e RELU -\u003e MAXPOOL -\u003e CONV2D -\u003e RELU -\u003e MAXPOOL -\u003e FLATTEN -\u003e FULLYCONNECTED\n",
        "    \n",
        "    Arguments:\n",
        "    X -- input dataset placeholder, of shape (input size, number of examples)\n",
        "    parameters -- python dictionary containing your parameters \"W1\", \"W2\"\n",
        "                  the shapes are given in initialize_parameters\n",
        "\n",
        "    Returns:\n",
        "    Z3 -- the output of the last LINEAR unit\n",
        "    \"\"\"\n",
        "    \n",
        "    # Retrieve the parameters from the dictionary \"parameters\" \n",
        "    W1 \u003d parameters[\u0027W1\u0027]\n",
        "    W2 \u003d parameters[\u0027W2\u0027]\n",
        "    \n",
        "    ### START CODE HERE ###\n",
        "    # CONV2D: stride of 1, padding \u0027SAME\u0027\n",
        "    Z1 \u003d tf.nn.conv2d(X, W1, strides \u003d [1,1,1,1], padding \u003d \u0027SAME\u0027)\n",
        "    # RELU\n",
        "    A1 \u003d tf.nn.relu(Z1)\n",
        "    # MAXPOOL: window 8x8, sride 8, padding \u0027SAME\u0027\n",
        "    P1 \u003d tf.nn.max_pool(A1, ksize \u003d [1,8,8,1], strides \u003d [1,8,8,1], padding \u003d \u0027SAME\u0027)\n",
        "    # CONV2D: filters W2, stride 1, padding \u0027SAME\u0027\n",
        "    Z2 \u003d tf.nn.conv2d(P1, W2, strides \u003d [1,1,1,1], padding \u003d \u0027SAME\u0027)\n",
        "    # RELU\n",
        "    A2 \u003d tf.nn.relu(Z2)\n",
        "    # MAXPOOL: window 4x4, stride 4, padding \u0027SAME\u0027\n",
        "    P2 \u003d tf.nn.max_pool(A2, ksize \u003d [1,4,4,1], strides \u003d [1,4,4,1], padding \u003d \u0027SAME\u0027)\n",
        "    # FLATTEN\n",
        "    P2 \u003d tf.contrib.layers.flatten(P2)\n",
        "    # FULLY-CONNECTED without non-linear activation function (not not call softmax).\n",
        "    # 6 neurons in output layer. Hint: one of the arguments should be \"activation_fn\u003dNone\" \n",
        "    Z3 \u003d tf.contrib.layers.fully_connected(P2, 6, activation_fn\u003dNone)\n",
        "    ### END CODE HERE ###\n",
        "\n",
        "    return Z3"
      ]
    },
    {
      "cell_type": "code",
      "execution_count": 16,
      "metadata": {
        "pycharm": {
          "is_executing": false
        }
      },
      "outputs": [
        {
          "name": "stdout",
          "text": [
            "Z3 \u003d [[ 1.4416982  -0.24909675  5.4504995  -0.26189643 -0.2066989   1.3654672 ]\n [ 1.4070848  -0.02573231  5.0892797  -0.48669893 -0.40940714  1.2624854 ]]\n"
          ],
          "output_type": "stream"
        }
      ],
      "source": "tf.reset_default_graph()\n\nwith tf.Session() as sess:\n    np.random.seed(1)\n    X, Y \u003d create_placeholders(64, 64, 3, 6)\n    parameters \u003d initialize_parameters()\n    Z3 \u003d forward_propagation(X, parameters)\n    init \u003d tf.global_variables_initializer()\n    sess.run(init)\n    a \u003d sess.run(Z3, {X: np.random.randn(2,64,64,3), Y: np.random.randn(2,6)})\n    print(\"Z3 \u003d \" + str(a))"
    },
    {
      "cell_type": "markdown",
      "metadata": {
        "pycharm": {}
      },
      "source": [
        "**Expected Output**:\n",
        "\n",
        "\u003ctable\u003e \n",
        "    \u003ctd\u003e \n",
        "    Z3 \u003d\n",
        "    \u003c/td\u003e\n",
        "    \u003ctd\u003e\n",
        "    [[-0.44670227 -1.57208765 -1.53049231 -2.31013036 -1.29104376  0.46852064] \u003cbr\u003e\n",
        " [-0.17601591 -1.57972014 -1.4737016  -2.61672091 -1.00810647  0.5747785 ]]\n",
        "    \u003c/td\u003e\n",
        "\u003c/table\u003e"
      ]
    },
    {
      "cell_type": "markdown",
      "metadata": {
        "pycharm": {}
      },
      "source": [
        "### 1.3 - Compute cost\n",
        "\n",
        "Implement the compute cost function below. You might find these two functions helpful: \n",
        "\n",
        "- **tf.nn.softmax_cross_entropy_with_logits(logits \u003d Z3, labels \u003d Y):** computes the softmax entropy loss. This function both computes the softmax activation function as well as the resulting loss. You can check the full documentation  [here.](https://www.tensorflow.org/api_docs/python/tf/nn/softmax_cross_entropy_with_logits)\n",
        "- **tf.reduce_mean:** computes the mean of elements across dimensions of a tensor. Use this to sum the losses over all the examples to get the overall cost. You can check the full documentation [here.](https://www.tensorflow.org/api_docs/python/tf/reduce_mean)\n",
        "\n",
        "** Exercise**: Compute the cost below using the function above."
      ]
    },
    {
      "cell_type": "code",
      "execution_count": 28,
      "metadata": {
        "collapsed": true,
        "pycharm": {
          "is_executing": false
        }
      },
      "outputs": [],
      "source": [
        "# GRADED FUNCTION: compute_cost \n",
        "\n",
        "def compute_cost(Z3, Y):\n",
        "    \"\"\"\n",
        "    Computes the cost\n",
        "    \n",
        "    Arguments:\n",
        "    Z3 -- output of forward propagation (output of the last LINEAR unit), of shape (number of examples, 6)\n",
        "    Y -- \"true\" labels vector placeholder, same shape as Z3\n",
        "    \n",
        "    Returns:\n",
        "    cost - Tensor of the cost function\n",
        "    \"\"\"\n",
        "    \n",
        "    ### START CODE HERE ### (1 line of code)\n",
        "    cost \u003d tf.reduce_mean(tf.nn.softmax_cross_entropy_with_logits(logits \u003d Z3, labels \u003d Y))\n",
        "    ### END CODE HERE ###\n",
        "    \n",
        "    return cost"
      ]
    },
    {
      "cell_type": "code",
      "execution_count": 29,
      "metadata": {
        "pycharm": {
          "is_executing": false
        }
      },
      "outputs": [
        {
          "name": "stdout",
          "text": [
            "cost \u003d 4.6648703\n"
          ],
          "output_type": "stream"
        }
      ],
      "source": [
        "tf.reset_default_graph()\n",
        "\n",
        "with tf.Session() as sess:\n",
        "    np.random.seed(1)\n",
        "    X, Y \u003d create_placeholders(64, 64, 3, 6)\n",
        "    parameters \u003d initialize_parameters()\n",
        "    Z3 \u003d forward_propagation(X, parameters)\n",
        "    cost \u003d compute_cost(Z3, Y)\n",
        "    init \u003d tf.global_variables_initializer()\n",
        "    sess.run(init)\n",
        "    a \u003d sess.run(cost, {X: np.random.randn(4,64,64,3), Y: np.random.randn(4,6)})\n",
        "    print(\"cost \u003d \" + str(a))"
      ]
    },
    {
      "cell_type": "markdown",
      "metadata": {
        "pycharm": {}
      },
      "source": "**Expected Output**: \n\n\u003ctable\u003e\n    \u003ctd\u003e \n    cost \u003d\n    \u003c/td\u003e \n    \u003ctd\u003e \n    2.91034\n    \u003c/td\u003e \n\u003c/table\u003e"
    },
    {
      "cell_type": "markdown",
      "metadata": {
        "pycharm": {}
      },
      "source": [
        "## 1.4 Model \n",
        "\n",
        "Finally you will merge the helper functions you implemented above to build a model. You will train it on the SIGNS dataset. \n",
        "\n",
        "You have implemented `random_mini_batches()` in the Optimization programming assignment of course 2. Remember that this function returns a list of mini-batches. \n",
        "\n",
        "**Exercise**: Complete the function below. \n",
        "\n",
        "The model below should:\n",
        "\n",
        "- create placeholders\n",
        "- initialize parameters\n",
        "- forward propagate\n",
        "- compute the cost\n",
        "- create an optimizer\n",
        "\n",
        "Finally you will create a session and run a for loop  for num_epochs, get the mini-batches, and then for each mini-batch you will optimize the function. [Hint for initializing the variables](https://www.tensorflow.org/api_docs/python/tf/global_variables_initializer)"
      ]
    },
    {
      "cell_type": "code",
      "execution_count": 20,
      "metadata": {
        "collapsed": true,
        "pycharm": {}
      },
      "outputs": [],
      "source": [
        "# GRADED FUNCTION: model\n",
        "\n",
        "def model(X_train, Y_train, X_test, Y_test, learning_rate \u003d 0.009,\n",
        "          num_epochs \u003d 100, minibatch_size \u003d 64, print_cost \u003d True):\n",
        "    \"\"\"\n",
        "    Implements a three-layer ConvNet in Tensorflow:\n",
        "    CONV2D -\u003e RELU -\u003e MAXPOOL -\u003e CONV2D -\u003e RELU -\u003e MAXPOOL -\u003e FLATTEN -\u003e FULLYCONNECTED\n",
        "    \n",
        "    Arguments:\n",
        "    X_train -- training set, of shape (None, 64, 64, 3)\n",
        "    Y_train -- test set, of shape (None, n_y \u003d 6)\n",
        "    X_test -- training set, of shape (None, 64, 64, 3)\n",
        "    Y_test -- test set, of shape (None, n_y \u003d 6)\n",
        "    learning_rate -- learning rate of the optimization\n",
        "    num_epochs -- number of epochs of the optimization loop\n",
        "    minibatch_size -- size of a minibatch\n",
        "    print_cost -- True to print the cost every 100 epochs\n",
        "    \n",
        "    Returns:\n",
        "    train_accuracy -- real number, accuracy on the train set (X_train)\n",
        "    test_accuracy -- real number, testing accuracy on the test set (X_test)\n",
        "    parameters -- parameters learnt by the model. They can then be used to predict.\n",
        "    \"\"\"\n",
        "    \n",
        "    ops.reset_default_graph()                         # to be able to rerun the model without overwriting tf variables\n",
        "    tf.set_random_seed(1)                             # to keep results consistent (tensorflow seed)\n",
        "    seed \u003d 3                                          # to keep results consistent (numpy seed)\n",
        "    (m, n_H0, n_W0, n_C0) \u003d X_train.shape             \n",
        "    n_y \u003d Y_train.shape[1]                            \n",
        "    costs \u003d []                                        # To keep track of the cost\n",
        "    \n",
        "    # Create Placeholders of the correct shape\n",
        "    ### START CODE HERE ### (1 line)\n",
        "    X, Y \u003d create_placeholders(n_H0, n_W0, n_C0, n_y)\n",
        "    ### END CODE HERE ###\n",
        "\n",
        "    # Initialize parameters\n",
        "    ### START CODE HERE ### (1 line)\n",
        "    parameters \u003d initialize_parameters()\n",
        "    ### END CODE HERE ###\n",
        "    \n",
        "    # Forward propagation: Build the forward propagation in the tensorflow graph\n",
        "    ### START CODE HERE ### (1 line)\n",
        "    Z3 \u003d forward_propagation(X, parameters)\n",
        "    ### END CODE HERE ###\n",
        "    \n",
        "    # Cost function: Add cost function to tensorflow graph\n",
        "    ### START CODE HERE ### (1 line)\n",
        "    cost \u003d compute_cost(Z3, Y)\n",
        "    ### END CODE HERE ###\n",
        "    \n",
        "    # Backpropagation: Define the tensorflow optimizer. Use an AdamOptimizer that minimizes the cost.\n",
        "    ### START CODE HERE ### (1 line)\n",
        "    optimizer \u003d tf.train.AdamOptimizer(learning_rate\u003dlearning_rate).minimize(cost)\n",
        "    ### END CODE HERE ###\n",
        "    \n",
        "    # Initialize all the variables globally\n",
        "    init \u003d tf.global_variables_initializer()\n",
        "     \n",
        "    # Start the session to compute the tensorflow graph\n",
        "    with tf.Session() as sess:\n",
        "        \n",
        "        # Run the initialization\n",
        "        sess.run(init)\n",
        "        \n",
        "        # Do the training loop\n",
        "        for epoch in range(num_epochs):\n",
        "\n",
        "            minibatch_cost \u003d 0.\n",
        "            num_minibatches \u003d int(m / minibatch_size) # number of minibatches of size minibatch_size in the train set\n",
        "            seed \u003d seed + 1\n",
        "            minibatches \u003d random_mini_batches(X_train, Y_train, minibatch_size, seed)\n",
        "\n",
        "            for minibatch in minibatches:\n",
        "\n",
        "                # Select a minibatch\n",
        "                (minibatch_X, minibatch_Y) \u003d minibatch\n",
        "                # IMPORTANT: The line that runs the graph on a minibatch.\n",
        "                # Run the session to execute the optimizer and the cost, the feedict should contain a minibatch for (X,Y).\n",
        "                ### START CODE HERE ### (1 line)\n",
        "                _ , temp_cost \u003d sess.run([optimizer, cost], feed_dict\u003d{X: minibatch_X, Y: minibatch_Y})\n",
        "                ### END CODE HERE ###\n",
        "                \n",
        "                minibatch_cost +\u003d temp_cost / num_minibatches\n",
        "                \n",
        "\n",
        "            # Print the cost every epoch\n",
        "            if print_cost \u003d\u003d True and epoch % 5 \u003d\u003d 0:\n",
        "                print (\"Cost after epoch %i: %f\" % (epoch, minibatch_cost))\n",
        "            if print_cost \u003d\u003d True and epoch % 1 \u003d\u003d 0:\n",
        "                costs.append(minibatch_cost)\n",
        "        \n",
        "        \n",
        "        # plot the cost\n",
        "        plt.plot(np.squeeze(costs))\n",
        "        plt.ylabel(\u0027cost\u0027)\n",
        "        plt.xlabel(\u0027iterations (per tens)\u0027)\n",
        "        plt.title(\"Learning rate \u003d\" + str(learning_rate))\n",
        "        plt.show()\n",
        "\n",
        "        # Calculate the correct predictions\n",
        "        predict_op \u003d tf.argmax(Z3, 1)\n",
        "        correct_prediction \u003d tf.equal(predict_op, tf.argmax(Y, 1))\n",
        "        \n",
        "        # Calculate accuracy on the test set\n",
        "        accuracy \u003d tf.reduce_mean(tf.cast(correct_prediction, \"float\"))\n",
        "        print(accuracy)\n",
        "        train_accuracy \u003d accuracy.eval({X: X_train, Y: Y_train})\n",
        "        test_accuracy \u003d accuracy.eval({X: X_test, Y: Y_test})\n",
        "        print(\"Train Accuracy:\", train_accuracy)\n",
        "        print(\"Test Accuracy:\", test_accuracy)\n",
        "                \n",
        "        return train_accuracy, test_accuracy, parameters"
      ]
    },
    {
      "cell_type": "markdown",
      "metadata": {
        "pycharm": {}
      },
      "source": [
        "Run the following cell to train your model for 100 epochs. Check if your cost after epoch 0 and 5 matches our output. If not, stop the cell and go back to your code!"
      ]
    },
    {
      "cell_type": "code",
      "execution_count": 21,
      "metadata": {
        "pycharm": {}
      },
      "outputs": [
        {
          "name": "stdout",
          "output_type": "stream",
          "text": [
            "Cost after epoch 0: 1.917929\n",
            "Cost after epoch 5: 1.506757\n",
            "Cost after epoch 10: 0.955359\n",
            "Cost after epoch 15: 0.845802\n",
            "Cost after epoch 20: 0.701174\n",
            "Cost after epoch 25: 0.571977\n",
            "Cost after epoch 30: 0.518435\n",
            "Cost after epoch 35: 0.495806\n",
            "Cost after epoch 40: 0.429827\n",
            "Cost after epoch 45: 0.407291\n",
            "Cost after epoch 50: 0.366394\n",
            "Cost after epoch 55: 0.376922\n",
            "Cost after epoch 60: 0.299491\n",
            "Cost after epoch 65: 0.338870\n",
            "Cost after epoch 70: 0.316400\n",
            "Cost after epoch 75: 0.310413\n",
            "Cost after epoch 80: 0.249549\n",
            "Cost after epoch 85: 0.243457\n",
            "Cost after epoch 90: 0.200031\n",
            "Cost after epoch 95: 0.175452\n"
          ]
        },
        {
          "data": {
            "image/png": "[encoded data removed]",
            "text/plain": [
              "\u003cmatplotlib.figure.Figure at 0x7f8619de1240\u003e"
            ]
          },
          "metadata": {},
          "output_type": "display_data"
        },
        {
          "name": "stdout",
          "output_type": "stream",
          "text": [
            "Tensor(\"Mean_1:0\", shape\u003d(), dtype\u003dfloat32)\n",
            "Train Accuracy: 0.940741\n",
            "Test Accuracy: 0.783333\n"
          ]
        }
      ],
      "source": [
        "_, _, parameters \u003d model(X_train, Y_train, X_test, Y_test)"
      ]
    },
    {
      "cell_type": "markdown",
      "metadata": {
        "pycharm": {}
      },
      "source": [
        "**Expected output**: although it may not match perfectly, your expected output should be close to ours and your cost value should decrease.\n",
        "\n",
        "\u003ctable\u003e \n",
        "\u003ctr\u003e\n",
        "    \u003ctd\u003e \n",
        "    **Cost after epoch 0 \u003d**\n",
        "    \u003c/td\u003e\n",
        "\n",
        "    \u003ctd\u003e \n",
        "      1.917929\n",
        "    \u003c/td\u003e \n",
        "\u003c/tr\u003e\n",
        "\u003ctr\u003e\n",
        "    \u003ctd\u003e \n",
        "    **Cost after epoch 5 \u003d**\n",
        "    \u003c/td\u003e\n",
        "\n",
        "    \u003ctd\u003e \n",
        "      1.506757\n",
        "    \u003c/td\u003e \n",
        "\u003c/tr\u003e\n",
        "\u003ctr\u003e\n",
        "    \u003ctd\u003e \n",
        "    **Train Accuracy   \u003d**\n",
        "    \u003c/td\u003e\n",
        "\n",
        "    \u003ctd\u003e \n",
        "      0.940741\n",
        "    \u003c/td\u003e \n",
        "\u003c/tr\u003e \n",
        "\n",
        "\u003ctr\u003e\n",
        "    \u003ctd\u003e \n",
        "    **Test Accuracy   \u003d**\n",
        "    \u003c/td\u003e\n",
        "\n",
        "    \u003ctd\u003e \n",
        "      0.783333\n",
        "    \u003c/td\u003e \n",
        "\u003c/tr\u003e \n",
        "\u003c/table\u003e"
      ]
    },
    {
      "cell_type": "markdown",
      "metadata": {
        "pycharm": {}
      },
      "source": [
        "Congratulations! You have finised the assignment and built a model that recognizes SIGN language with almost 80% accuracy on the test set. If you wish, feel free to play around with this dataset further. You can actually improve its accuracy by spending more time tuning the hyperparameters, or using regularization (as this model clearly has a high variance). \n",
        "\n",
        "Once again, here\u0027s a thumbs up for your work! "
      ]
    },
    {
      "cell_type": "code",
      "execution_count": 22,
      "metadata": {
        "pycharm": {}
      },
      "outputs": [
        {
          "data": {
            "text/plain": [
              "\u003cmatplotlib.image.AxesImage at 0x7f8619d08b38\u003e"
            ]
          },
          "execution_count": 22,
          "metadata": {},
          "output_type": "execute_result"
        },
        {
          "data": {
            "image/png": "[encoded data removed]",
            "text/plain": [
              "\u003cmatplotlib.figure.Figure at 0x7f8672347a90\u003e"
            ]
          },
          "metadata": {},
          "output_type": "display_data"
        }
      ],
      "source": [
        "fname \u003d \"images/thumbs_up.jpg\"\n",
        "image \u003d np.array(ndimage.imread(fname, flatten\u003dFalse))\n",
        "my_image \u003d scipy.misc.imresize(image, size\u003d(64,64))\n",
        "plt.imshow(my_image)"
      ]
    },
    {
      "cell_type": "code",
      "execution_count": null,
      "metadata": {
        "collapsed": true,
        "pycharm": {}
      },
      "outputs": [],
      "source": []
    }
  ],
  "metadata": {
    "coursera": {
      "course_slug": "convolutional-neural-networks",
      "graded_item_id": "bwbJV",
      "launcher_item_id": "0TkXB"
    },
    "kernelspec": {
      "display_name": "Python 3",
      "language": "python",
      "name": "python3"
    },
    "language_info": {
      "codemirror_mode": {
        "name": "ipython",
        "version": 3
      },
      "file_extension": ".py",
      "mimetype": "text/x-python",
      "name": "python",
      "nbconvert_exporter": "python",
      "pygments_lexer": "ipython3",
      "version": "3.6.0"
    }
  },
  "nbformat": 4,
  "nbformat_minor": 1
}