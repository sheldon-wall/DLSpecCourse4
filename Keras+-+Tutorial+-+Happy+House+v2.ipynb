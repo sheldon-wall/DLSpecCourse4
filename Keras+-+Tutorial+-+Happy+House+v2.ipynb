{
  "cells": [
    {
      "cell_type": "markdown",
      "metadata": {
        "pycharm": {}
      },
      "source": [
        "# Keras tutorial - the Happy House\n",
        "\n",
        "Welcome to the first assignment of week 2. In this assignment, you will:\n",
        "1. Learn to use Keras, a high-level neural networks API (programming framework), written in Python and capable of running on top of several lower-level frameworks including TensorFlow and CNTK. \n",
        "2. See how you can in a couple of hours build a deep learning algorithm.\n",
        "\n",
        "Why are we using Keras? Keras was developed to enable deep learning engineers to build and experiment with different models very quickly. Just as TensorFlow is a higher-level framework than Python, Keras is an even higher-level framework and provides additional abstractions. Being able to go from idea to result with the least possible delay is key to finding good models. However, Keras is more restrictive than the lower-level frameworks, so there are some very complex models that you can implement in TensorFlow but not (without more difficulty) in Keras. That being said, Keras will work fine for many common models. \n",
        "\n",
        "In this exercise, you\u0027ll work on the \"Happy House\" problem, which we\u0027ll explain below. Let\u0027s load the required packages and solve the problem of the Happy House!"
      ]
    },
    {
      "cell_type": "code",
      "execution_count": 15,
      "metadata": {
        "pycharm": {
          "is_executing": false
        }
      },
      "outputs": [],
      "source": "import numpy as np\nfrom tensorflow import keras\nimport pydot, graphviz\nfrom IPython.display import SVG, Image\nimport h5py\n\nimport matplotlib.pyplot as plt\nfrom matplotlib.pyplot import imshow\n\n%matplotlib inline"
    },
    {
      "cell_type": "markdown",
      "metadata": {
        "pycharm": {}
      },
      "source": "**Note**: As you can see, we\u0027ve imported a lot of functions from Keras. You can use them easily just by calling them directly in the notebook. Ex: `X \u003d Input(...)` or `X \u003d ZeroPadding2D(...)`."
    },
    {
      "cell_type": "code",
      "execution_count": 2,
      "outputs": [],
      "source": "# define procedures\n\ndef mean_pred(y_true, y_pred):\n    return keras.backend.mean(y_pred)\n\ndef load_dataset():\n    train_dataset \u003d h5py.File(\u0027train_happy.h5\u0027, \"r\")\n    train_set_x_orig \u003d np.array(train_dataset[\"train_set_x\"][:]) # your train set features\n    train_set_y_orig \u003d np.array(train_dataset[\"train_set_y\"][:]) # your train set labels\n\n    test_dataset \u003d h5py.File(\u0027test_happy.h5\u0027, \"r\")\n    test_set_x_orig \u003d np.array(test_dataset[\"test_set_x\"][:]) # your test set features\n    test_set_y_orig \u003d np.array(test_dataset[\"test_set_y\"][:]) # your test set labels\n\n    classes \u003d np.array(test_dataset[\"list_classes\"][:]) # the list of classes\n    \n    train_set_y_orig \u003d train_set_y_orig.reshape((1, train_set_y_orig.shape[0]))\n    test_set_y_orig \u003d test_set_y_orig.reshape((1, test_set_y_orig.shape[0]))\n    \n    return train_set_x_orig, train_set_y_orig, test_set_x_orig, test_set_y_orig, classes\n",
      "metadata": {
        "pycharm": {
          "metadata": false,
          "name": "#%% \n",
          "is_executing": false
        }
      }
    },
    {
      "cell_type": "markdown",
      "metadata": {
        "pycharm": {}
      },
      "source": "## 1 - The Happy House \n\nFor your next vacation, you decided to spend a week with five of your friends from school. It is a very convenient house with many things to do nearby. But the most important benefit is that everybody has commited to be happy when they are in the house. So anyone wanting to enter the house must prove their current state of happiness.\n\n\u003cimg src\u003d\"images/happy-house.jpg\" style\u003d\"width:350px;height:270px;\"\u003e\n\u003ccaption\u003e\u003ccenter\u003e \u003cu\u003e \u003cfont color\u003d\u0027purple\u0027\u003e **Figure 1** \u003c/u\u003e\u003cfont color\u003d\u0027purple\u0027\u003e  : **the Happy House**\u003c/center\u003e\u003c/caption\u003e\n\n\nAs a deep learning expert, to make sure the \"Happy\" rule is strictly applied, you are going to build an algorithm which that uses pictures from the front door camera to check if the person is happy or not. The door should open only if the person is happy. \n\nYou have gathered pictures of your friends and yourself, taken by the front-door camera. The dataset is labbeled. \n\n\u003cimg src\u003d\"images/house-members.png\" style\u003d\"width:550px;height:250px;\"\u003e\n\nRun the following code to normalize the dataset and learn about its shapes."
    },
    {
      "cell_type": "code",
      "execution_count": 3,
      "metadata": {
        "pycharm": {
          "is_executing": false
        }
      },
      "outputs": [
        {
          "name": "stdout",
          "text": [
            "number of training examples \u003d 600\nnumber of test examples \u003d 150\nX_train shape: (600, 64, 64, 3)\nY_train shape: (600, 1)\nX_test shape: (150, 64, 64, 3)\nY_test shape: (150, 1)\n"
          ],
          "output_type": "stream"
        }
      ],
      "source": [
        "X_train_orig, Y_train_orig, X_test_orig, Y_test_orig, classes \u003d load_dataset()\n",
        "\n",
        "# Normalize image vectors\n",
        "X_train \u003d X_train_orig/255.\n",
        "X_test \u003d X_test_orig/255.\n",
        "\n",
        "# Reshape\n",
        "Y_train \u003d Y_train_orig.T\n",
        "Y_test \u003d Y_test_orig.T\n",
        "\n",
        "print (\"number of training examples \u003d \" + str(X_train.shape[0]))\n",
        "print (\"number of test examples \u003d \" + str(X_test.shape[0]))\n",
        "print (\"X_train shape: \" + str(X_train.shape))\n",
        "print (\"Y_train shape: \" + str(Y_train.shape))\n",
        "print (\"X_test shape: \" + str(X_test.shape))\n",
        "print (\"Y_test shape: \" + str(Y_test.shape))"
      ]
    },
    {
      "cell_type": "markdown",
      "metadata": {
        "pycharm": {}
      },
      "source": [
        "**Details of the \"Happy\" dataset**:\n",
        "- Images are of shape (64,64,3)\n",
        "- Training: 600 pictures\n",
        "- Test: 150 pictures\n",
        "\n",
        "It is now time to solve the \"Happy\" Challenge."
      ]
    },
    {
      "cell_type": "markdown",
      "metadata": {
        "pycharm": {}
      },
      "source": "## 2 - Building a model in Keras\n\nKeras is very good for rapid prototyping. In just a short time you will be able to build a model that achieves outstanding results.\n\nHere is an example of a model in Keras:\n\n```python\ndef model(input_shape):\n    # Define the input placeholder as a tensor with shape input_shape. Think of this as your input image!\n    X_input \u003d Input(input_shape)\n    # Zero-Padding: pads the border of X_input with zeroes\n    X \u003d ZeroPadding2D((3, 3))(X_input)\n\n    # CONV -\u003e BN -\u003e RELU Block applied to X\n    X \u003d Conv2D(32, (7, 7), strides \u003d (1, 1), name \u003d \u0027conv0\u0027)(X)\n    X \u003d BatchNormalization(axis \u003d 3, name \u003d \u0027bn0\u0027)(X)\n    X \u003d Activation(\u0027relu\u0027)(X)\n\n    # MAXPOOL\n    X \u003d MaxPooling2D((2, 2), name\u003d\u0027max_pool\u0027)(X)\n\n    # FLATTEN X (means convert it to a vector) + FULLYCONNECTED\n    X \u003d Flatten()(X)\n    X \u003d Dense(1, activation\u003d\u0027sigmoid\u0027, name\u003d\u0027fc\u0027)(X)\n\n    # Create model. This creates your Keras model instance, you\u0027ll use this instance to train/test the model.\n    model \u003d Model(inputs \u003d X_input, outputs \u003d X, name\u003d\u0027HappyModel\u0027)\n    \n    return model\n```\n\nNote that Keras uses a different convention with variable names than we\u0027ve previously used with numpy and TensorFlow. In particular, rather than creating and assigning a new variable on each step of forward propagation such as `X`, `Z1`, `A1`, `Z2`, `A2`, etc. for the computations for the different layers, in Keras code each line above just reassigns `X` to a new value using `X \u003d ...`. In other words, during each step of forward propagation, we are just writing the latest value in the commputation into the same variable `X`. The only exception was `X_input`, which we kept separate and did not overwrite, since we needed it at the end to create the Keras model instance (`model \u003d Model(inputs \u003d X_input, ...)` above). \n\n**Exercise**: Implement a `HappyModel()`. This assignment is more open-ended than most. We suggest that you start by implementing a model using the architecture we suggest, and run through the rest of this assignment using that as your initial model. But after that, come back and take initiative to try out other model architectures. For example, you might take inspiration from the model above, but then vary the network architecture and hyperparameters however you wish. You can also use other functions such as `AveragePooling2D()`, `GlobalMaxPooling2D()`, `Dropout()`. \n\n**Note**: You have to be careful with your data\u0027s shapes. Use what you\u0027ve learned in the videos to make sure your convolutional, pooling and fully-connected layers are adapted to the volumes you\u0027re applying it to."
    },
    {
      "cell_type": "code",
      "execution_count": 4,
      "metadata": {
        "collapsed": true,
        "pycharm": {
          "is_executing": false
        }
      },
      "outputs": [],
      "source": "# GRADED FUNCTION: HappyModel\n\ndef HappyModel(input_shape):\n    \"\"\"\n    Implementation of the HappyModel.\n    \n    Arguments:\n    input_shape -- shape of the images of the dataset\n\n    Returns:\n    model -- a Model() instance in Keras\n    \"\"\"\n    \n    ### START CODE HERE ###\n    # Feel free to use the suggested outline in the text above to get started, and run through the whole\n    # exercise (including the later portions of this notebook) once. The come back also try out other\n    # network architectures as well. \n    X_input \u003d keras.layers.Input(input_shape)\n\n    # Zero-Padding: pads the border of X_input with zeroes\n    X \u003d keras.layers.ZeroPadding2D((3, 3))(X_input)\n\n    # CONV -\u003e BN -\u003e RELU Block applied to X\n    X \u003d keras.layers.Conv2D(32, (7, 7), strides \u003d (1, 1), name \u003d \u0027conv0\u0027)(X)\n    X \u003d keras.layers.BatchNormalization(axis \u003d 3, name \u003d \u0027bn0\u0027)(X)\n    X \u003d keras.layers.Activation(\u0027relu\u0027)(X)\n\n    # MAXPOOL\n    X \u003d keras.layers.MaxPooling2D((2, 2), name\u003d\u0027max_pool\u0027)(X)\n\n    # FLATTEN X (means convert it to a vector) + FULLYCONNECTED\n    X \u003d keras.layers.Flatten()(X)\n    X \u003d keras.layers.Dense(1, activation\u003d\u0027sigmoid\u0027, name\u003d\u0027fc\u0027)(X)\n\n    # Create model. This creates your Keras model instance, you\u0027ll use this instance to train/test the model.\n    model \u003d keras.Model(inputs \u003d X_input, outputs \u003d X, name\u003d\u0027HappyModel\u0027)\n    \n    ### END CODE HERE ###\n    \n    return model"
    },
    {
      "cell_type": "markdown",
      "metadata": {
        "pycharm": {}
      },
      "source": [
        "You have now built a function to describe your model. To train and test this model, there are four steps in Keras:\n",
        "1. Create the model by calling the function above\n",
        "2. Compile the model by calling `model.compile(optimizer \u003d \"...\", loss \u003d \"...\", metrics \u003d [\"accuracy\"])`\n",
        "3. Train the model on train data by calling `model.fit(x \u003d ..., y \u003d ..., epochs \u003d ..., batch_size \u003d ...)`\n",
        "4. Test the model on test data by calling `model.evaluate(x \u003d ..., y \u003d ...)`\n",
        "\n",
        "If you want to know more about `model.compile()`, `model.fit()`, `model.evaluate()` and their arguments, refer to the official [Keras documentation](https://keras.io/models/model/).\n",
        "\n",
        "**Exercise**: Implement step 1, i.e. create the model."
      ]
    },
    {
      "cell_type": "code",
      "execution_count": 5,
      "metadata": {
        "pycharm": {
          "is_executing": false
        }
      },
      "outputs": [
        {
          "name": "stdout",
          "text": [
            "WARNING:tensorflow:From c:\\users\\sheld\\pycharmprojects\\aideeplearningcourse\\venv\\lib\\site-packages\\tensorflow\\python\\ops\\resource_variable_ops.py:435: colocate_with (from tensorflow.python.framework.ops) is deprecated and will be removed in a future version.\nInstructions for updating:\nColocations handled automatically by placer.\n"
          ],
          "output_type": "stream"
        }
      ],
      "source": [
        "### START CODE HERE ### (1 line)\n",
        "happyModel \u003d HappyModel(X_train.shape[1:])\n",
        "### END CODE HERE ###"
      ]
    },
    {
      "cell_type": "markdown",
      "metadata": {
        "pycharm": {}
      },
      "source": [
        "**Exercise**: Implement step 2, i.e. compile the model to configure the learning process. Choose the 3 arguments of `compile()` wisely. Hint: the Happy Challenge is a binary classification problem."
      ]
    },
    {
      "cell_type": "code",
      "execution_count": 7,
      "metadata": {
        "pycharm": {
          "is_executing": false
        }
      },
      "outputs": [
        {
          "name": "stdout",
          "text": [
            "_________________________________________________________________\nLayer (type)                 Output Shape              Param #   \n\u003d\u003d\u003d\u003d\u003d\u003d\u003d\u003d\u003d\u003d\u003d\u003d\u003d\u003d\u003d\u003d\u003d\u003d\u003d\u003d\u003d\u003d\u003d\u003d\u003d\u003d\u003d\u003d\u003d\u003d\u003d\u003d\u003d\u003d\u003d\u003d\u003d\u003d\u003d\u003d\u003d\u003d\u003d\u003d\u003d\u003d\u003d\u003d\u003d\u003d\u003d\u003d\u003d\u003d\u003d\u003d\u003d\u003d\u003d\u003d\u003d\u003d\u003d\u003d\u003d\ninput_1 (InputLayer)         (None, 64, 64, 3)         0         \n_________________________________________________________________\nzero_padding2d (ZeroPadding2 (None, 70, 70, 3)         0         \n_________________________________________________________________\nconv0 (Conv2D)               (None, 64, 64, 32)        4736      \n_________________________________________________________________\nbn0 (BatchNormalizationV1)   (None, 64, 64, 32)        128       \n_________________________________________________________________\nactivation (Activation)      (None, 64, 64, 32)        0         \n_________________________________________________________________\nmax_pool (MaxPooling2D)      (None, 32, 32, 32)        0         \n_________________________________________________________________\nflatten (Flatten)            (None, 32768)             0         \n_________________________________________________________________\nfc (Dense)                   (None, 1)                 32769     \n\u003d\u003d\u003d\u003d\u003d\u003d\u003d\u003d\u003d\u003d\u003d\u003d\u003d\u003d\u003d\u003d\u003d\u003d\u003d\u003d\u003d\u003d\u003d\u003d\u003d\u003d\u003d\u003d\u003d\u003d\u003d\u003d\u003d\u003d\u003d\u003d\u003d\u003d\u003d\u003d\u003d\u003d\u003d\u003d\u003d\u003d\u003d\u003d\u003d\u003d\u003d\u003d\u003d\u003d\u003d\u003d\u003d\u003d\u003d\u003d\u003d\u003d\u003d\u003d\u003d\nTotal params: 37,633\nTrainable params: 37,569\nNon-trainable params: 64\n_________________________________________________________________\n"
          ],
          "output_type": "stream"
        }
      ],
      "source": "### START CODE HERE ### (1 line)\nhappyModel.compile(loss\u003d\u0027binary_crossentropy\u0027, optimizer\u003d\u0027adam\u0027, metrics\u003d[\"accuracy\"])\nhappyModel.summary()\n### END CODE HERE ###"
    },
    {
      "cell_type": "markdown",
      "metadata": {
        "pycharm": {}
      },
      "source": [
        "**Exercise**: Implement step 3, i.e. train the model. Choose the number of epochs and the batch size."
      ]
    },
    {
      "cell_type": "code",
      "execution_count": 8,
      "metadata": {
        "pycharm": {
          "is_executing": false
        }
      },
      "outputs": [
        {
          "name": "stdout",
          "text": [
            "WARNING:tensorflow:From c:\\users\\sheld\\pycharmprojects\\aideeplearningcourse\\venv\\lib\\site-packages\\tensorflow\\python\\ops\\math_ops.py:3066: to_int32 (from tensorflow.python.ops.math_ops) is deprecated and will be removed in a future version.\nInstructions for updating:\nUse tf.cast instead.\n",
            "Epoch 1/15\n",
            "\r 32/600 [\u003e.............................] - ETA: 23s - loss: 0.7361 - acc: 0.6562",
            "\b\b\b\b\b\b\b\b\b\b\b\b\b\b\b\b\b\b\b\b\b\b\b\b\b\b\b\b\b\b\b\b\b\b\b\b\b\b\b\b\b\b\b\b\b\b\b\b\b\b\b\b\b\b\b\b\b\b\b\b\b\b\b\b\b\b\b\b\b\b\b\b\b\b\b\b\b\b\b\b\r192/600 [\u003d\u003d\u003d\u003d\u003d\u003d\u003d\u003d\u003e.....................] - ETA: 2s - loss: 3.7148 - acc: 0.5312 ",
            "\b\b\b\b\b\b\b\b\b\b\b\b\b\b\b\b\b\b\b\b\b\b\b\b\b\b\b\b\b\b\b\b\b\b\b\b\b\b\b\b\b\b\b\b\b\b\b\b\b\b\b\b\b\b\b\b\b\b\b\b\b\b\b\b\b\b\b\b\b\b\b\b\b\b\b\b\b\b\b\r352/600 [\u003d\u003d\u003d\u003d\u003d\u003d\u003d\u003d\u003d\u003d\u003d\u003d\u003d\u003d\u003d\u003d\u003e.............] - ETA: 1s - loss: 2.5879 - acc: 0.5710",
            "\b\b\b\b\b\b\b\b\b\b\b\b\b\b\b\b\b\b\b\b\b\b\b\b\b\b\b\b\b\b\b\b\b\b\b\b\b\b\b\b\b\b\b\b\b\b\b\b\b\b\b\b\b\b\b\b\b\b\b\b\b\b\b\b\b\b\b\b\b\b\b\b\b\b\b\b\b\b\b\r512/600 [\u003d\u003d\u003d\u003d\u003d\u003d\u003d\u003d\u003d\u003d\u003d\u003d\u003d\u003d\u003d\u003d\u003d\u003d\u003d\u003d\u003d\u003d\u003d\u003d\u003e.....] - ETA: 0s - loss: 2.1001 - acc: 0.6172",
            "\b\b\b\b\b\b\b\b\b\b\b\b\b\b\b\b\b\b\b\b\b\b\b\b\b\b\b\b\b\b\b\b\b\b\b\b\b\b\b\b\b\b\b\b\b\b\b\b\b\b\b\b\b\b\b\b\b\b\b\b\b\b\b\b\b\b\b\b\b\b\b\b\b\b\b\b\b\b\b\r600/600 [\u003d\u003d\u003d\u003d\u003d\u003d\u003d\u003d\u003d\u003d\u003d\u003d\u003d\u003d\u003d\u003d\u003d\u003d\u003d\u003d\u003d\u003d\u003d\u003d\u003d\u003d\u003d\u003d\u003d\u003d] - 2s 3ms/sample - loss: 1.9409 - acc: 0.6317\n",
            "Epoch 2/15\n\r 32/600 [\u003e.............................] - ETA: 0s - loss: 0.3217 - acc: 0.8750",
            "\b\b\b\b\b\b\b\b\b\b\b\b\b\b\b\b\b\b\b\b\b\b\b\b\b\b\b\b\b\b\b\b\b\b\b\b\b\b\b\b\b\b\b\b\b\b\b\b\b\b\b\b\b\b\b\b\b\b\b\b\b\b\b\b\b\b\b\b\b\b\b\b\b\b\b\b\b\b\b\r192/600 [\u003d\u003d\u003d\u003d\u003d\u003d\u003d\u003d\u003e.....................] - ETA: 0s - loss: 0.4209 - acc: 0.8281",
            "\b\b\b\b\b\b\b\b\b\b\b\b\b\b\b\b\b\b\b\b\b\b\b\b\b\b\b\b\b\b\b\b\b\b\b\b\b\b\b\b\b\b\b\b\b\b\b\b\b\b\b\b\b\b\b\b\b\b\b\b\b\b\b\b\b\b\b\b\b\b\b\b\b\b\b\b\b\b\b\r352/600 [\u003d\u003d\u003d\u003d\u003d\u003d\u003d\u003d\u003d\u003d\u003d\u003d\u003d\u003d\u003d\u003d\u003e.............] - ETA: 0s - loss: 0.3957 - acc: 0.8466",
            "\b\b\b\b\b\b\b\b\b\b\b\b\b\b\b\b\b\b\b\b\b\b\b\b\b\b\b\b\b\b\b\b\b\b\b\b\b\b\b\b\b\b\b\b\b\b\b\b\b\b\b\b\b\b\b\b\b\b\b\b\b\b\b\b\b\b\b\b\b\b\b\b\b\b\b\b\b\b\b\r512/600 [\u003d\u003d\u003d\u003d\u003d\u003d\u003d\u003d\u003d\u003d\u003d\u003d\u003d\u003d\u003d\u003d\u003d\u003d\u003d\u003d\u003d\u003d\u003d\u003d\u003e.....] - ETA: 0s - loss: 0.3563 - acc: 0.8594",
            "\b\b\b\b\b\b\b\b\b\b\b\b\b\b\b\b\b\b\b\b\b\b\b\b\b\b\b\b\b\b\b\b\b\b\b\b\b\b\b\b\b\b\b\b\b\b\b\b\b\b\b\b\b\b\b\b\b\b\b\b\b\b\b\b\b\b\b\b\b\b\b\b\b\b\b\b\b\b\b\r600/600 [\u003d\u003d\u003d\u003d\u003d\u003d\u003d\u003d\u003d\u003d\u003d\u003d\u003d\u003d\u003d\u003d\u003d\u003d\u003d\u003d\u003d\u003d\u003d\u003d\u003d\u003d\u003d\u003d\u003d\u003d] - 0s 337us/sample - loss: 0.3569 - acc: 0.8550\n",
            "Epoch 3/15\n\r 32/600 [\u003e.............................] - ETA: 0s - loss: 0.3478 - acc: 0.8125",
            "\b\b\b\b\b\b\b\b\b\b\b\b\b\b\b\b\b\b\b\b\b\b\b\b\b\b\b\b\b\b\b\b\b\b\b\b\b\b\b\b\b\b\b\b\b\b\b\b\b\b\b\b\b\b\b\b\b\b\b\b\b\b\b\b\b\b\b\b\b\b\b\b\b\b\b\b\b\b\b",
            "\r192/600 [\u003d\u003d\u003d\u003d\u003d\u003d\u003d\u003d\u003e.....................] - ETA: 0s - loss: 0.2650 - acc: 0.8802",
            "\b\b\b\b\b\b\b\b\b\b\b\b\b\b\b\b\b\b\b\b\b\b\b\b\b\b\b\b\b\b\b\b\b\b\b\b\b\b\b\b\b\b\b\b\b\b\b\b\b\b\b\b\b\b\b\b\b\b\b\b\b\b\b\b\b\b\b\b\b\b\b\b\b\b\b\b\b\b\b\r352/600 [\u003d\u003d\u003d\u003d\u003d\u003d\u003d\u003d\u003d\u003d\u003d\u003d\u003d\u003d\u003d\u003d\u003e.............] - ETA: 0s - loss: 0.2543 - acc: 0.8977",
            "\b\b\b\b\b\b\b\b\b\b\b\b\b\b\b\b\b\b\b\b\b\b\b\b\b\b\b\b\b\b\b\b\b\b\b\b\b\b\b\b\b\b\b\b\b\b\b\b\b\b\b\b\b\b\b\b\b\b\b\b\b\b\b\b\b\b\b\b\b\b\b\b\b\b\b\b\b\b\b\r512/600 [\u003d\u003d\u003d\u003d\u003d\u003d\u003d\u003d\u003d\u003d\u003d\u003d\u003d\u003d\u003d\u003d\u003d\u003d\u003d\u003d\u003d\u003d\u003d\u003d\u003e.....] - ETA: 0s - loss: 0.2601 - acc: 0.8945",
            "\b\b\b\b\b\b\b\b\b\b\b\b\b\b\b\b\b\b\b\b\b\b\b\b\b\b\b\b\b\b\b\b\b\b\b\b\b\b\b\b\b\b\b\b\b\b\b\b\b\b\b\b\b\b\b\b\b\b\b\b\b\b\b\b\b\b\b\b\b\b\b\b\b\b\b\b\b\b\b\r600/600 [\u003d\u003d\u003d\u003d\u003d\u003d\u003d\u003d\u003d\u003d\u003d\u003d\u003d\u003d\u003d\u003d\u003d\u003d\u003d\u003d\u003d\u003d\u003d\u003d\u003d\u003d\u003d\u003d\u003d\u003d] - 0s 325us/sample - loss: 0.2606 - acc: 0.8950\n",
            "Epoch 4/15\n\r 32/600 [\u003e.............................] - ETA: 0s - loss: 0.3641 - acc: 0.7500",
            "\b\b\b\b\b\b\b\b\b\b\b\b\b\b\b\b\b\b\b\b\b\b\b\b\b\b\b\b\b\b\b\b\b\b\b\b\b\b\b\b\b\b\b\b\b\b\b\b\b\b\b\b\b\b\b\b\b\b\b\b\b\b\b\b\b\b\b\b\b\b\b\b\b\b\b\b\b\b\b",
            "\r192/600 [\u003d\u003d\u003d\u003d\u003d\u003d\u003d\u003d\u003e.....................] - ETA: 0s - loss: 0.2350 - acc: 0.8698",
            "\b\b\b\b\b\b\b\b\b\b\b\b\b\b\b\b\b\b\b\b\b\b\b\b\b\b\b\b\b\b\b\b\b\b\b\b\b\b\b\b\b\b\b\b\b\b\b\b\b\b\b\b\b\b\b\b\b\b\b\b\b\b\b\b\b\b\b\b\b\b\b\b\b\b\b\b\b\b\b\r352/600 [\u003d\u003d\u003d\u003d\u003d\u003d\u003d\u003d\u003d\u003d\u003d\u003d\u003d\u003d\u003d\u003d\u003e.............] - ETA: 0s - loss: 0.1762 - acc: 0.9091",
            "\b\b\b\b\b\b\b\b\b\b\b\b\b\b\b\b\b\b\b\b\b\b\b\b\b\b\b\b\b\b\b\b\b\b\b\b\b\b\b\b\b\b\b\b\b\b\b\b\b\b\b\b\b\b\b\b\b\b\b\b\b\b\b\b\b\b\b\b\b\b\b\b\b\b\b\b\b\b\b",
            "\r512/600 [\u003d\u003d\u003d\u003d\u003d\u003d\u003d\u003d\u003d\u003d\u003d\u003d\u003d\u003d\u003d\u003d\u003d\u003d\u003d\u003d\u003d\u003d\u003d\u003d\u003e.....] - ETA: 0s - loss: 0.1748 - acc: 0.9199",
            "\b\b\b\b\b\b\b\b\b\b\b\b\b\b\b\b\b\b\b\b\b\b\b\b\b\b\b\b\b\b\b\b\b\b\b\b\b\b\b\b\b\b\b\b\b\b\b\b\b\b\b\b\b\b\b\b\b\b\b\b\b\b\b\b\b\b\b\b\b\b\b\b\b\b\b\b\b\b\b\r600/600 [\u003d\u003d\u003d\u003d\u003d\u003d\u003d\u003d\u003d\u003d\u003d\u003d\u003d\u003d\u003d\u003d\u003d\u003d\u003d\u003d\u003d\u003d\u003d\u003d\u003d\u003d\u003d\u003d\u003d\u003d] - 0s 340us/sample - loss: 0.1732 - acc: 0.9200\n",
            "Epoch 5/15\n\r 32/600 [\u003e.............................] - ETA: 0s - loss: 0.2066 - acc: 0.8750",
            "\b\b\b\b\b\b\b\b\b\b\b\b\b\b\b\b\b\b\b\b\b\b\b\b\b\b\b\b\b\b\b\b\b\b\b\b\b\b\b\b\b\b\b\b\b\b\b\b\b\b\b\b\b\b\b\b\b\b\b\b\b\b\b\b\b\b\b\b\b\b\b\b\b\b\b\b\b\b\b\r192/600 [\u003d\u003d\u003d\u003d\u003d\u003d\u003d\u003d\u003e.....................] - ETA: 0s - loss: 0.1669 - acc: 0.9323",
            "\b\b\b\b\b\b\b\b\b\b\b\b\b\b\b\b\b\b\b\b\b\b\b\b\b\b\b\b\b\b\b\b\b\b\b\b\b\b\b\b\b\b\b\b\b\b\b\b\b\b\b\b\b\b\b\b\b\b\b\b\b\b\b\b\b\b\b\b\b\b\b\b\b\b\b\b\b\b\b\r352/600 [\u003d\u003d\u003d\u003d\u003d\u003d\u003d\u003d\u003d\u003d\u003d\u003d\u003d\u003d\u003d\u003d\u003e.............] - ETA: 0s - loss: 0.1219 - acc: 0.9574",
            "\b\b\b\b\b\b\b\b\b\b\b\b\b\b\b\b\b\b\b\b\b\b\b\b\b\b\b\b\b\b\b\b\b\b\b\b\b\b\b\b\b\b\b\b\b\b\b\b\b\b\b\b\b\b\b\b\b\b\b\b\b\b\b\b\b\b\b\b\b\b\b\b\b\b\b\b\b\b\b\r512/600 [\u003d\u003d\u003d\u003d\u003d\u003d\u003d\u003d\u003d\u003d\u003d\u003d\u003d\u003d\u003d\u003d\u003d\u003d\u003d\u003d\u003d\u003d\u003d\u003d\u003e.....] - ETA: 0s - loss: 0.1215 - acc: 0.9668",
            "\b\b\b\b\b\b\b\b\b\b\b\b\b\b\b\b\b\b\b\b\b\b\b\b\b\b\b\b\b\b\b\b\b\b\b\b\b\b\b\b\b\b\b\b\b\b\b\b\b\b\b\b\b\b\b\b\b\b\b\b\b\b\b\b\b\b\b\b\b\b\b\b\b\b\b\b\b\b\b\r600/600 [\u003d\u003d\u003d\u003d\u003d\u003d\u003d\u003d\u003d\u003d\u003d\u003d\u003d\u003d\u003d\u003d\u003d\u003d\u003d\u003d\u003d\u003d\u003d\u003d\u003d\u003d\u003d\u003d\u003d\u003d] - 0s 328us/sample - loss: 0.1286 - acc: 0.9617\n",
            "Epoch 6/15\n\r 32/600 [\u003e.............................] - ETA: 0s - loss: 0.1116 - acc: 0.9688",
            "\b\b\b\b\b\b\b\b\b\b\b\b\b\b\b\b\b\b\b\b\b\b\b\b\b\b\b\b\b\b\b\b\b\b\b\b\b\b\b\b\b\b\b\b\b\b\b\b\b\b\b\b\b\b\b\b\b\b\b\b\b\b\b\b\b\b\b\b\b\b\b\b\b\b\b\b\b\b\b",
            "\r192/600 [\u003d\u003d\u003d\u003d\u003d\u003d\u003d\u003d\u003e.....................] - ETA: 0s - loss: 0.0916 - acc: 0.9688",
            "\b\b\b\b\b\b\b\b\b\b\b\b\b\b\b\b\b\b\b\b\b\b\b\b\b\b\b\b\b\b\b\b\b\b\b\b\b\b\b\b\b\b\b\b\b\b\b\b\b\b\b\b\b\b\b\b\b\b\b\b\b\b\b\b\b\b\b\b\b\b\b\b\b\b\b\b\b\b\b\r352/600 [\u003d\u003d\u003d\u003d\u003d\u003d\u003d\u003d\u003d\u003d\u003d\u003d\u003d\u003d\u003d\u003d\u003e.............] - ETA: 0s - loss: 0.0994 - acc: 0.9574",
            "\b\b\b\b\b\b\b\b\b\b\b\b\b\b\b\b\b\b\b\b\b\b\b\b\b\b\b\b\b\b\b\b\b\b\b\b\b\b\b\b\b\b\b\b\b\b\b\b\b\b\b\b\b\b\b\b\b\b\b\b\b\b\b\b\b\b\b\b\b\b\b\b\b\b\b\b\b\b\b",
            "\r544/600 [\u003d\u003d\u003d\u003d\u003d\u003d\u003d\u003d\u003d\u003d\u003d\u003d\u003d\u003d\u003d\u003d\u003d\u003d\u003d\u003d\u003d\u003d\u003d\u003d\u003d\u003d\u003e...] - ETA: 0s - loss: 0.0912 - acc: 0.9651",
            "\b\b\b\b\b\b\b\b\b\b\b\b\b\b\b\b\b\b\b\b\b\b\b\b\b\b\b\b\b\b\b\b\b\b\b\b\b\b\b\b\b\b\b\b\b\b\b\b\b\b\b\b\b\b\b\b\b\b\b\b\b\b\b\b\b\b\b\b\b\b\b\b\b\b\b\b\b\b\b\r600/600 [\u003d\u003d\u003d\u003d\u003d\u003d\u003d\u003d\u003d\u003d\u003d\u003d\u003d\u003d\u003d\u003d\u003d\u003d\u003d\u003d\u003d\u003d\u003d\u003d\u003d\u003d\u003d\u003d\u003d\u003d] - 0s 332us/sample - loss: 0.0962 - acc: 0.9650\n",
            "Epoch 7/15\n\r 32/600 [\u003e.............................] - ETA: 0s - loss: 0.0586 - acc: 1.0000",
            "\b\b\b\b\b\b\b\b\b\b\b\b\b\b\b\b\b\b\b\b\b\b\b\b\b\b\b\b\b\b\b\b\b\b\b\b\b\b\b\b\b\b\b\b\b\b\b\b\b\b\b\b\b\b\b\b\b\b\b\b\b\b\b\b\b\b\b\b\b\b\b\b\b\b\b\b\b\b\b\r192/600 [\u003d\u003d\u003d\u003d\u003d\u003d\u003d\u003d\u003e.....................] - ETA: 0s - loss: 0.0627 - acc: 0.9844",
            "\b\b\b\b\b\b\b\b\b\b\b\b\b\b\b\b\b\b\b\b\b\b\b\b\b\b\b\b\b\b\b\b\b\b\b\b\b\b\b\b\b\b\b\b\b\b\b\b\b\b\b\b\b\b\b\b\b\b\b\b\b\b\b\b\b\b\b\b\b\b\b\b\b\b\b\b\b\b\b\r352/600 [\u003d\u003d\u003d\u003d\u003d\u003d\u003d\u003d\u003d\u003d\u003d\u003d\u003d\u003d\u003d\u003d\u003e.............] - ETA: 0s - loss: 0.0960 - acc: 0.9688",
            "\b\b\b\b\b\b\b\b\b\b\b\b\b\b\b\b\b\b\b\b\b\b\b\b\b\b\b\b\b\b\b\b\b\b\b\b\b\b\b\b\b\b\b\b\b\b\b\b\b\b\b\b\b\b\b\b\b\b\b\b\b\b\b\b\b\b\b\b\b\b\b\b\b\b\b\b\b\b\b",
            "\r512/600 [\u003d\u003d\u003d\u003d\u003d\u003d\u003d\u003d\u003d\u003d\u003d\u003d\u003d\u003d\u003d\u003d\u003d\u003d\u003d\u003d\u003d\u003d\u003d\u003d\u003e.....] - ETA: 0s - loss: 0.1056 - acc: 0.9688",
            "\b\b\b\b\b\b\b\b\b\b\b\b\b\b\b\b\b\b\b\b\b\b\b\b\b\b\b\b\b\b\b\b\b\b\b\b\b\b\b\b\b\b\b\b\b\b\b\b\b\b\b\b\b\b\b\b\b\b\b\b\b\b\b\b\b\b\b\b\b\b\b\b\b\b\b\b\b\b\b\r600/600 [\u003d\u003d\u003d\u003d\u003d\u003d\u003d\u003d\u003d\u003d\u003d\u003d\u003d\u003d\u003d\u003d\u003d\u003d\u003d\u003d\u003d\u003d\u003d\u003d\u003d\u003d\u003d\u003d\u003d\u003d] - 0s 345us/sample - loss: 0.1011 - acc: 0.9700\n",
            "Epoch 8/15\n\r 32/600 [\u003e.............................] - ETA: 0s - loss: 0.3643 - acc: 0.8750",
            "\b\b\b\b\b\b\b\b\b\b\b\b\b\b\b\b\b\b\b\b\b\b\b\b\b\b\b\b\b\b\b\b\b\b\b\b\b\b\b\b\b\b\b\b\b\b\b\b\b\b\b\b\b\b\b\b\b\b\b\b\b\b\b\b\b\b\b\b\b\b\b\b\b\b\b\b\b\b\b\r224/600 [\u003d\u003d\u003d\u003d\u003d\u003d\u003d\u003d\u003d\u003d\u003e...................] - ETA: 0s - loss: 0.1093 - acc: 0.9732",
            "\b\b\b\b\b\b\b\b\b\b\b\b\b\b\b\b\b\b\b\b\b\b\b\b\b\b\b\b\b\b\b\b\b\b\b\b\b\b\b\b\b\b\b\b\b\b\b\b\b\b\b\b\b\b\b\b\b\b\b\b\b\b\b\b\b\b\b\b\b\b\b\b\b\b\b\b\b\b\b\r384/600 [\u003d\u003d\u003d\u003d\u003d\u003d\u003d\u003d\u003d\u003d\u003d\u003d\u003d\u003d\u003d\u003d\u003d\u003d\u003e...........] - ETA: 0s - loss: 0.0960 - acc: 0.9740",
            "\b\b\b\b\b\b\b\b\b\b\b\b\b\b\b\b\b\b\b\b\b\b\b\b\b\b\b\b\b\b\b\b\b\b\b\b\b\b\b\b\b\b\b\b\b\b\b\b\b\b\b\b\b\b\b\b\b\b\b\b\b\b\b\b\b\b\b\b\b\b\b\b\b\b\b\b\b\b\b\r544/600 [\u003d\u003d\u003d\u003d\u003d\u003d\u003d\u003d\u003d\u003d\u003d\u003d\u003d\u003d\u003d\u003d\u003d\u003d\u003d\u003d\u003d\u003d\u003d\u003d\u003d\u003d\u003e...] - ETA: 0s - loss: 0.0885 - acc: 0.9761",
            "\b\b\b\b\b\b\b\b\b\b\b\b\b\b\b\b\b\b\b\b\b\b\b\b\b\b\b\b\b\b\b\b\b\b\b\b\b\b\b\b\b\b\b\b\b\b\b\b\b\b\b\b\b\b\b\b\b\b\b\b\b\b\b\b\b\b\b\b\b\b\b\b\b\b\b\b\b\b\b\r600/600 [\u003d\u003d\u003d\u003d\u003d\u003d\u003d\u003d\u003d\u003d\u003d\u003d\u003d\u003d\u003d\u003d\u003d\u003d\u003d\u003d\u003d\u003d\u003d\u003d\u003d\u003d\u003d\u003d\u003d\u003d] - 0s 320us/sample - loss: 0.0850 - acc: 0.9783\n",
            "Epoch 9/15\n\r 32/600 [\u003e.............................] - ETA: 0s - loss: 0.0268 - acc: 1.0000",
            "\b\b\b\b\b\b\b\b\b\b\b\b\b\b\b\b\b\b\b\b\b\b\b\b\b\b\b\b\b\b\b\b\b\b\b\b\b\b\b\b\b\b\b\b\b\b\b\b\b\b\b\b\b\b\b\b\b\b\b\b\b\b\b\b\b\b\b\b\b\b\b\b\b\b\b\b\b\b\b",
            "\r192/600 [\u003d\u003d\u003d\u003d\u003d\u003d\u003d\u003d\u003e.....................] - ETA: 0s - loss: 0.0306 - acc: 0.9948",
            "\b\b\b\b\b\b\b\b\b\b\b\b\b\b\b\b\b\b\b\b\b\b\b\b\b\b\b\b\b\b\b\b\b\b\b\b\b\b\b\b\b\b\b\b\b\b\b\b\b\b\b\b\b\b\b\b\b\b\b\b\b\b\b\b\b\b\b\b\b\b\b\b\b\b\b\b\b\b\b\r352/600 [\u003d\u003d\u003d\u003d\u003d\u003d\u003d\u003d\u003d\u003d\u003d\u003d\u003d\u003d\u003d\u003d\u003e.............] - ETA: 0s - loss: 0.0872 - acc: 0.9773",
            "\b\b\b\b\b\b\b\b\b\b\b\b\b\b\b\b\b\b\b\b\b\b\b\b\b\b\b\b\b\b\b\b\b\b\b\b\b\b\b\b\b\b\b\b\b\b\b\b\b\b\b\b\b\b\b\b\b\b\b\b\b\b\b\b\b\b\b\b\b\b\b\b\b\b\b\b\b\b\b",
            "\r544/600 [\u003d\u003d\u003d\u003d\u003d\u003d\u003d\u003d\u003d\u003d\u003d\u003d\u003d\u003d\u003d\u003d\u003d\u003d\u003d\u003d\u003d\u003d\u003d\u003d\u003d\u003d\u003e...] - ETA: 0s - loss: 0.0858 - acc: 0.9743",
            "\b\b\b\b\b\b\b\b\b\b\b\b\b\b\b\b\b\b\b\b\b\b\b\b\b\b\b\b\b\b\b\b\b\b\b\b\b\b\b\b\b\b\b\b\b\b\b\b\b\b\b\b\b\b\b\b\b\b\b\b\b\b\b\b\b\b\b\b\b\b\b\b\b\b\b\b\b\b\b\r600/600 [\u003d\u003d\u003d\u003d\u003d\u003d\u003d\u003d\u003d\u003d\u003d\u003d\u003d\u003d\u003d\u003d\u003d\u003d\u003d\u003d\u003d\u003d\u003d\u003d\u003d\u003d\u003d\u003d\u003d\u003d] - 0s 335us/sample - loss: 0.0880 - acc: 0.9717\n",
            "Epoch 10/15\n\r 32/600 [\u003e.............................] - ETA: 0s - loss: 0.0351 - acc: 1.0000",
            "\b\b\b\b\b\b\b\b\b\b\b\b\b\b\b\b\b\b\b\b\b\b\b\b\b\b\b\b\b\b\b\b\b\b\b\b\b\b\b\b\b\b\b\b\b\b\b\b\b\b\b\b\b\b\b\b\b\b\b\b\b\b\b\b\b\b\b\b\b\b\b\b\b\b\b\b\b\b\b\r192/600 [\u003d\u003d\u003d\u003d\u003d\u003d\u003d\u003d\u003e.....................] - ETA: 0s - loss: 0.0614 - acc: 0.9896",
            "\b\b\b\b\b\b\b\b\b\b\b\b\b\b\b\b\b\b\b\b\b\b\b\b\b\b\b\b\b\b\b\b\b\b\b\b\b\b\b\b\b\b\b\b\b\b\b\b\b\b\b\b\b\b\b\b\b\b\b\b\b\b\b\b\b\b\b\b\b\b\b\b\b\b\b\b\b\b\b\r352/600 [\u003d\u003d\u003d\u003d\u003d\u003d\u003d\u003d\u003d\u003d\u003d\u003d\u003d\u003d\u003d\u003d\u003e.............] - ETA: 0s - loss: 0.0750 - acc: 0.9773",
            "\b\b\b\b\b\b\b\b\b\b\b\b\b\b\b\b\b\b\b\b\b\b\b\b\b\b\b\b\b\b\b\b\b\b\b\b\b\b\b\b\b\b\b\b\b\b\b\b\b\b\b\b\b\b\b\b\b\b\b\b\b\b\b\b\b\b\b\b\b\b\b\b\b\b\b\b\b\b\b",
            "\r512/600 [\u003d\u003d\u003d\u003d\u003d\u003d\u003d\u003d\u003d\u003d\u003d\u003d\u003d\u003d\u003d\u003d\u003d\u003d\u003d\u003d\u003d\u003d\u003d\u003d\u003e.....] - ETA: 0s - loss: 0.0629 - acc: 0.9824",
            "\b\b\b\b\b\b\b\b\b\b\b\b\b\b\b\b\b\b\b\b\b\b\b\b\b\b\b\b\b\b\b\b\b\b\b\b\b\b\b\b\b\b\b\b\b\b\b\b\b\b\b\b\b\b\b\b\b\b\b\b\b\b\b\b\b\b\b\b\b\b\b\b\b\b\b\b\b\b\b\r600/600 [\u003d\u003d\u003d\u003d\u003d\u003d\u003d\u003d\u003d\u003d\u003d\u003d\u003d\u003d\u003d\u003d\u003d\u003d\u003d\u003d\u003d\u003d\u003d\u003d\u003d\u003d\u003d\u003d\u003d\u003d] - 0s 339us/sample - loss: 0.0693 - acc: 0.9817\n",
            "Epoch 11/15\n\r 32/600 [\u003e.............................] - ETA: 0s - loss: 0.0398 - acc: 1.0000",
            "\b\b\b\b\b\b\b\b\b\b\b\b\b\b\b\b\b\b\b\b\b\b\b\b\b\b\b\b\b\b\b\b\b\b\b\b\b\b\b\b\b\b\b\b\b\b\b\b\b\b\b\b\b\b\b\b\b\b\b\b\b\b\b\b\b\b\b\b\b\b\b\b\b\b\b\b\b\b\b\r192/600 [\u003d\u003d\u003d\u003d\u003d\u003d\u003d\u003d\u003e.....................] - ETA: 0s - loss: 0.0606 - acc: 0.9844",
            "\b\b\b\b\b\b\b\b\b\b\b\b\b\b\b\b\b\b\b\b\b\b\b\b\b\b\b\b\b\b\b\b\b\b\b\b\b\b\b\b\b\b\b\b\b\b\b\b\b\b\b\b\b\b\b\b\b\b\b\b\b\b\b\b\b\b\b\b\b\b\b\b\b\b\b\b\b\b\b\r352/600 [\u003d\u003d\u003d\u003d\u003d\u003d\u003d\u003d\u003d\u003d\u003d\u003d\u003d\u003d\u003d\u003d\u003e.............] - ETA: 0s - loss: 0.0605 - acc: 0.9858",
            "\b\b\b\b\b\b\b\b\b\b\b\b\b\b\b\b\b\b\b\b\b\b\b\b\b\b\b\b\b\b\b\b\b\b\b\b\b\b\b\b\b\b\b\b\b\b\b\b\b\b\b\b\b\b\b\b\b\b\b\b\b\b\b\b\b\b\b\b\b\b\b\b\b\b\b\b\b\b\b\r544/600 [\u003d\u003d\u003d\u003d\u003d\u003d\u003d\u003d\u003d\u003d\u003d\u003d\u003d\u003d\u003d\u003d\u003d\u003d\u003d\u003d\u003d\u003d\u003d\u003d\u003d\u003d\u003e...] - ETA: 0s - loss: 0.0531 - acc: 0.9890",
            "\b\b\b\b\b\b\b\b\b\b\b\b\b\b\b\b\b\b\b\b\b\b\b\b\b\b\b\b\b\b\b\b\b\b\b\b\b\b\b\b\b\b\b\b\b\b\b\b\b\b\b\b\b\b\b\b\b\b\b\b\b\b\b\b\b\b\b\b\b\b\b\b\b\b\b\b\b\b\b\r600/600 [\u003d\u003d\u003d\u003d\u003d\u003d\u003d\u003d\u003d\u003d\u003d\u003d\u003d\u003d\u003d\u003d\u003d\u003d\u003d\u003d\u003d\u003d\u003d\u003d\u003d\u003d\u003d\u003d\u003d\u003d] - 0s 318us/sample - loss: 0.0557 - acc: 0.9867\n",
            "Epoch 12/15\n\r 32/600 [\u003e.............................] - ETA: 0s - loss: 0.0061 - acc: 1.0000",
            "\b\b\b\b\b\b\b\b\b\b\b\b\b\b\b\b\b\b\b\b\b\b\b\b\b\b\b\b\b\b\b\b\b\b\b\b\b\b\b\b\b\b\b\b\b\b\b\b\b\b\b\b\b\b\b\b\b\b\b\b\b\b\b\b\b\b\b\b\b\b\b\b\b\b\b\b\b\b\b\r192/600 [\u003d\u003d\u003d\u003d\u003d\u003d\u003d\u003d\u003e.....................] - ETA: 0s - loss: 0.0318 - acc: 0.9948",
            "\b\b\b\b\b\b\b\b\b\b\b\b\b\b\b\b\b\b\b\b\b\b\b\b\b\b\b\b\b\b\b\b\b\b\b\b\b\b\b\b\b\b\b\b\b\b\b\b\b\b\b\b\b\b\b\b\b\b\b\b\b\b\b\b\b\b\b\b\b\b\b\b\b\b\b\b\b\b\b\r352/600 [\u003d\u003d\u003d\u003d\u003d\u003d\u003d\u003d\u003d\u003d\u003d\u003d\u003d\u003d\u003d\u003d\u003e.............] - ETA: 0s - loss: 0.0418 - acc: 0.9886",
            "\b\b\b\b\b\b\b\b\b\b\b\b\b\b\b\b\b\b\b\b\b\b\b\b\b\b\b\b\b\b\b\b\b\b\b\b\b\b\b\b\b\b\b\b\b\b\b\b\b\b\b\b\b\b\b\b\b\b\b\b\b\b\b\b\b\b\b\b\b\b\b\b\b\b\b\b\b\b\b\r512/600 [\u003d\u003d\u003d\u003d\u003d\u003d\u003d\u003d\u003d\u003d\u003d\u003d\u003d\u003d\u003d\u003d\u003d\u003d\u003d\u003d\u003d\u003d\u003d\u003d\u003e.....] - ETA: 0s - loss: 0.0446 - acc: 0.9883",
            "\b\b\b\b\b\b\b\b\b\b\b\b\b\b\b\b\b\b\b\b\b\b\b\b\b\b\b\b\b\b\b\b\b\b\b\b\b\b\b\b\b\b\b\b\b\b\b\b\b\b\b\b\b\b\b\b\b\b\b\b\b\b\b\b\b\b\b\b\b\b\b\b\b\b\b\b\b\b\b\r600/600 [\u003d\u003d\u003d\u003d\u003d\u003d\u003d\u003d\u003d\u003d\u003d\u003d\u003d\u003d\u003d\u003d\u003d\u003d\u003d\u003d\u003d\u003d\u003d\u003d\u003d\u003d\u003d\u003d\u003d\u003d] - 0s 345us/sample - loss: 0.0525 - acc: 0.9883\n",
            "Epoch 13/15\n\r 32/600 [\u003e.............................] - ETA: 0s - loss: 0.0400 - acc: 1.0000",
            "\b\b\b\b\b\b\b\b\b\b\b\b\b\b\b\b\b\b\b\b\b\b\b\b\b\b\b\b\b\b\b\b\b\b\b\b\b\b\b\b\b\b\b\b\b\b\b\b\b\b\b\b\b\b\b\b\b\b\b\b\b\b\b\b\b\b\b\b\b\b\b\b\b\b\b\b\b\b\b\r224/600 [\u003d\u003d\u003d\u003d\u003d\u003d\u003d\u003d\u003d\u003d\u003e...................] - ETA: 0s - loss: 0.0311 - acc: 0.9911",
            "\b\b\b\b\b\b\b\b\b\b\b\b\b\b\b\b\b\b\b\b\b\b\b\b\b\b\b\b\b\b\b\b\b\b\b\b\b\b\b\b\b\b\b\b\b\b\b\b\b\b\b\b\b\b\b\b\b\b\b\b\b\b\b\b\b\b\b\b\b\b\b\b\b\b\b\b\b\b\b\r384/600 [\u003d\u003d\u003d\u003d\u003d\u003d\u003d\u003d\u003d\u003d\u003d\u003d\u003d\u003d\u003d\u003d\u003d\u003d\u003e...........] - ETA: 0s - loss: 0.0351 - acc: 0.9896",
            "\b\b\b\b\b\b\b\b\b\b\b\b\b\b\b\b\b\b\b\b\b\b\b\b\b\b\b\b\b\b\b\b\b\b\b\b\b\b\b\b\b\b\b\b\b\b\b\b\b\b\b\b\b\b\b\b\b\b\b\b\b\b\b\b\b\b\b\b\b\b\b\b\b\b\b\b\b\b\b",
            "\r544/600 [\u003d\u003d\u003d\u003d\u003d\u003d\u003d\u003d\u003d\u003d\u003d\u003d\u003d\u003d\u003d\u003d\u003d\u003d\u003d\u003d\u003d\u003d\u003d\u003d\u003d\u003d\u003e...] - ETA: 0s - loss: 0.0479 - acc: 0.9835",
            "\b\b\b\b\b\b\b\b\b\b\b\b\b\b\b\b\b\b\b\b\b\b\b\b\b\b\b\b\b\b\b\b\b\b\b\b\b\b\b\b\b\b\b\b\b\b\b\b\b\b\b\b\b\b\b\b\b\b\b\b\b\b\b\b\b\b\b\b\b\b\b\b\b\b\b\b\b\b\b\r600/600 [\u003d\u003d\u003d\u003d\u003d\u003d\u003d\u003d\u003d\u003d\u003d\u003d\u003d\u003d\u003d\u003d\u003d\u003d\u003d\u003d\u003d\u003d\u003d\u003d\u003d\u003d\u003d\u003d\u003d\u003d] - 0s 335us/sample - loss: 0.0461 - acc: 0.9850\n",
            "Epoch 14/15\n\r 32/600 [\u003e.............................] - ETA: 0s - loss: 0.0106 - acc: 1.0000",
            "\b\b\b\b\b\b\b\b\b\b\b\b\b\b\b\b\b\b\b\b\b\b\b\b\b\b\b\b\b\b\b\b\b\b\b\b\b\b\b\b\b\b\b\b\b\b\b\b\b\b\b\b\b\b\b\b\b\b\b\b\b\b\b\b\b\b\b\b\b\b\b\b\b\b\b\b\b\b\b",
            "\r192/600 [\u003d\u003d\u003d\u003d\u003d\u003d\u003d\u003d\u003e.....................] - ETA: 0s - loss: 0.0371 - acc: 0.9844",
            "\b\b\b\b\b\b\b\b\b\b\b\b\b\b\b\b\b\b\b\b\b\b\b\b\b\b\b\b\b\b\b\b\b\b\b\b\b\b\b\b\b\b\b\b\b\b\b\b\b\b\b\b\b\b\b\b\b\b\b\b\b\b\b\b\b\b\b\b\b\b\b\b\b\b\b\b\b\b\b\r384/600 [\u003d\u003d\u003d\u003d\u003d\u003d\u003d\u003d\u003d\u003d\u003d\u003d\u003d\u003d\u003d\u003d\u003d\u003d\u003e...........] - ETA: 0s - loss: 0.0462 - acc: 0.9818",
            "\b\b\b\b\b\b\b\b\b\b\b\b\b\b\b\b\b\b\b\b\b\b\b\b\b\b\b\b\b\b\b\b\b\b\b\b\b\b\b\b\b\b\b\b\b\b\b\b\b\b\b\b\b\b\b\b\b\b\b\b\b\b\b\b\b\b\b\b\b\b\b\b\b\b\b\b\b\b\b\r544/600 [\u003d\u003d\u003d\u003d\u003d\u003d\u003d\u003d\u003d\u003d\u003d\u003d\u003d\u003d\u003d\u003d\u003d\u003d\u003d\u003d\u003d\u003d\u003d\u003d\u003d\u003d\u003e...] - ETA: 0s - loss: 0.0465 - acc: 0.9798",
            "\b\b\b\b\b\b\b\b\b\b\b\b\b\b\b\b\b\b\b\b\b\b\b\b\b\b\b\b\b\b\b\b\b\b\b\b\b\b\b\b\b\b\b\b\b\b\b\b\b\b\b\b\b\b\b\b\b\b\b\b\b\b\b\b\b\b\b\b\b\b\b\b\b\b\b\b\b\b\b\r600/600 [\u003d\u003d\u003d\u003d\u003d\u003d\u003d\u003d\u003d\u003d\u003d\u003d\u003d\u003d\u003d\u003d\u003d\u003d\u003d\u003d\u003d\u003d\u003d\u003d\u003d\u003d\u003d\u003d\u003d\u003d] - 0s 332us/sample - loss: 0.0451 - acc: 0.9800\n",
            "Epoch 15/15\n\r 32/600 [\u003e.............................] - ETA: 0s - loss: 0.0112 - acc: 1.0000",
            "\b\b\b\b\b\b\b\b\b\b\b\b\b\b\b\b\b\b\b\b\b\b\b\b\b\b\b\b\b\b\b\b\b\b\b\b\b\b\b\b\b\b\b\b\b\b\b\b\b\b\b\b\b\b\b\b\b\b\b\b\b\b\b\b\b\b\b\b\b\b\b\b\b\b\b\b\b\b\b",
            "\r192/600 [\u003d\u003d\u003d\u003d\u003d\u003d\u003d\u003d\u003e.....................] - ETA: 0s - loss: 0.0414 - acc: 0.9844",
            "\b\b\b\b\b\b\b\b\b\b\b\b\b\b\b\b\b\b\b\b\b\b\b\b\b\b\b\b\b\b\b\b\b\b\b\b\b\b\b\b\b\b\b\b\b\b\b\b\b\b\b\b\b\b\b\b\b\b\b\b\b\b\b\b\b\b\b\b\b\b\b\b\b\b\b\b\b\b\b",
            "\r352/600 [\u003d\u003d\u003d\u003d\u003d\u003d\u003d\u003d\u003d\u003d\u003d\u003d\u003d\u003d\u003d\u003d\u003e.............] - ETA: 0s - loss: 0.0471 - acc: 0.9858",
            "\b\b\b\b\b\b\b\b\b\b\b\b\b\b\b\b\b\b\b\b\b\b\b\b\b\b\b\b\b\b\b\b\b\b\b\b\b\b\b\b\b\b\b\b\b\b\b\b\b\b\b\b\b\b\b\b\b\b\b\b\b\b\b\b\b\b\b\b\b\b\b\b\b\b\b\b\b\b\b",
            "\r512/600 [\u003d\u003d\u003d\u003d\u003d\u003d\u003d\u003d\u003d\u003d\u003d\u003d\u003d\u003d\u003d\u003d\u003d\u003d\u003d\u003d\u003d\u003d\u003d\u003d\u003e.....] - ETA: 0s - loss: 0.0439 - acc: 0.9883",
            "\b\b\b\b\b\b\b\b\b\b\b\b\b\b\b\b\b\b\b\b\b\b\b\b\b\b\b\b\b\b\b\b\b\b\b\b\b\b\b\b\b\b\b\b\b\b\b\b\b\b\b\b\b\b\b\b\b\b\b\b\b\b\b\b\b\b\b\b\b\b\b\b\b\b\b\b\b\b\b\r600/600 [\u003d\u003d\u003d\u003d\u003d\u003d\u003d\u003d\u003d\u003d\u003d\u003d\u003d\u003d\u003d\u003d\u003d\u003d\u003d\u003d\u003d\u003d\u003d\u003d\u003d\u003d\u003d\u003d\u003d\u003d] - 0s 354us/sample - loss: 0.0420 - acc: 0.9883\n"
          ],
          "output_type": "stream"
        },
        {
          "data": {
            "text/plain": "\u003ctensorflow.python.keras.callbacks.History at 0x1653b435fd0\u003e"
          },
          "metadata": {},
          "output_type": "execute_result",
          "execution_count": 8
        }
      ],
      "source": [
        "### START CODE HERE ### (1 line)\n",
        "happyModel.fit(X_train, Y_train, epochs\u003d15, batch_size\u003d32 )\n",
        "### END CODE HERE ###"
      ]
    },
    {
      "cell_type": "markdown",
      "metadata": {
        "pycharm": {}
      },
      "source": [
        "Note that if you run `fit()` again, the `model` will continue to train with the parameters it has already learnt instead of reinitializing them.\n",
        "\n",
        "**Exercise**: Implement step 4, i.e. test/evaluate the model."
      ]
    },
    {
      "cell_type": "code",
      "execution_count": 9,
      "metadata": {
        "scrolled": true,
        "pycharm": {
          "is_executing": false
        }
      },
      "outputs": [
        {
          "name": "stdout",
          "text": [
            "\r 32/150 [\u003d\u003d\u003d\u003d\u003d\u003e........................] - ETA: 0s - loss: 0.2681 - acc: 0.8750",
            "\b\b\b\b\b\b\b\b\b\b\b\b\b\b\b\b\b\b\b\b\b\b\b\b\b\b\b\b\b\b\b\b\b\b\b\b\b\b\b\b\b\b\b\b\b\b\b\b\b\b\b\b\b\b\b\b\b\b\b\b\b\b\b\b\b\b\b\b\b\b\b\b\b\b\b\b\b\b\b\r150/150 [\u003d\u003d\u003d\u003d\u003d\u003d\u003d\u003d\u003d\u003d\u003d\u003d\u003d\u003d\u003d\u003d\u003d\u003d\u003d\u003d\u003d\u003d\u003d\u003d\u003d\u003d\u003d\u003d\u003d\u003d] - 0s 638us/sample - loss: 0.2497 - acc: 0.9067\n",
            "\nLoss \u003d 0.24965942819913228\nTest Accuracy \u003d 0.9066667\n"
          ],
          "output_type": "stream"
        }
      ],
      "source": [
        "### START CODE HERE ### (1 line)\n",
        "preds \u003d happyModel.evaluate(X_test, Y_test)\n",
        "### END CODE HERE ###\n",
        "print()\n",
        "print (\"Loss \u003d \" + str(preds[0]))\n",
        "print (\"Test Accuracy \u003d \" + str(preds[1]))"
      ]
    },
    {
      "cell_type": "markdown",
      "metadata": {
        "pycharm": {}
      },
      "source": [
        "If your `happyModel()` function worked, you should have observed much better than random-guessing (50%) accuracy on the train and test sets.\n",
        "\n",
        "To give you a point of comparison, our model gets around **95% test accuracy in 40 epochs** (and 99% train accuracy) with a mini batch size of 16 and \"adam\" optimizer. But our model gets decent accuracy after just 2-5 epochs, so if you\u0027re comparing different models you can also train a variety of models on just a few epochs and see how they compare. \n",
        "\n",
        "If you have not yet achieved a very good accuracy (let\u0027s say more than 80%), here\u0027re some things you can play around with to try to achieve it:\n",
        "\n",
        "- Try using blocks of CONV-\u003eBATCHNORM-\u003eRELU such as:\n",
        "```python\n",
        "X \u003d Conv2D(32, (3, 3), strides \u003d (1, 1), name \u003d \u0027conv0\u0027)(X)\n",
        "X \u003d BatchNormalization(axis \u003d 3, name \u003d \u0027bn0\u0027)(X)\n",
        "X \u003d Activation(\u0027relu\u0027)(X)\n",
        "```\n",
        "until your height and width dimensions are quite low and your number of channels quite large (≈32 for example). You are encoding useful information in a volume with a lot of channels. You can then flatten the volume and use a fully-connected layer.\n",
        "- You can use MAXPOOL after such blocks. It will help you lower the dimension in height and width.\n",
        "- Change your optimizer. We find Adam works well. \n",
        "- If the model is struggling to run and you get memory issues, lower your batch_size (12 is usually a good compromise)\n",
        "- Run on more epochs, until you see the train accuracy plateauing. \n",
        "\n",
        "Even if you have achieved a good accuracy, please feel free to keep playing with your model to try to get even better results. \n",
        "\n",
        "**Note**: If you perform hyperparameter tuning on your model, the test set actually becomes a dev set, and your model might end up overfitting to the test (dev) set. But just for the purpose of this assignment, we won\u0027t worry about that here.\n"
      ]
    },
    {
      "cell_type": "markdown",
      "metadata": {
        "pycharm": {}
      },
      "source": [
        "## 3 - Conclusion\n",
        "\n",
        "Congratulations, you have solved the Happy House challenge! \n",
        "\n",
        "Now, you just need to link this model to the front-door camera of your house. We unfortunately won\u0027t go into the details of how to do that here. "
      ]
    },
    {
      "cell_type": "markdown",
      "metadata": {
        "pycharm": {}
      },
      "source": [
        "\u003cfont color\u003d\u0027blue\u0027\u003e\n",
        "**What we would like you to remember from this assignment:**\n",
        "- Keras is a tool we recommend for rapid prototyping. It allows you to quickly try out different model architectures. Are there any applications of deep learning to your daily life that you\u0027d like to implement using Keras? \n",
        "- Remember how to code a model in Keras and the four steps leading to the evaluation of your model on the test set. Create-\u003eCompile-\u003eFit/Train-\u003eEvaluate/Test."
      ]
    },
    {
      "cell_type": "markdown",
      "metadata": {
        "pycharm": {}
      },
      "source": [
        "## 4 - Test with your own image (Optional)\n",
        "\n",
        "Congratulations on finishing this assignment. You can now take a picture of your face and see if you could enter the Happy House. To do that:\n",
        "    1. Click on \"File\" in the upper bar of this notebook, then click \"Open\" to go on your Coursera Hub.\n",
        "    2. Add your image to this Jupyter Notebook\u0027s directory, in the \"images\" folder\n",
        "    3. Write your image\u0027s name in the following code\n",
        "    4. Run the code and check if the algorithm is right (0 is unhappy, 1 is happy)!\n",
        "    \n",
        "The training/test sets were quite similar; for example, all the pictures were taken against the same background (since a front door camera is always mounted in the same position). This makes the problem easier, but a model trained on this data may or may not work on your own data. But feel free to give it a try! "
      ]
    },
    {
      "cell_type": "code",
      "execution_count": null,
      "metadata": {
        "collapsed": true,
        "pycharm": {}
      },
      "outputs": [],
      "source": [
        "### START CODE HERE ###\n",
        "img_path \u003d \u0027images/my_image.jpg\u0027\n",
        "### END CODE HERE ###\n",
        "img \u003d image.load_img(img_path, target_size\u003d(64, 64))\n",
        "imshow(img)\n",
        "\n",
        "x \u003d image.img_to_array(img)\n",
        "x \u003d np.expand_dims(x, axis\u003d0)\n",
        "x \u003d preprocess_input(x)\n",
        "\n",
        "print(happyModel.predict(x))"
      ]
    },
    {
      "cell_type": "markdown",
      "metadata": {
        "pycharm": {}
      },
      "source": [
        "## 5 - Other useful functions in Keras (Optional)\n",
        "\n",
        "Two other basic features of Keras that you\u0027ll find useful are:\n",
        "- `model.summary()`: prints the details of your layers in a table with the sizes of its inputs/outputs\n",
        "- `plot_model()`: plots your graph in a nice layout. You can even save it as \".png\" using SVG() if you\u0027d like to share it on social media ;). It is saved in \"File\" then \"Open...\" in the upper bar of the notebook.\n",
        "\n",
        "Run the following code."
      ]
    },
    {
      "cell_type": "code",
      "execution_count": null,
      "metadata": {
        "collapsed": true,
        "scrolled": false,
        "pycharm": {}
      },
      "outputs": [],
      "source": [
        "happyModel.summary()"
      ]
    },
    {
      "cell_type": "code",
      "execution_count": 18,
      "metadata": {
        "collapsed": true,
        "pycharm": {
          "is_executing": false
        }
      },
      "outputs": [
        {
          "data": {
            "image/png": "iVBORw0KGgoAAAANSUhEUgAAAfkAAANQCAYAAAArOhbrAAAABmJLR0QA/wD/AP+gvaeTAAAgAElEQVR4nOzdcWwb130H8C/jOO5WtBTcQXbtwh6C1EGAFawTzFGadIYVY0G8HpO1kWNKVVwUikEOtZvC+mPVSBiGBKd/UGjhFYhAESgCQaZg+4+MxBoUiLTZCGK5WDuyXVBYMBRTWdOSwADe8sfWBOnbH9o73R3vyDuK5B2P3w9AJLo7vvd4R/N39+7d+4WEEAJEREQUOPd53QAiIiLqDAZ5IiKigGKQJyIiCigGeSIiooC63+sGdNrU1BTu3r3rdTOIiMhnduzYgR/+8IfYu3ev103pmMBfyb/66qu4du2a180gsnTt2jVsbGx43Qzf29jY4L9jarulpSWsrKx43YyOCvyVPAAsLi5idHTU62YQ1QmFQjh37hy/n01cuXIFY2NjuHr1qtdNoQAJhUJeN6HjAn8lT0RE1K8Y5ImIiAKKQZ6IiCigGOSJiIgCikGeiIgooBjkiQIglUohlUp53QzfqlarmJ2d9boZ1Eazs7NQVdXrZvgegzwRbZuqqr59HKlareLChQs4fPgwQqEQQqGQ7QmRXK9/9YJSqYT5+XlEo9GGbZ6fn2/LZ+pGfdVqFalUSjsOS0tLhvXHjx/H+Pg4qtVqS+X3DRFwAMTi4qLXzSCyFJTvZz6fF538OVlcXGyp/FqtJhRFEbdu3dL+zuVyAoBIJpOW76lUKgKAqFQq22pzt6TTaaEoisjn86JcLttuVywWBYBtH6du1FepVLRjJoTQjlk6nTZsd+vWLaEoiqjVaq7rECI4//4a4ZU8EW2LqqqYn5/3uhmWstksIpEIhoaGAADhcBinTp0CAMzMzNRdHQLA4OCg4b9+lkgkUKvVsLCwAEVRcODAAcvtVFXF9evXe6a+9fV17ZgB0I7Z5OSkYbuhoSHs378f2Wy25bqCjkGeqMdVq1UsLS0hGo1a/l0oFBAKhRCNRrUpdKvVKgqFgraN7FZNJBJYW1vTyrbqtjYvS6fTKBQKhnWA9+MEqtUqJicncezYMcv16XQasVjMMtBbUVUVS0tL2mecn583dBU72e/6bWdnZ7X1rUytKvft9PQ0wuFww22z2SzOnj3rug6v6tMHeADavfdkMlm37cjICCYnJ9ltb8frroROQx90x1Dvasf3U1EUQ7eo/m/Z5VkulwUAEY/HtXrN29RqNRGPxwUAcefOHSHEVte1/qdClqVfZv5bCCGSyaRtl7hbrXTXy1sIVl3KsqxkMikAiGKxaLleT1EUkclkhBCb+0VRFENXsZP9rn9vLpcTQgixvLxs2YZGZFd4Pp8XmUxGABCKoojl5eW6bZeXl7X2WB0nP9anVy6XteMkv5fm9bJtbvVDfGCQJ/JQu76fToKuk23kj7n+3merZbVTK0FeBgYrcrm8Z28OIOb3yUCsv09/69YtAUAL1vJ9zfaVvL9s3sbNCVE6nTacGOhP0PT3siuVinZiYtc+P9Yn6U8ozd9LqVar2a5rph/iA4M8kYf8FuTbXVa7tBLkG7VJv1z2ViiKogVx8/tkQNOTwUVRlIZ1mpfpr/jNr+18NnmCpu810Adcu/f5sT6zYrGonbSZ69hOPf0QHxjkiTzEIO9MJ4O8EFsBS3a/N/u8dsu7ta+ctMdq9Hs7g3wn67Ny584dx8fBqX6IDxx4R0R14vG4103oqkgkgnw+j0KhgHQ6XbdeURQAsBzc1eq+0g9wdEvWaTUZjGxrNBrFwYMHbQdP+rk+K4cOHdp2Gf2IQZ6INDLwnDhxwuOWbJ8M1k5nRVMUBblcDjMzM3XrRkdHAWw+2iXJckdGRly1K5PJAAAWFha0MtzOyCfrvHfvXl17ZFvFZk+t4SXp/9+P9VmR9eVyOcv1ViPviUGeqOeZH+PS/y1/GPWBznw1Kh8hU1VVe/5ZXp0BW1dx8gRgdXVVW5dIJAAYr3RlsPL6ETp55WcO8vLzW12Vnzp1yjJYPPvss1AUBZcuXdLe9+abbyIej2N4eLiuvEb7/bnnngOw+Zz+wMAAQqEQ9uzZowVS+WhdqVSy/WzDw8NIJpNIpVJauVevXoWiKNoz5U75sb5oNIrZ2Vnt0UNVVZFOp5FMJuvqk9scOXLEVTv6hjd3CboHfXDPhXpXO76fsBnEBd19ykbLisWiNhgsk8nUzR5WLpe19fIxJfkImByoJu9pJ5NJbZnXj9DJAXX60d92+8dMP5hOX558fAzYHFWv31dO97sQxsfC4vG44V52MpkU8Xjcsg1m+vZYHTszq8/sx/rk44/ylU6nDcdRTz7l0MoMhf0QH0JCtKEfxcdCoRAWFxe1LiUiP/Hy+ynvk/bCT8CVK1cwNjbmuq2yV+H8+fOu3qeqatMJXzotGo0in8+zviZSqRQGBgZcH2OgP+IDu+uJKLAmJiZw48YNwy0GJ7wO8Kurq5iammJ9TZRKJZRKJUxMTLShVcHEIE/Uh8z38YMqHA4jm83i0qVLDe8B+8nKygp2795dN7Ur6zNaW1vD3Nwcstms5ydlfna/1w3wG/38zERBtWfPHsP/90KXfasGBwexsLCgJavxOzmQj/U1VigUcPHixZ5IJOQlXsn7zHbycquqitXVVS3Pcyus8ml7lVPbvC/81LZeJ2wedQqqcDjc0j1b8q/z588zwDvAK3kTr6/gb9682fJ75XPBVs/5OiWEgKqqGBgYAADUajXPusLM+0IIgWq1ql2Fetk2IqJewCDvI9vNyy1PULYT5AHjoCOvgqjdvtCfuTPAExE1xu56Hb/m5W6nVico6cV9IU8U5PvlRB5yMg750s80pl+n/1xWub/1n1dVVSQSCU8nfyEiquPR8/ldAxeTHfg1L3crn9muDKcTlJjL8NO+cLqPZL2VSqWurXICDX0GLf1nlRNrNMr9bd4nxWLRsrxG3Hw/+1krk+EQNdMP//4C/6/G7UF0EmicbONlXu5OleGXfeH088mZtezeJ3Nk62cbKxaLhvzgzXJ/yzKbzfxlpx9+ZNqBQZ46oR/+/QX+X41XQb7dZbnhtyDvdLt2B3mpXC5rAV3/Pnnyoc9PnU6nDUG/We7v7e5ru7L54ouv7ryCHuQ58I4CbX5+XksfOjk5aVgXiUQQj8dx5swZnDx5EgBw9+5dHDhwQNtGjgsQHXzM7Ny5c3jqqac6Vn4QvP3227h8+TKuXr3qdVMoQOS/+yBjkO+wfsvL3Ui39kUikcBrr72GpaUlnDlzBuVy2RC4zW2am5vDm2++iU9/+tM4ffq05XZra2sdy2f9+OOPu05X2m8+/vhjAO7TuhL1O46u75Ag5eXerm7ui9XVVRw9ehQAEIvFAMA2wANbV/OxWAzz8/N1U222I/c3EZFXGOR1/JqX2w19+8x5tAFnj9BZleGXfdFonvXV1VU88cQTeOSRRwzv39jYMDzCZy5DXr3r2yc1yv0d5DnfiSggvB4U0GlwMbACTQZoWG2jX9apvNxuPqtdu6Vmj9A12wde7gunbZN1md8vR9vrB9ZJiqJoj/iZ2eX+1tfpJBe33f4O+sCfduDoeuqEfvj3x3zybaoD6OzgrF7Ri/tCVVX8/d//PV577bWu190P+azbodV88kSN9MO/P3bXU9+7evUqB3QRUSAxyG9Tv+TldqKX9kUqlTJMX9vtdJvUXRwsGTyzs7OW447IiEF+m8x5udvNLr2qH9OtdnpftJMccZ/JZDzPPOiV7aQ19kP5TlWrVVy4cAGHDx825DGw4td/W82USiUtxXSjNstcDr1QX7VaNZyMy8G80vHjxzE+Pu77CwrPeToioAvQBwMrqHd5+f3M5/MdHczWzvJbHXhXq9WEoiiGXApyqmK7AahykKfbga9eSafTQlEUkc/nLQeVSnIg6naPSTfqq1Qq2jETYmt6af3U2EJs5qBQFIXTSjfAK3miPrTdtMZel+9UNptFJBLR5j8Ih8M4deoUgM3HIs1Xh8BWOmN9WmO/SiQSqNVq2mOqdnNCqKqK69ev90x96+vrhjkr5DEzz1o5NDSE/fv3I5vNtlxX0DHIE/UYVVWxtLSkdWPOz88buixbTeXbjVTBraY6bkW1WsXk5CSOHTtmuT6dTiMWi1kGeivN9ruTdMz6ba3SF7sh9+P09DTC4XDDbbPZLM6ePeu6Dq/qM09KJe+9J5PJum1HRkYwOTnJbns7XncldBr6oDuGelcr309FUbSkOjIVrr7LstVUvtA999+pVMFOUx2btdJdL28XWHUpy7Lk/AfFYtFyvV6z/e4kHbP+vVbpi52SXeH5fF5kMhltrobl5eW6bZeXl7X2WB0TP9anp5+nwmouC7mP5XwbbvRDfGCQJ/KQ2++nDAj6+8W3bt0SAAwpcq1+XJ0EYatlXqZNlloJ8jIwWJHL5T17cwAxv6+d+71Z+mInZFZFeWKgPxnT38uuVCqGLIutHpNu1yfpTx7N30GpVqvZrmumH+IDgzyRh9x+P+UPq578kdPPutfOIN/qe70O8o3q1y+XPROKomhB3Py+du73ZumLW/1s8mRM32ugD7h27/NjfWbFYlE7aTPXsZ16+iE+MMgTecjt97PTQbgfg7wQWwFLdr/7fb84aY/V6Pd2BvlO1mflzp07jo+DU/0QHzjwjqiH6JP2mHU6lW+Q0yZHIhHk83kUCgWk0+m69Z3Y7/rBjG7JOq0mg5FtjUajOHjwoO1AST/XZ6VTqZ6DjkGeqIfIObbX19e1ZfKHt1NT8/Zq2mQZrJ3OiqYoCnK5HGZmZurWtXO/tyN9sazz3r17de2RbRWbPbWGl6T/fz/WZ0XWl8vlLNdbjbwntKkfxcfQB90x1Lvcfj/lQDH9/eNcLme4LyqEqBsRLweJQXcPVd4brlQq2qAluY0cTFar1UQymazLstdq+X4YXd9sshurAXtO9rv+qQM54l52/evrs8uoKNtpHuRmRx4XWW4mk2maDVHWpefH+hRFEel0Wtsn8nto9d3h6PrGGOSJPNTK91OOYNYH5HalNZZldiptcjeDvAym+tHfVsHVilXwarbfrcq1q8sufbEQQkuJ7CR9sb49VsfJzOoz+7E+eYImX+l02nAc9eQJZiszFPZDfGCqWSIP+e376ddUwa2mmpVd4OfPn3f1PlVVm0740mnRaBT5fJ71NZFKpTAwMOD6GAP++/fXCbwnT0SBNTExgRs3bmB1ddXV+7wO8Kurq5iammJ9TZRKJZRKJUxMTLShVcHEIE9EAHorVbBT4XAY2WwWly5dQqlU8ro5jqysrGD37t11U7uyPqO1tTXMzc0hm816flLmZ/d73QAi8gdzqmC/ddm3anBwEAsLC1qyGr8bHh5mfQ4UCgVcvHixJxIJeYlBnogA+O8+fDuFw+GW7tmSf/F4OsPueiIiooBikCciIgooBnkiIqKAYpAnIiIKqL4YeHft2jXs3LnT62YQWbp9+za/n03cvn0bwOa/ZSJyLvAz3u3atQsfffSR180gIiIfun37No4cOeJ1Mzom8EGeiLb0wzSeRLSF9+SJiIgCikGeiIgooBjkiYiIAopBnoiIKKAY5ImIiAKKQZ6IiCigGOSJiIgCikGeiIgooBjkiYiIAopBnoiIKKAY5ImIiAKKQZ6IiCigGOSJiIgCikGeiIgooBjkiYiIAopBnoiIKKAY5ImIiAKKQZ6IiCigGOSJiIgCikGeiIgooBjkiYiIAopBnoiIKKAY5ImIiAKKQZ6IiCigGOSJiIgCikGeiIgooBjkiYiIAopBnoiIKKAY5ImIiAKKQZ6IiCigGOSJiIgCikGeiIgooBjkiYiIAup+rxtARJ1RLBbxs5/9rG55oVDA+++/r/390EMP4Rvf+EY3m0ZEXRISQgivG0FE7ffd734Xly9fxq5du2y3+cMf/gAA4M8AUTCxu54ooL7+9a8D2Azkdq8HHngA3/nOdzxuKRF1Cq/kiQLqj3/8I/bv34/f//73Dbd7++238eSTT3apVUTUTbySJwqo++67D2NjY3jggQdst9m3bx++8pWvdLFVRNRNDPJEARaLxfDRRx9Zrtu5cydeeuklhEKhLreKiLqF3fVEAffggw/ivffes1z3q1/9Cl/60pe63CIi6hZeyRMF3Le+9S3s3LmzbvkXv/hFBniigGOQJwq4WCyGjz/+2LBs586dOH36tEctIqJuYXc9UR+IRCL49a9/rT0PHwqFcPfuXTz44IMet4yIOolX8kR94PTp09ixYweAzQD/6KOPMsAT9QEGeaI+cOrUKXzyyScAgB07dmB8fNzjFhFRNzDIE/WBffv24atf/SqAzUlyXnzxRY9bRETdwCBP1CfGxsYAAI899hj27t3rcWuIqCuEye3btwUAvvjiiy+++OKrh17/8A//YA7poi7V7N27dwEAV69eNa8ioh6nqio++9nPdmSWu8uXLwMAzp071/ayg+bkyZM4d+4cnnrqKa+bQgExNjZmOemVbT75kZGRjjaIiILljTfeAMDfDqcef/xx7itqG/nvz4z35ImIiAKKQZ6IiCigGOSJiIgCikGeiIgooBjkiYiIAopBnoh8J5VKIZVKed0MX6pWq5idnfW6GdRGs7OzUFW1I2UzyBMRmaiq2pG5BLarWq3iwoULOHz4MEKhEEKhkO3JkFyvf/WCUqmE+fl5RKPRhm2en59vy2fqRn3VahWpVEo7DktLS4b1x48fx/j4OKrVakvlN8IgT0S+Mz09jenpac/qv3nzpmd121FVFRMTEzh9+jSGh4dRq9WQy+UwMzNjGeiFEKhUKgCASqWCXsgqPjs7i1Qqhb179+LHP/6xbZtLpRLOnDnTE/VVq1Wsr69jenoaQgjkcjnEYjFDb0wkEsHU1BQmJibafkXPIE9EpKOqKubn571uRp1sNotIJIKhoSEAQDgcxqlTpwAAMzMzdVeHADA4OGj4r58lEgnUajUsLCxAURQcOHDAcjtVVXH9+vWeqW99fV07ZgC0YzY5OWnYbmhoCPv370c2m225LisM8kTkK9VqFUtLS4hGo5Z/FwoFhEIhRKNRbGxsaNsUCgVtG9m1mkgksLa2ppVt1XVtXpZOp1EoFAzrAG/HCVSrVUxOTuLYsWOW69PpNGKxmGWgt6KqKpaWlrTPNz8/b+gqdrLP9dvOzs5q61dWVlx/Prlfp6enEQ6HG26bzWZx9uxZ13V4VZ8+wAPQrtSTyWTdtiMjI5icnGxvt715MvvFxUVhsZiIqKHR0VExOjq67XIURdESbpj/vnXrlhBCiHK5LACIeDwuhBCGJB1ym1qtJuLxuAAg7ty5I4QQolKpGMrWl6VfZv5bCCGSyaRIJpPb/nyy/MXFRcfb5/N5AUCUy2XLsmT7AIhisWi5Xk9RFJHJZIQQm/tEURShKIqo1Wra+mb7XP/eXC4nhBBieXnZsg2NFItFAUDk83mRyWQEAKEoilheXq7bdnl5WWuP1THyY3165XJZO07yO2leL9vmlt2/PwZ5ImqLdgV5Iep/UK1+YJ1sI3/Q0+n0tstqJ7dBXgYGu7KE2DypkcFZH0DM75OBuFKpaMtu3bolAGjBWr6v2X7K5XKW27g5GUqn04YTA/3JmQywQmyeUMgTE7v2+bE+SX8yaf5OSrVazXZdMwzyRNRRfgzy7S6rXdwG+Ubt0S+XPRWKomhB3Pw+GdD0ZHBRFKVhneZl+it+82s7n02enOl7DfQB1+59fqzPrFgsaidt5jq2U4/dvz/ekyciCojBwUEUi0UUCgXbkdpzc3N1y+R9aTkWwSm5vdi8YDS8tiMSiRjaWigU8Mwzz2yrTL/UF4lEMD4+DgBteUKgGQZ5Igq8eDzudRO6JhKJIJ/Po1AoIJ1O161XFAUALAd3tbqf9IMb3ZJ1Wp2QyLZGo1EcPHjQduCkn+uzcujQoW2X4RSDPBEFlgw+J06c8Lgl2yODtdNnqBVF0Z6hNxsdHQWw+WiXJMt1m98+k8kAABYWFrQy3M7IJ+u8d+9eXXtkWxv1FLjtNeh2fVZkfblcznK91cj7VjHIE5GvmB/l0v8tfxz1wc58RSofI1NVVXsGWl6hAVtXcvIEYHV1VVuXSCQAGK92ZcDy8hE6eeVnDvLys1tdlZ86dcoyWDz77LNQFAWXLl3S3vfmm28iHo9jeHi4rrxG+/y5554DsPmc/sDAAEKhEPbs2aMFUvloXalUsv1sw8PDSCaTSKVSWrlXr16FoijaM+VO+bG+aDSK2dlZ7dFDVVWRTqeRTCbr6pPbHDlyxFU7GmGQJyJf2bNnj+H/9X8PDAwY/mveHgAeeeQRRKNRDAwM4MCBA1hYWDCs//73vw9FUfDwww+jUChgaGhIu/K9ePEiAGiz7f3jP/6jdv/US48//jgA4IMPPtCWyYAKbO4Dq27k6elpwwkOsHn/PZvNQlEUw/t+8IMfaNs43eeDg4Mol8vayUQ8Hke5XNYmlqnVaojH401PjmQ79e0xHzcn/Fjfyy+/jMnJSa37P5vN4m/+5m8sZ3SUx1ce73YICVPfw5UrVzA2NtYTUyASkX+MjY0BABYXFz2pX/5Y98JvVygUwuLiotY97ITsUTh//ryrulRVbTrhS6dFo1Hk83nW10QqlcLAwIDrYwzY//vjlTwRUQ+YmJjAjRs3DLcXnPA6wK+urmJqaor1NVEqlVAqlTAxMdGGVm1hkG8T8zSQbrbzW1pNp5+lnwXpeAeB+T5+EMlu9kuXLjW8B+wnKysr2L17d93UrqzPaG1tDXNzc8hms20/KWOQb5MLFy4gFos1fc7U6XbtsLGxgUQioc3h7XRO6VbbaJXa0vzqRh5su7qj0WjdHN2t6sXj3ey4FAqFjuW07jTzffygGhwcxMLCAt566y2vm+LI8PBwVx8X69X6CoUCLl682JlEQubZcTjjXevgcKYip9ttR61W0+Y/rtVq2vSTTudEbqWNACznf5bTbepnk+o0uznKG80b7VYvHm/9fpHzlAuxOQuXnL9cP92pG+2c8S7o4HLGO6JmOONdn7l586Y2qlafkrLTXfCPPfZY3TL5jK8cudwNVmfEBw4c0LJJ/fCHP+xaW7rB6fHW7xd9t2AkEtFSXHYipzUReaMtQb5R96hkl45QnyJSVVUkEgnD/cpmKRGdcpqKUtYp14dCIcPzlFbtikajtjM+NduulbSa0srKCqLRqNbdqm+j+bEZyWpGKyefxcl95OXl5br7SUtLS5iZmcH09HRd4PXiOyHboJ/as9+Ot53BwUG88sorKBQKuHnzpuP3EZGPmS/tW+muhymjkTktYqN0hOaUhsVi0dCt2ywlops26usRwjoVpRBbCRwqlYplekXZrng8rrVDdo+a912z7VpJq6nfx3IbfblWx08moLDqrnfyWVpJs2mV2UrqxnfCal/I/aAvr9+Ot9177PaPU+yudw7srqc261oWujt37tTdm22WjlD+6Jh/pJ2mRHTK6sfNKhVlMpk0/MiZ3yd/cPUnBvLHsZXtmv3tZhu7FIXLy8uWgdBpG92SgcruxKAb3wlZhj6lpLwnr08p2U/H264sN+vtMMg7xyBP7Wb376+tk+FUq1VMTEzg6NGjhof5o9Go7ehiIYTtJBaJRAJzc3OG5aqqYmBgAIqiuJ58wK4eu+UbGxu4du0aJicnDeut2mVVjtPtmv3ttOxGk4FEo1FMTU3VPerhtI1uye5nu2PUje+E1QxgyWQSL7zwgpZ1Sq8fjnez9zlZb2dsbAwbGxs4d+6cq/f1o5MnT+LcuXN46qmnvG4KBcTly5dx4MCB+smozFF/O1fyyWTSkI9YQotXDm6XN+OmvEwmIxRF0Xom9OudltPqdlbvMy+TPRDy6tWqR0LK5XKWeYvdtNENebXcaJR2N74Tbj5DvxzvRu0UYqvnwe2tGSE2ryRk2XzxxVf3Xx3trs9kMgLYug9vqOT/G2D32JJcbybvV5qDBdDaPUO7eszlya5k+VnM72tUTju2s3qf1bJ8Pi/S6bQAYLi/rVcsFhv+YDtto1Ny3+m7w/XM+7ST3wmnn6GfjnejdgqxdTvE6lHIZthd7xzA7npqr47ek5f3RO1+GOQJQDKZ1O4RVioV7SrE7kfHKmDIK41WfoSs6pFXbvoBSs1+hOXnkfd6t7tdKz/6+Xy+6eBD/T6WzIPYnLbRCfPVptmdO3e0ANSN74TTz9BPx9uuPvl+OYixFQzyzjHIU7t1LMjLAVbmHxc56Yb+/82vcrlsOWmJJCdR0U/QkcvlWp5URdYjg5AciGX+UZNXi+Vy2dB9K9sgP7OiKNrVn7wC0l9ROtlO//krlYrlZCX6wVuyDVb7U1+m/MG22kZ/QuP0szQbXS/b3WibdDptGBXfye+E1T6z00/HW182J8PxDoM8tVvHgrzdD4v5R1o/21g8Hq/rGpU/jmaVSkW7QpIB2u3jc5IsQ/+YViaTqStPXpEmk0lRqVS00df6WxHlcll79Er+0MouVP2PZLPtGu07uf+slpkfNTP/8Ms6rV7mLnInn6VZkG9Un/6lv9ru1Hei2XfRrF+Od6N60+m07S0WpxjknWOQp3bryuh6v+ulVJTNrK2t4VOf+pSWt1m//OGHHw7EZ6QtvXC8vU4120taSTVL1AhTzQbI0tISDh06VPeDD2wm58jlch60ijqFx5uIWnW/1w3oFnMqyo5k++mSK1eu4MMPP8Qzzzxj+OFfW1vDjRs38PLLL3vYOmo3Hm8ialXPX8k7SW8aCoUClYpyYWEBn/nMZ/Dqq68a5lv/z//8T/7gBxCPN+nJnA8UHLOzsx1LCtXzQV5sDh50/eplMsvYa6+9pn2e6elpDA8Pe9006gAeb2dUVbWc5bBXyneiWq3iwoULOHz4sOGEz4rVxY4fyf1q9VpaWjJsKxNXNZox02/1AZvHLZVK2dZz/PhxjI+Pt5R8rZmeD/JERAA6njnP68x8qqpiYmICp0+fxvDwMGq1GnK5HGZmZiwDvRAClUoFAFCpVHx7cfOb3/zGdp3+RHZpaQnz8/NYWFjAwsICfgqHHCgAACAASURBVPrTn2J+ft739VWrVayvr2N6ehpCCORyOcRiMUNvTCQSwdTUVEfSPDPIE1HPk+mCe7V8J7LZLCKRiJaPQPbwAMDMzEzd1SGwlVrZz2OQ7t27h3K5bOhprVQqSCaTWrs3NjYQi8UwNTWFcDiMcDiMeDyOM2fOoFQq+bq+9fV1Qw4JecxkjgxpaGgI+/fvRzabdVV+MwzyROQpVVWxtLSkdWXOz88bui2tupvNy9LptNadKpdXq1WtuxUA5ufnEQqFkEgksLa2tu3yASCVStl2l7dTtVrF5OQkjh07Zrk+nU4jFotZBnorzfZ5tVrF0tKStu8KhQJCoRCi0Sg2Njbq2jY7O6utX1lZcfXZhoeH654cWVlZwQsvvKD9/c477wAA9u3bpy37/Oc/DwD4+c9/7uv6zEmi5JV6Mpms23ZkZASTk5Nt7bZnkCciT42Pj+PDDz/UrqgKhYKh21J2OeuVy2XD39PT09r/y6uzPXv2aPdSV1dX8fLLL6NWqwEAHn74YS3Qt1p+N92+fRsA8NBDD1muP3/+PJLJJGKxmKMrzWb7fGJiArFYTNt3iqKgXC6jUCjg1Vdf1cqRmUf3798PIQReeeUVPP30066udq16GW7cuGHIFHnjxg0AMARn+T6398q7XZ/exsYG0uk0gM1jYCaPrzzebWGeHWe7+eSJqD+1MuOdnPZXP2ugzIWhz4EAi1kLzcucbCOEdQa/VstvFVzOeCdnhrQrS4itKZ9hmtXS/L527nOZS8K8TStZDKVisViX/8Ju37fjmHSrPjnttXxZZZCU005brWvG7t8fr+SJyDPXrl0DYLy6euSRRwBszg/QCfKKzXxP1M9mZmaabhMOh7X7uY26fNu5z+X25tsbTtpr5/r16119cqRb9R04cABCCBSLRSSTSUxOTtaN8wiHwwDa+91kkCciz8zNzdUtkz902+kW7VeDg4MoFot13e967dzncnvRpseU5YmJuUtdURTb98Tj8Zbq8qI+YPMkU3bVnzlzZltlOcEgT0SekT+mVled2/0xbabT5XslEokgn8+jUCho93/1OrHP9QMZt8M8AE6yarMcAPjoo4/2TH3SoUOHtl2GUwzyROQZmaBlfX1dWyavPkdGRjpSpwxIJ06c6Ej5nSCDtdNnqBVF0Z6hN2vnPs9kMgA2Z2WUZWxnRj7zADjpmWeeqWvzBx98YFjXC/VJcl/Z5Z2wGnnfKgZ5IvLMs88+C0VRcOnSJe2q6c0330Q8HjfcJ5VXmDJAr66uausSiQQA49WXOcjIR8tUVcXCwgIURTF0ybZafrceoZNXfuYgL/eZ1VX5qVOnLIOFk32uL0/Wqa9brn/uuecAbN6DHxgY0KYQlycL8tE6J6PtS6USjh49arnuwIEDyGQyeP3116GqKlRVxeuvv45MJmMYAe/H+qLRKGZnZ7WeAFVVkU6nkUwmtWfmJbnNkSNHmrbfMfNIPI6uJ6JWtJpPvlKpiEwmo406zuVyolarGbYpl8vayPF8Pi+EEEJRFJHL5bRR4nLUfDKZ1JbJMovFovb+TCbTtvKTyWRLI8nhcnR9pVIRAMStW7cMZZhfVhRFsSyv0T63KteurnK5rI3+j8fjolwua+uSyaSIx+OWbTDT71c7+XxeABCKoojl5WXLMvxWnyxDvtLptOE46smnHJq1ywrzyRNRR/kxn7wc7e2337NW8snL3oPz58+7qktVVW1gnVei0Sjy+TzrayKVSmFgYMD1MQaYT56IqKdNTEzgxo0bhlsJTngd4FdXVzE1NcX6miiVSiiVSpiYmGhDq7YwyBNRIJmnae118jn4S5cuuZ4/3SsrKyvYvXt33dSurM9obW0Nc3NzyGazbT8pu7+tpRER+cSePXsM/++3LvtWDA4OYmFhQUtW43fdTofcq/UVCgVcvHixI4mEGOSJKJCCENSthMPhlu7Zkn918niyu56IiCigGOSJiIgCikGeiIgooBjkiYiIAsp24N3Jkye72Q4i6nG3b98GwN8Opy5fvow33njD62ZQQFy7ds1ycqW6Ge9+//vf43vf+x4++eSTrjWOiLrjrbfewl/8xV9g7969XjeFiNpsfHy8Lk1uXZAnouBqZTpVIupdvCdPREQUUAzyREREAcUgT0REFFAM8kRERAHFIE9ERBRQDPJEREQBxSBPREQUUAzyREREAcUgT0REFFAM8kRERAHFIE9ERBRQDPJEREQBxSBPREQUUAzyREREAcUgT0REFFAM8kRERAHFIE9ERBRQDPJEREQBxSBPREQUUAzyREREAcUgT0REFFAM8kRERAHFIE9ERBRQDPJEREQBxSBPREQUUAzyREREAcUgT0REFFAM8kRERAHFIE9ERBRQDPJEREQBxSBPREQUUAzyREREAcUgT0REFFAhIYTwuhFE1H7ZbBZ/93d/h4cfflhb9v777+Nzn/sc/vRP/xQA8Lvf/Q5PPvkk/umf/smrZhJRB93vdQOIqDMqlQo+/vhj/Md//Idhuaqqhr8LhUI3m0VEXcTueqKAisViCIVCDbe5//778YMf/KBLLSKibmN3PVGA/eVf/iV+8YtfwO6feSgUwnvvvYeDBw92uWVE1A28kicKsG9+85vYsWOH5br77rsPR44cYYAnCjAGeaIAe/HFF/HHP/7Rcl0oFMLp06e73CIi6iYGeaIA27t3L44ePWp7NT8yMtLlFhFRNzHIEwXcSy+9VHdPfseOHTh27Bj+7M/+zKNWEVE3MMgTBdzf/u3f1l3JCyHw0ksvedQiIuoWBnmigAuHw3j22Wdx//1b02Ls3LkTzz//vIetIqJuYJAn6gPj4+P45JNPAGw+G/+1r30Nn/nMZzxuFRF1GoM8UR/42te+hj/5kz8BAHzyyScYGxvzuEVE1A0M8kR94FOf+hReeOEFAMCnP/1pnDhxwuMWEVE3cO56bCbtWF1d9boZRB31hS98AQBw8OBB5PN5j1tD1Flf+MIX8MQTT3jdDM9xWlsA3/72t/GTn/zE62YQEVEbMbwxyAOAdn9ycXHR45ZQL+D3xblQKITFxUWMjo563RTqI1euXMHY2BiDPHhPnoiIKLAY5ImIiAKKQZ6IiCigGOSJiIgCikGeiIgooBjkiYiIAopBnshDqVQKqVTK62b0jGq1itnZWa+bQW00OzsLVVW9bkZgMcgT9TFVVREKhbxuhiPVahUXLlzA4cOHEQqFEAqFbE+Q5Hr9y4/k/rd6LS0tGbYtFAqIRqOIRqMoFAo9UR+wedxSqZRtPcePH8f4+Diq1WrLdZA9BnkiD01PT2N6etqz+m/evOlZ3W6oqoqJiQmcPn0aw8PDqNVqyOVymJmZsQz0QghUKhUAQKVS8e2kKL/5zW9s1w0PD2v/v7S0hPn5eSwsLGBhYQE//elPMT8/7/v6qtUq1tfXMT09DSEEcrkcYrGYoTcmEolgamoKExMTvKLvAAZ5oj6lqmpLP9xeyGaziEQiGBoaAgCEw2GcOnUKADAzM1N3dQgAg4ODhv/60b1791AulyGE0F6VSgXJZFJr98bGBmKxGKamphAOhxEOhxGPx3HmzBmUSiVf17e+vq4dMwDaMZucnDRsNzQ0hP379yObzboqn5pjkCfySLVaxdLSEqLRqOXfhUIBoVAI0WgUGxsb2jayGxUA5ufnEQqFkEgksLa2ppVt1U1tXpZOp7VuWP1yv40TqFarmJycxLFjxyzXp9NpxGIxy0BvRVVVLC0taZ95fn7e0FXs5Djot52dndXWr6ysuPpsw8PDOHDggGHZysqKljEQAN555x0AwL59+7Rln//85wEAP//5z31dnz7AA9Cu1JPJZN22IyMjmJycZLd9uwkSo6OjYnR01OtmUI9o1/dFURQBQMh/hvq/b926JYQQolwuCwAiHo8LIYS2Xr9NrVYT8XhcABB37twRQghRqVQMZevL0i8z/y2EEMlkUiSTyW1/Pln+4uLitsrI5/MCgCiXy5blC7HZZgCiWCxartdTFEVkMhkhxOZ+UhRFKIoiarWatr7ZcdC/N5fLCSGEWF5etmyDW/o65N9WnwOAUBRlW3V1s75yuawdJ/k9Na8HIPL5fMt1SIuLi5afoR9xLwgGeXKnnd8XJ0HXyTbFYlEAEOl0ettltVM7grwMDHblC7F5oiODsz6AmN8nA3GlUtGW3bp1SwDQgrV8X7N9l8vlLLfZzglSsVg0tMOuLY2W+7E+/Qmm+Xsq1Wo123VuMchvYXc9UQBEIhEA9fc6g2BmZqbpNuFwWLuf26jL99q1awCM9+kfeeQRAJuZy9yQ25tvgzhpr53r168bBsB1WrfqO3DgAIQQKBaLSCaTmJycrBsPEg6HAQTzO+wlBnkiCoTBwUEUi0UUCgXbkdpzc3N1y2RwcfuYmNxe6AaxyVcr5ImJeaCgoii274nH4y3V5UV9wObJ6Pj4OADgzJkz2yqLnGGQJwqQ7f4I97pIJIJ8Po9CoYB0Ol23XgYwqyv9VvedfsDjdpgHwElWbZYDAB999NGeqU86dOjQtssg5xjkiQJABpoTJ0543JL2k8Ha6TPUiqJoz9CbjY6OAth8tEuS5Y6MjLhqVyaTAQAsLCxoZWxnRr4bN25ot130nnnmmbo2f/DBB4Z1vVCfJPdVLpezXG818p5axyBP5BHzY1v6v+UPoT6wma8+5SNjqqpiYWEBiqIYulrllak8AVhdXdXWJRIJAMarNhmc/PYInbzyMwd5uT+srspPnTplGSyeffZZKIqCS5cuae978803EY/HtXvTTo/Dc889B2DzHvzAwABCoRD27NmjnSzIR+ucPFteKpVw9OhRy3UHDhxAJpPB66+/DlVVoaoqXn/9dWQyGcPjcH6sLxqNYnZ2VusJUFUV6XQayWRSe2ZektscOXKkafvJBS9H/fkFR9eTG+36vkA32tjqZbWNflmxWNRGlGcyGe0RMKlcLmvr5WNJ8pEvObpcjspPJpPaMr89QicfB5SPs8lyrfaNmdUjX5VKRWQyGe19uVzOsO+cHgchjI+FxeNxw2N+yWRSxONxR4+d6fe/HfkooaIoYnl52bIMv9Uny5CvdDptOI568imHZu1ygqPrt4SE8Ol8j100NjYGAFhcXPS4JdQLvP6+yFHcvfBPNxQKYXFxUesmb5XsZTh//ryr96mqqg2s80o0GkU+n2d9TaRSKQwMDLg+xlauXLmCsbGxnvg30mnsrici35uYmMCNGzcMtxyc8DrAr66uYmpqivU1USqVUCqVMDEx0YZWkR6DPFEPMd/H7xfyOfhLly65nj/dKysrK9i9e3fd1K6sz2htbQ1zc3PIZrOen5QFEYN8wLQrPaS0urpqSBOZSqVQKpVQrVY9Td+5sbGBRCKhzdtunjPcLp1mKBTC7OwsCoVCT2a82rNnj+X/94PBwUEsLCzgrbfe8ropjgwPD3f1cbFera9QKODixYu+TiTUyxjkA6Rd6SGlVCqF119/HePj49okH2fPnsXGxoanAUZVVZRKJbz22muo1Wo4evQonn76acNJjdClGgWAWq2mfYbjx49jfn6+J3NYizZMutLLwuFwW+7Zkn+cP3+eAb6DGOQDop3pIQFoV+yvvfaa4Wx9cHAQiqLg1q1b7Wy+Kzdv3tQe/dKnHJVZwyT9D4e+GzASiWhToDKHNREFGYP8NlilrHSyjZu0lqurq3XdzZJ8TjUUCmlzcjdLD+nkGejV1VXMzMw0HFBjdR+uW5/VagIPwN2MZYODg3jllVdQKBRw8+ZNx+8jIuolDPLbMD4+jnfffVfrOv3lL39ZF0DHx8fx4Ycfat3H5nm1JyYmEIvFUCgUsLq6CkVRUC6XUSgU8Oqrr2JoaAjLy8sANmeC0nfRnj9/HslkEsViEXfv3gUAw2QV8krW7b35f/7nfwYAPPjggw23M3cXd+uzmvNhy/Ldzvb22GOPAQB++tOfunofEVHP6O5j+f7UyuQmMs2kOWWlfmKIdqa1lBNu6CftqNVq2qQlVmU0Wt5IK+/p5me1qlufD9zNZ2nls3LyJOfQhslwiNziZDhb7u/SuUTgyDST+vu+Q0NDhkkhmqW1NE/r2MgLL7yAmZkZvPnmm9r7fvGLX1gmmPCCl5/1Rz/6kTYWoVvefvttnDx5smv19bLLly/jjTfe8LoZ1EfkFLnE7vqWOekCb2day0gkAkVRDDmv/+Vf/kW7P93O9JByezcD0rr5WfWWlpagKEpLz+rKz8eEGEQUVLySb5GiKCgUCiiVSrYDweQ21Wq17hGRVtJajo6OIhaLYXV1Ffv27TMkcrCqq9X0kCdOnMDc3Bzu3btn+9nMuvlZpVKphHfffRfT09Ouywc2ewcA4NixY67f+9RTT3EaZAdCoRDOnTu37WltidyQ09oSr+RbJq+c5+bmtCtCOUGL1M60lgC0LFmvv/463nnnHfzVX/2Vtq6d6SFlNjOrq3NpY2PDkFKzm58V2Byp/9ZbbxkCfKlUMuz/RqrVKn70ox9BURStLiKioGGQb9Fzzz2nBUKZZvLVV1/F9773PW2bdqa1BDbvdyeTSczNzeG3v/2t4R600/SQTtOIZrNZ/Pa3v0UikdBSlUobGxv4zne+g/HxcU8+a7VaxcTEBCYnJw2P2335y182jLDXl63/f/0c2fJ5eSKiQPJ65J8ftDpaulKpaCPBk8mkuHPnjuU27UprKcRWalCruoRwlh7SaRrRWq0m8vm8iMfjWlsURRGZTMaQUrPbn1XfHvNLbmu3Hk3SXTrB0fXOgaPryQMcXb+FqWbhfepQ6i38vjjXrlSzRG4w1ewWdtcTEREFFIM8EflStVo1DO6k/jA7O8t8Em3EIE/UY1RV7Wia306X70S1WsWFCxdw+PBhQ5pjK1bphHtBqVTC/Pw8otFowzbPz8+35TN1o75qtWpITb20tFS3TbM00cePH+/JDJF+xSBP1GM6nVDH64Q9qqpiYmICp0+fxvDwMGq1GnK5HGZmZiwDvdClFa5UKj1xH3Z2dhapVAp79+7Fj3/8Y9s2l0olnDlzpifqq1arWF9fx/T0NIQQyOVyiMViht4YJ2miI5EIpqammCGyTRjkiXqIqqqW2Q57pXwnstksIpGINouhPp3wzMyM5dWhnICpF/KSJxIJ1Go1LCwsQFGUuoRLkqqquH79es/Ut76+bph5Uh6zyclJbZnTNNFDQ0PYv38/H3FtAwZ5oi5plorXqrvZvCydTmtXPXJ5tVpFoVDQfihld6t5joNWywecz6+wXdVqFZOTk7azEKbTacRiMctAb2W76Y/NbZMpj6PRaF03sxNyH05PTzfNtZDNZnH27FnXdXhVn3lqaatpo+2m37aaFXNkZASTk5Pstt8mBnmiLmmWild2OeuVy2XD3/oZ/sT/pzjes2cPotGolsL35ZdfRq1WAwA8/PDDWqBvtfxuun37NgDgoYceslwvUw7HYjGUSqWm5W03/bEkJ2Dav38/hBB45ZVX8PTTTztqg1QqlTAzM4MTJ05oJ2J2JwsrKyt48sknt9Uz0e369DY2NpBOpwHAMGmWWaM00fI7IL8T1CIPns33HU5uQm608n1pZypeJ9sIsTWZUDqd3nb5rYLLyXDk5FJ2ZQmxOUmToih1EyWZ39fOfS5TS5u3cTqxlBBCpNNpAUAUi0Xtc8iJnfSTM8lJpRq1z4/1SeVyuW7yKTuN0kTXarWm77fDyXC2cC8IBnlyp5Xvi/xx1ZM/YoqiaMvaGeRbfa+XQb5R3frllUpF23cyiJvf1859Lk8qrF7b+WzyRCwej2vL9AHX7n1+rM+sWCxqJ23mOiRFURrOPtlqWxjkt3DGO3AGM3Knle+LvLdt/udmXm61XSvbtLv8Vrmd8a5R3aFQyLC8VCrhy1/+MhRFwcLCAgYGBny9T5y0p1AoIBKJGAbHtVp3t+uzsra2hocfftiyvKWlJXz44Yd4+eWXXX+GZjjj3RbekyfqAjngyGoQUSupeN3odPleiUQiyOfzKBQK2v1fvU7sc3OyJjdknVaPhcm2RqNRHDx40HaQpJ/rs3Lo0CHL5TJNdKMAT+3BIE/UBe1OxeuEDEhWg5r8SgZrp89HK4qiPUNv1s59nslkAAALCwtaGW5n5JN13rt3r649sq3i/wc76l+S26vSbtdnRdaXy+W0ZW7TROtH51MLOnYjoIfwnjy50cr3RQ4W099DzuVyhnujQmzdR5YDyuRAMejuo8r7w5VKRRuUJLeRA8pqtZpIJpOGe8/bKd9N9kI9uLwnL7MomrMcynvw+kF0elYD9pzsc1kuAG3wl7xvr69Pv53+JdtpHuRmRx4TWW4mk6k7RmayLj0/1qcoikin09o+kd9B/femUqnYjm/I5/OG8uQAPvNyJ3hPfgv3gmCQJ3e2k5q4USpeITZ/2OSPoPxxUxRF5HI57YdaDp5KJpOGQWfyR1i+P5PJtK38bgV5GUz1g7GsAoIVq+DVzvTH5XJZO5mIx+OGE5FkMini8XjTACqEMLTH6hiZWX1mP9YnT9Dkyyqls5M00ZI8AbU7sWuEQX4LB96BA+/IHT9+X9o5WKqdWkk1K7vAz58/76ouVVWbTvjSadFoFPl8nvW1QSqVwsDAgOvvAcCBd3q8J09EvjIxMYEbN25gdXXV1fu8DvCrq6uYmppifW1QKpVQKpUwMTHRlfqCjEGeqMeZp2ntdeFwGNlsFpcuXXI1o5yXVlZWsHv37rqpXVmfe2tra5ibm0M2m/X8xC0I7ve6AUS0PXv27DH8fxC6KAcHB7GwsKAlq/G74eFh1tcmhUIBFy9e7IlkQ72AQZ6oxwUhqFsJh8Mt3Y+l3sZj3l7sriciIgooBnkiIqKAYpAnIiIKKAZ5IiKigGKQJyIiCijOeAfg29/+Nn7yk5943QwiImojhjcGeQDA+++/73p2LaJedPLkSZw7dw5PPfWU100h6qgvfOELeOKJJ7xuhucY5In6SCtzyRNR7+I9eSIiooBikCciIgooBnkiIqKAYpAnIiIKKAZ5IiKigGKQJyIiCigGeSIiooBikCciIgooBnkiIqKAYpAnIiIKKAZ5IiKigGKQJyIiCigGeSIiooBikCciIgooBnkiIqKAYpAnIiIKKAZ5IiKigGKQJyIiCigGeSIiooBikCciIgooBnkiIqKAYpAnIiIKKAZ5IiKigGKQJyIiCigGeSIiooBikCciIgooBnkiIqKAYpAnIiIKKAZ5IiKigGKQJyIiCigGeSIiooBikCciIgqo+71uABF1xv/8z//gd7/7Xd3yarWK9fV17e9wOIzPfe5z3WwaEXVJSAghvG4EEbXf9773PfzoRz9ytC1/BoiCiVfyRAH16KOPNt0mFArhiSee6EJriMgLvCdPFFDPP/88du3a1XS7s2fPdqE1ROQFBnmigPrMZz4DRVFw//32HXa7du2CoihdbBURdRODPFGAjY6O4pNPPrFct3PnTjz//PP49Kc/3eVWEVG3MMgTBdiJEydsg/jHH3+Mb37zm11uERF1E4M8UYDt2rULJ0+exM6dO+vWffazn8Vf//Vfe9AqIuoWBnmigBsbG8PHH39sWLZz5068+OKLlsGfiIKDz8kTBdwnn3yCPXv24L/+678My//1X/8VR48e9ahVRNQNvJInCrgdO3bgm9/8Jh544AFt2d69e/HVr37Vw1YRUTcwyBP1gdHRUXz00UcAgAceeACjo6O47z7+8ycKOnbXE/WJgwcPYmNjAwDwb//2b3jsscc8bhERdRpP5Yn6xPj4OADgz//8zxngifpEx+aun5qawt27dztVPBG59N///d8AgP/93//FyZMnPW4NEUk7duzAD3/4Q+zdu7ftZXesuz4UCgEARkZGOlE8ETmwsbGB27dva/8O33vvPezfv98wCI823b59GwDw+OOPe9wS6jfXrl3D4uIiRkdH2152R7PQdarRROTMlStXMDY2hqtXr3rdFN8bGxsDsPm7RdRN8qK4E3hPnoiIKKAY5ImIiAKKQZ6IiCigGOSJiIgCikGeiIgooBjkiciRVCqFVCrldTN8q1qtYnZ21utmUJfNzs5CVVWvm2GLQZ6IeoKqqh191Gg7qtUqLly4gMOHDyMUCiEUCtmeEMn1+lcvKJVKmJ+fRzQabdjm+fn5tnymbtRXrVaRSqW047C0tFS3zcbGBhKJBEKhEBKJBFZWVgzrjx8/jvHxcVSr1Zba0HGiQwCIxcXFThVPRA4sLi6KDv4z76p8Pt/RzzI6OipGR0ddv69WqwlFUcStW7e0v3O5nAAgksmk5XsqlYoAICqVyrba3C3pdFooiiLy+bwol8u22xWLRQFg28epG/VVKhXtmAkhtGOWTqe1ZbVaTeTzee3/5TZymXTr1i2hKIqo1Wqu2yFEZ+Mlr+SJyPdUVcX8/LzXzbCUzWYRiUQwNDQEAAiHwzh16hQAYGZmxvLqcHBw0PBfP0skEqjValhYWICiKDhw4IDldqqq4vr16z1T3/r6unbMAGjHbHJyUlt28+ZNKIoCwHhco9GooayhoSHs378f2Wy25fZ0CoM8ETVVrVaxtLSk/biZ/y4UCgiFQohGo1qmu2q1ikKhoG0ju1UTiQTW1ta0sq26rc3L0uk0CoWCYR3g/TiBarWKyclJHDt2zHJ9Op1GLBazDPRWVFXF0tKS9hnn5+cN3cBO9rt+29nZWW29uZvZCblvp6enEQ6HG26bzWZx9uxZ13V4VZ8+wAPQ7qsnk0ltmQzwZvF4vG7ZyMgIJicn/ddt35H+AcHueiI/aFd3vaIohm5R/d+yy7NcLgsAIh6PCyGEtl6/Ta1WE/F4XAAQd+7cEUJsdV3r2ynL0i8z/y2EEMlk0rZL3K1WuuvlLQSrLmXZ1mQyKQCIYrFouV5PURSRyWSEEJv7RVEUQzewk/2uf28ulxNCCLG8vGzZhkZkV3g+nxeZTEYAEIqiiOXl5bptl5eXtcsFyQAAIABJREFUtfZYHSc/1qdXLpe14yS/l1ZqtZpld70sw25dM52MlwzyRAHWznvyToKuk23kj7n+3merZbVTK0FeBgYrcrm8Z28OIOb3yUCsv09/69YtAUAL1vJ9zfaVvHds3sbNCVE6nTacGOhP0PT3siuVinZiYtc+P9Yn6U8ozd9Ls+XlZdt77/IEoNH77TDIE1FL/Bjk211Wu7QS5Bu1Sb9c9lYoiqIFcfP7ZEDTk4FDUZSGdZqX6a/4za/tfDZ5gqbvNdAHXLv3+bE+s2KxqJ20meuQ9AMsrWzns3PgHRFRjxocHESxWEShUMDExITlc9Vzc3N1y+R9aTkewSm5vdi8kDO8tiMSiRjaWigU8Mwzz2yrTL/UF4lEMD4+DgA4c+ZM3fqlpSUoilJ3L9/vGOSJyBNWg5eCLBKJIJ/Po1AoIJ1O162Xg7ysBm61uq/0AxzdknVanZDItkajURw8eNB28KSf67Ny6NAhy+WlUgnvvvsuXn755W3X0W0M8kTUVTLwnDhxwuOWbJ8M1k5nPFMUBblcDjMzM3XrRkdHAWw+2iXJckdGRly1K5PJAAAWFha0MtzOyCfrvHfvXl17ZFsb9RS47TXodn1WZH25XE5bVq1W8dZbb2F6elpbViqVkEgkLMvQj873hY7cBBC8J0/kB+26J68fAV+pVAx/y0FI8v6x3EaIrXuUcuBYrVYTyWTScI9ZCFE34l4OOIPufqy8z1ypVLTBTX4dXd9sshurAXtygJ7+vn0ul6sbNe9kv+u3079kO82D3OzIYyXLzWQydcfOTNal58f6FEUR6XRa2yfyu6n/PsmnFKz2pXkUPUfXE1HXtSvIW/3I6V9W2+iXFYtF7ccyk8nUjU4ul8vaevkjKR8Bkz/4chBWMpnUlnkd5GUw1Q/Gsts/ZlbBS44c158c6feV0/0uhPGxsHg8bjgRSSaTIh6PNw2gQghDe6yOnZnVZ/ZjffIETb7S6XTdoDp58mn1Mj9qJ09MW5nFsJPxMvT/FbRdKBTC4uKi1s1CRN135coVjI2NtaUrsxXyPqlX9bsxNjYGAFhcXHT1PtkFfv78eVfvU1W16YQvnRaNRpHP51lfG6RSKQwMDLj+HgCdjZe8J09EtA0TExO4ceMGVldXXb3P6wC/urqKqakp1tcGpVIJpVIJExMTXanPDQZ5IuoI83SsQRUOh5HNZnHp0iWUSiWvm+PIysoKdu/e3bXHwYJc39raGubm5pDNZj0/cbPiiyBvno+ZtvTbvrH6vN2Yn9zrOdCDaM+ePZb/H0SDg4NYWFjAW2+95XVTHBkeHrZ9XIz1uVMoFHDx4kXfJhvyRZC/cOECYrGY6wkfGpGJMaLRaEvlWuV8lq/Z2dmWMmK1kg+72b5ZWVkJVP7qTnwXzLqVl3xjY8PRvrdar6oqVldXtXzavUi0cRKWXhAOh1u6H0u97fz5874N8AD88wgd2jQ1oRCbj53I+YXl/Md20xQ2YpU4Q4itOab180k70Wo+7Gb7Jmj5q9v5XbDS6bzkZnLUbaPv4PLysuH7JEeNb3dfBCmffKe1mk+eaLvcxks3fHEl304bGxuIxWKYmppCOBxGOBxGPB7HmTNnXN8vszs7Gx4eBrA5ctmpTubDDlr+6k7yIi/50NAQ0uk0fvnLX9pu8+///u/a9wrYTLWpn3yDiKgVvgvy+hzIiUTCkCPZSS7ld955BwCwb98+7X2f//znAQA///nPtWXtuAdr7lKWAUTffS4HHNnlw5bvM+eQblSn3DdWg5k6kb9a3vpQVRWJREL7XFbHQn/MZLnm49hoP5lZ3aO3u40it3F7HOzGPbQzt/fIyAjm5uYsj4uqqqjVan1/AkZEHdCR/gHRene9nIxAP9OQ7GJ2kkvZKpOTLF8/MYLTSTRg010Ki+56WXelUrHM8WxXlqIohrbE43HD3+bPfOfOnbqy5Xbys8Fitie7ut3kry4Wi9okE3K5rEd2S8fj8Ya5rt3sJ3Mec7lef9vBPOuY2+NgVUcr+8bu80pyFi7z5B65XM52Zi6774xT7K53jt315BW38dJV2R0pVbTnnrwMZs1yB+uXNQrKrfzYyfeZX8lksu7HWs6yZFenVRvkvXRzDmm3qSXlMiE6l7/a/HndtEu/zO1+anTs5HdkeXm55fKtlrUzt7e5reZpLxvNysUg3z0M8uSVvg3yVsu9CvJ6lUqlbo5lvXK5rF21NWu7DMZu29AoyMs2Ap3LX+22XVbvd7qf7N4vr67lPOatlm+1rJ25vfXMU23eunWr4QDOdgV5vvjiy9+vwE9razf9pXm51Xb6ZfKROaty4vE4XnvtNdefw6pd1WoVe/bsQTKZNAyQmp+f11JJPvzww67a7qYNdsv0f5dKJXz5y1+GoihYWFjAwMCAo7qd7HO37TIvc7Of7OpPpVIolUqW01Zu9zi06/toJo/J8vIyhoeHkUgk8P3vfx8HDhyo27ZZWU7IaW2vXr3a0vv7yeXLlwEA586d87gl1G9OnjzZuWngO3LqINp7Jd/svrZ+mUxuoL/ClvdJW3mMzq5dVutk17u8N2xeb1WWvJJvlC2p2WfWLzOT96utsl6Zxzzoy3EylsBNu7azn6zKlMfZnP2rlfKtlm1n3zT6zgixdTUvxzc00qysZthd7xy768krbuOlG74bXa8nH3k7evSo4/c888wzAIw5mT/44APDunaQo6fj8bi2LBaLAYDtVZkVRVEAAHNzc1ou442NDdtcxW51K3+1G63sJ73V1VWcOXMGy8vLlmVst3ygs/smHo+jUCgglUp1dD8TEfnmSl5eOckBVFb3W53mUs5kMiIejzecDMfJ6Hqr+oTYHEAlr4z1A9vkZyiXy9ogK327rPJhW+UrjsfjWrnmPN52n7kb+aub7Rurtlota7SfGuUt14+WN9+Hl9u1chzs9nG7cntbkff8G6XR1JfVLN2mHV7JO8crefKK23jpquyOlCpaa/Ty8rL2AxyPxw0jpmWZ+pfdMiG2uqkVRakrR4jmQd5crv4lH60ydxWb813LUd5yO6t82EJsDeST68wj4pt9ZquXle3mr7YacNbsWFgta7Sfmn0u8wmR2/Kt1tvtu3bm9jYrFosNbx+5Oa6NMMg7xyBPXulkkPfNwDvqPD/kr6bu8jqffC9pNZ880XYxnzy1BQM8EVF/YZAnImoDOSU39ZfZ2VltUK4fMcgTUcd0Oq1vt9IGN1OtVnHhwgUcPnw4UKmf9Uqlkpb6uFGbZd6IXqivWq0ilUppx8Eqt4R82knm4VhZWTGsP378OMbHx23zb3iNQZ6IOubmzZs9Xb4TqqpiYmICp0+fxvDwMGq1mvbYqlWgF0KgUqkAACqVSk+Ml5idnUUqlcLevXvx4x//2LbNpVIJZ86c6Yn6qtUq1tfXMT09DSEEcrkcYrGYoTdGVVWUSiW89tprqNVqOHr0KJ5++mlDcrJIJIKpqSlMTEz48oqeQZ6IOqLTaX29SBtsJZvNIhKJYGhoCEDwUj8nEgnUajUsLCxAURTb+SdUVcX169d7pr719XXtmAHQjtnk5KS27ObNm9pcJvrjas5YOTQ0hP379yObzbbcnk5hkCeiOs3S7Fp1NZuX2aX1lamLga2u1kQigbW1tW2XD7QnjbRT1WoVk5OTOHbsmOX6TqR+dpreWJ+2OxqN1nUzOyH34/T0dNOBu9lsFmfPnnVdh1f16QM8sDXZVTKZ1JbJAG+mnwRNGhkZweTkpP+67TvyYJ7o7HN/RORMq8/JN0uzazVJkn6eA8nub2ArPa+csAqA5SRQbsoXwnkaabNWnpM3pznWk+3qZOpnIazTG8v3yuRHMqtio+mzzeR8Evl8Xpsvwm7ekeXlZa09VsfEj/XplctlywnOzOQEVeZMkrIMu3XNdDJeMsgTBVgrQb6daXadbCPE1g+8fibDVstvVStB3momSUku71TqZ3Nd+mUyf4N5GzcnPzKDozwx0J+MyQArxNakUY3a58f6JPMkXHZZLYXYmrDNagZKeQLQ6P12GOSJqCWtBPl2ptl1GuRbfa/XQb5R/frlnU79bF7WaGbI7Xw2eTKm7zUwz9zY6jHpdn1mxWJRO2mzm41SURTDCYfZdj47gzwRudZKkO90EO7HIC/EVsCSV4J+3y9O2pPP5+tuVbQzyHeyPiv6XBdmuVyuaSZTPwZ5DrwjIgM52MhqAJHVgKN26nT5XopEIsjn8ygUCkin03XrO7Hf9YMZ3ZJ1Wj0WJtsajUZx8OBB24GSfq7PyqFDhyyXl0olvPvuu3j55Ze3XUe3McgTkYEXKYhlMDpx4kRHyu8UGaydPh/drdTPmUwGALCwsKCV4XZGPlnnvXv36toj2yo2e4MNL0n//36sz4qsL5fLacuq1SreeustTE9Pa8tKpZJtOnD96Hxf6Ej/gGB3PZEftNJd7yTNrhCibkS8HCQG3T1Uq/TKchs5mKxWq4lkMlmXJbHV8v0wur4bqZ8bpTe2yq6ob6d5kJsdeVz0abytslnqybr0/FifTGUu94n8Huq/O1apwOXLPIqeo+uJqOtafYSuWZpdITZ/1OQPoPxhk49tyR9pq/TKssxisai9P5PJtK38bgZ5GUz1g7GsAoKV7aZ+luXa1aV/LEyfalkIoaVfbhZAhRCG9lgdJzOrz+zH+uQJmnyl0+m6QXXyRNPqZX7UTp6E2p3YNfsMTDVLRK75MdWsvHfqpzYBraealV3g58+fd/U+P6R+jkajyOfzrK8NUqkUBgYGXH8PAKaaJSLyrYmJCdy4cQOrq6uu3ud1gF9dXcXU1BTra4NSqYRSqYSJiYmu1OcGgzwRdY15itYgCIfDyGazuHTpEkqlktfNcWRlZQW7d++um9qV9bm3traGubk5ZLNZz0/crNzvdQOIqH/s2bPH8P9+67Jv1eDgIBYWFrRkNX43PDzM+tqkUCjg4sWLvk02xCBPRF0TlKBuJRwOt3Q/lnqb3485u+uJiIgCikGeiIgooBjkiYiIAopBnoiIKKA6OvDu2rVr2LlzZyerIKIGbt++DWDz3yI1trGxAYD7ioKlYzPe7dq1Cx999FEniiYiIgqU27dv48iRI20vt2NBnoj8h9NNE/UX3pMnIiIKKAZ5IiKigGKQJyIiCigGeSIiooBikCciIgooBnkiIqKAYpAnIiIKKAZ5IiKigGKQJyIiCigGeSIiooBikCciIgooBnkiIqKAYpAnIiIKKAZ5IiKigGKQJyIiCigGeSIiooBikCciIgooBnkiIqKAYpAnIiIKKAZ5IiKigGKQJyIiCigGeSIiooBikCciIgooBnkiIqKAYpAnIiIKKAZ5IiKigGKQJyIiCigGeSIiooBikCciIgooBnkiIqKAYpAnIiIKKAZ5IiKigGKQJyIiCqj7vW4AEXVGsVjEz372s7rlhUIB77//vvb3Qw89hG984xvdbBoRdUlICCG8bgQRtd93v/tdXL58Gbt27bLd5g9/+AMAgD8DRMHE7nqigPr6178OYDOQ270eeOABfOc73/G4pUTUKbySJwqoP/7xj9i/fz9+//vfN9zu7bffxpNPPtmlVhFRN/FKniig7rvvPoyNjeGBBx6w3Wbfvn34yle+0sVWEVE3McgTBVgsFsNHH31kuW7nzp146aWXEAqFutwqIuoWdtcTBdyDDz6I9957z3Ldr371K3zpS1/qcouIqFt4JU8UcN/61rewc+fOuuVf/OIXGeCJAo5BnijgYrEYPv74Y8OynTt34vTp0x61iIi6hd31RH0gEong17/+tfY8fCgUwt27d/Hggw963DIi6iReyRP1gdOnT2PHjh0ANgP8o48+ygBP1AcY5In6wKlTp/DJJ58AAHbs2IHx8XGPW0RE3cAgT9QH9u3bh69+9asANifJefHFFz1uERF1A4M8UZ8YGxsDADz22GPYu3evx60hom7o2YF3u3btsp3kg4iIqJ1u376NI0eOeN0M13o21exHH32E559/HqOjo143hahlb7/9Ni5fvoyrV692pT5VVfHZz362J2e5u3z5MgDg3LlzHreE+s3Jkydx9+5dBvluGxkZwcjIiNfNIGqZfH6d3+Pm3njjDQDcV0Ru8J48ERFRQDHIExERBRSDPBERUUAxyBMREQUUgzwREVFAMcgTBUQqlUIqlfK6Gb5VrVYxOzvrdTOoy2ZnZ6GqqtfN8AyDPBG1haqqvn3+vlqt4sKFCzh8+DBCoRBCoZDtCZFcr3/1glKphPn5eUSj0YZtnp+fb8tn6kZ91WoVqVRKOw5LS0t122xsbCCRSCAUCiGRSGBlZcWw/vjx4xgfH0e1Wm2pDT1P9CgAYnFx0etmEG3L4uKi6OF/hgb5fL6jn2V0dFSMjo66fl+tVhOKoohbt25pf+dyOQFAJJNJy/dUKhUBQFQqlW21uVvS6bRQFEXk83lRLpdttysWiwL4v/buP7aN874f+Jt1nHQrWmpuIRn14HxRZA6KbWDcYqn6a4EVY0WMHpNtkWtZVbM/6IAcmi6B9c8ECoYhwdkfJ6RIC0Sg+E8hyBTiAO14wIIBkjAbRSQPy0Bu8x8WAtdUW3Q8YAO5AFuXIH2+f2jP+eHxSB6P5N3x+H4BhK379Tx3J93n+Nxzzwc9nyc/yqtWq9Y5E0JY50zXdWtarVYTxWLR+r9cRk6Tdnd3haZpolardV0PIYY73vCbPBH1rF6vY21tLehqOMrn80gkEpicnAQAxONxXLhwAQCwvLzs+O1wfHy84d8wy2QyqNVqWF9fh6ZpOHnypONy9Xodb7311tCUd+/ePeucAbDO2fz8vDXt1q1b0DQNQON5TSaTDduanJzEiRMnkM/nPddnWDHIE0WAaZrY3Ny0Lm72nw3DQCwWQzKZxMHBgbWMYRjWMrJZNZPJYH9/39q2U7O1fZqu6zAMo2EeEHw/AdM0MT8/jzNnzjjO13UdMzMzjoHeSb1ex+bmprWPa2trDc3Abo67uuzKyoo1397M7IY8tktLS4jH422XzefzeOmll7ouI6jy1AAPwHquns1mrWkywNul0+mmadPT05ifnx+9ZvugmxK8whA3nxBJ/Wqu1zStoVlU/Vk2eVYqFQFApNNpIYSw5qvL1Go1kU6nBQBx9+5dIcSDpmu1nnJb6jT7z0IIkc1mWzaJd8tLc718hODUpCzrms1mBQBRKpUc56s0TRO5XE4IcXhcNE1raAZ2c9zVdQuFghBCiO3tbcc6tCObwovFosjlcgKA0DRNbG9vNy27vb1t1cfpPIWxPFWlUrHOk/y9dFKr1Ryb6+U2Ws3rZJjjDYM8UYD6+UzeTdB1s4y8mKvPPr1uq5+8BHkZGJzI6fKZvT2A2NeTgVh9Tr+7uysAWMFartfpWMlnx/Zlurkh0nW94cZAvUFTn2VXq1XrxqRV/cJYnqTeUNp/L+22t7dbPnuXNwDt1m9lmOMNgzxRgMIY5Pu9rX7xEuTb1UmdLlsrNE2zgrh9PRnQVDJwaJrWtkz7NPUbv/3Ty77JGzS11UANuK3WC2N5dqVSybpps5chqR0snfSy78Mab/hMnohG3vj4OEqlEgzDQCqVcnyvenV1tWmafC4t+yO4JZcXh1+0Gj69SCQSDXU1DAPf+MY3etpmWMpLJBKYm5sDALz44otN8zc3N6FpWtOz/FHHIE9Ejpw6L0VZIpFAsViEYRjQdb1pvuzk5dRxy+uxUjs4dkuW6XRDIuuaTCbx6KOPtuw8GebynJw6dcpxerlcxp07d3Dp0qWey4gaBnkiaiADz7lz5wKuSe9ksHY74pmmaSgUClheXm6ad/HiRQCHr3ZJcrvd5rjP5XIAgPX1dWsb3Y7IJ8u8f/9+U31kXdu1FHTbauB3eU5keYVCwZpmmia2trawtLRkTSuXy8hkMo7bUHvnjwTfHxD0CYb4GQmR1K9n8moP+Gq12vCz7IQknx/LZYR48IxSdhyr1Woim802PGMWQjT1uJcdzqA8j5XPmavVqtW5Kay96zsNduPUYU920FOf2xcKhaZe826Ou7qc+pH1tHdya0WeK7ndXC7XdO7sZFmqMJanaZrQdd06JvJ3U/19km8pOB1Ley969q4fMsN80ImkfgV5p4uc+nFaRp1WKpWsi2Uul2vqnVypVKz58iIpXwGTF3zZCSubzVrTgg7yMpiqnbFaHR87p+Ale46rN0fqsXJ73IVofC0snU433Ihks1mRTqc7BlAhREN9nM6dndM+h7E8eYMmP7quN3WqkzefTh/7q3byxtTLKIbDHG9iQvShDSUAsVgMGxsbVjMR0TC6fv06Zmdn+9KU6YV8TjoMl4HZ2VkAwMbGRlfrySbwy5cvd7VevV7vOODLoCWTSRSLRZbXB4uLixgbG+v69wAY7njDZ/JEFGmpVAo3b97E3t5eV+sFHeD39vawsLDA8vqgXC6jXC4jlUr5Ul6YMMj3yK9hO4MeHtRPPKb+sA/HGlXxeBz5fB7Xrl1DuVwOujqu7Ozs4NixY769Dhbl8vb397G6uop8Ph/4jVsQGOS74FcqzTCn7FTJ9I694DENzsTEhOP/o2h8fBzr6+vY2toKuiquTE1NtXxdjOV1xzAMXL16dSiSDQ3CQ0FXYJjcunWraZr62sawldOLg4MDawCMcrlsDYrRLR7T4AzDc/h+isfjnp7H0nAb9XPOb/Iu+ZVKM8wpO1U3btywOsz84z/+o6dt8JgSEQ3WyAR5eaGXozAtLi42PYd0SiMpOaXSVNNK7u3tNYzypDYNy3SSsVgMBwcHbevSqZxO9fWS9rLbZ9P1eh21Ws0a5cppiMlRP6ZERKEQ6At8PUCX7y3K9ymr1apj6kchDt+LVd/pTafTDT/D9r6nPb2nzFLl9F5wNpu1Bn7oVJdO5ajT+5H2stt3mQuFgrUv8p3ZVoNajOoxdaufCWqizst78kT90G28CZOhvbp0e9Dl4Avq+urFVaZ+tKeR7Da7lBzcQh0gQo7U5LYubsrpZ9rLbsj0kpIcAMUpKxSPaWcM8u4xyFNQhjnIj0zHO9nJ6uDgADdu3Giaf/36dQBo6IE5OTnZ9UANzz//PJaXl/H222/jwoULAIB3330Xzz//vOu6uCHXU+v7+c9/HsDhvsiy++3dd99tGKdbdrgzDKMpOQSPafdlU2vycQiPFVEXgr7L8Aoe7qzkOMt379519U3PqUz7Mk7TZBOv5NTU3G1d3NbXy7a60S4Ptn0YSR7TzuQ3eX744Sfcn2H9Jj8yQV42HcvxoeWJk2Twapcwwb5Oq2myrN3dXVGpVJoSInSqi5ty1GQg9uXaNVu3mubG7u5uQ7O1JJvs7fN4TDtjc717bK6noAxzkB+Z3vUzMzMAgJMnTzrOlz3FV1dXrXSGBwcHLdMVtjM1NQUA+NGPfoR33nkHf/zHf9xVXdzoZ9pLt370ox/hmWeeaZqeSCSgaZrVPC/xmBIRBWtkgrwMOAcHB1a+bODBcJ7PPvssNE3D6uoqxsbGEIvF8Oqrr+KVV15p2obM+9xqWNDx8XFks1msrq7il7/8ZdNQip3q4qacZ555Bpqm4dq1a9a0t99+G+l02gqI6noyWKl5teV8N6/QbW5u4jOf+UzLYSETiQQMw8Dm5qY1bZSPKRFRKATdlOAVumw+safBlL2x1fSOcrpczv6M2b4N2J7ZOC1r34aburgtp19pLzu9Qmdfx56b2z5fXWZUj6lbbK53j831FJRu402YMNUsUYCCTjU7TLymmiXq1TDHm5FpriciIho1DPJEREQRxSBPRCNBdrqk0bKystLQOXbUMMgTjbB6vd6Q+GfYtu+WaZq4cuUKTp8+3ZDEyIk9KVIY6u9GuVzG2toakslk2zrLRE7DUJ5pmlhcXLTOg/r2jiRfy43FYshkMtjZ2WmYf/bsWczNzY3smy8M8kQj7NatW0O9fTfq9TpSqRReeOEFTE1NoVaroVAoYHl52THQCyFQrVYBANVqdSg6Ra6srGBxcRHHjx/HD3/4w5Z1LpfLbbNGhqk80zRx7949LC0tQQiBQqGAmZmZhtaYer2OcrmMN954A7VaDU899RSefvppK+skcPh678LCAlKp1Eh+o2eQJxpRMj3vsG7frXw+j0QigcnJSQBAPB638hAsLy87fjuU+QvUPAZhlclkUKvVsL6+Dk3TWg4IVa/X8dZbbw1Neffu3bPOGQDrnM3Pz1vTbt26ZY2BoZ5XewrpyclJnDhxAvl83nN9hhWDPNEQ6pT33qmp2T5N13XrG4+cbpomDMOwLpKyqTWTyTQMMuR1+4C7wZf6xTRNzM/P48yZM47zdV3HzMyMY6B30um4m6aJzc1N6/gZhoFYLIZkMmkl2FGXXVlZsebbm5ndkMdxaWmp5UBVUj6fx0svvdR1GUGVpwZ44MGgU9ls1pomA7xdOp1umjY9PY35+fnRa7YP7hX93mCIBycgkrwOhtMp77064I8k896r01r9jP/LEyDEg/TCUAYi8rp9IToPvtSKl8FwisWi4wBOsm6yPnDIseB0XjoddzWBkzx+8rio+Q/kujLfg0xz3C7Pg50c4KlYLFoDOGmaJra3t5uW3d7eturjdE7CWJ6qUqlY58lpMCypVqtZdXTaRqt5nQxzvGGQJwqQlyDfz7z3bpYR4sEFXtf1nrfvlZcgLwODEzm9VqtZwVkNIPb1+nncZUIl+zLd3Pzout5wY6DejMkAK8SDURzb1S+M5UnqzaP9d9Bue3u74aZLJW8A2q3fyjDHGwZ5ogB5CfLywqqSFzA1HW8/g7zXdYMO8u3KV6fLlglN06wgbl+vn8e9XcrmXvZN3oyprQZqwG21XhjLsyuVStZNm70MSdO0hhsOu172fVjjDYM8UYC8BPlBB+FRDPJCPAhY8ptg2I+Lm/oUi8WWuSbCXp6Tu3fvttxeoVBoGfx7rcswxxt2vCMaMmpGPTunDkf9NOjtBymRSKBYLMIwDOi63jR/EMeSP8IIAAAgAElEQVRd7czYLVmm02thsq7JZBKPPvpoy46SYS7PyalTpxynl8tl3LlzB5cuXeq5jKhhkCcaMkHkvZfB6Ny5cwPZ/qDIYO32/WhN06x36O36edxzuRwAYH193dpGtyPyyTLv37/fVB9ZV3HYWtvwkdT/h7E8J7K8QqFgTTNNE1tbW1haWrKmlctlZDIZx22ovfNHQjANCL3DEDefEElemutlRzH1+XGhUGh4LiqEaOoRLzuJQXmGKp8NV6tVq0OSXEZ2JqvVaiKbzTY8d+5l+2HoXS+fwaud6FROHfbcHHf1rQPZ+Us2/avlOaU7Vutp7+TWijwvcru5XK7pPNnJslRhLE/TNKHrunVM5O+h+rsj31JwOpb2XvTsXT9khvmgE0leX6HrlPdeiMOLmrwAygubfG1LXqTlc+hsNtvQ4UxegOX6uVyub9v3M8jLYKp2xnIKCE6cglen4+603VZlqa+FpdPphhuRbDYr0ul0xwAqhGioj9N5snPa5zCWJ2/Q5EfX9aZOdfJG0+ljf9VO3oS2urHrtA/DGm+YT54oQGHMJy+fnYapToD3fPKyCfzy5ctdrVev1zsO+DJoyWQSxWKR5fXB4uIixsbGuv49AIY73vCZPBFFWiqVws2bN7G3t9fVekEH+L29PSwsLLC8PiiXyyiXy0ilUr6UFyYM8kRksQ/RGgXxeBz5fB7Xrl1DuVwOujqu7Ozs4NixY01Du7K87u3v72N1dRX5fD7wG7cgPBR0BYgoPCYmJhr+H7Yme6/Gx8exvr5uJasJu6mpKZbXJ4Zh4OrVq0ORbGgQGOSJyBKVoO4kHo97eh5Lw23Uzzmb64mIiCKKQZ6IiCiiGOSJiIgiikGeiIgoooa6493s7Cx+8pOfBF0NIs8ODg4AAOfPnw+4JuF3+/ZtADxWRN0Y2hHvFhYW8N577wVdDaKhsrW1hT/4gz/A8ePHg64K0dA4cuQIXnvttaH8uxnaIE9E3Rvm4TmJqHt8Jk9ERBRRDPJEREQRxSBPREQUUQzyREREEcUgT0REFFEM8kRERBHFIE9ERBRRDPJEREQRxSBPREQUUQzyREREEcUgT0REFFEM8kRERBHFIE9ERBRRDPJEREQRxSBPREQUUQzyREREEcUgT0REFFEM8kRERBHFIE9ERBRRDPJEREQRxSBPREQUUQzyREREEcUgT0REFFEM8kRERBHFIE9ERBRRDPJEREQRxSBPREQUUQzyREREEcUgT0REFFEM8kRERBHFIE9ERBRRDPJEREQRxSBPREQUUTEhhAi6EkTUf/l8Hn/5l3+Jxx9/3Jr285//HJ/+9Kfx27/92wCAX/3qV/jqV7+Kv/3bvw2qmkQ0QA8FXQEiGoxqtYoPP/wQ//Zv/9YwvV6vN/xsGIaf1SIiH7G5niiiZmZmEIvF2i7z0EMP4W/+5m98qhER+Y3N9UQR9kd/9Ed499130erPPBaL4Wc/+xkeffRRn2tGRH7gN3miCPv2t7+NI0eOOM772Mc+hieffJIBnijCGOSJIuxb3/oWfvOb3zjOi8VieOGFF3yuERH5iUGeKMKOHz+Op556quW3+enpaZ9rRER+YpAnirjvfOc7Tc/kjxw5gjNnzuAzn/lMQLUiIj8wyBNF3J/+6Z82fZMXQuA73/lOQDUiIr8wyBNFXDwexzPPPIOHHnowLMbRo0fx3HPPBVgrIvIDgzzRCJibm8NHH30E4PDd+G9+85v45Cc/GXCtiGjQGOSJRsA3v/lN/NZv/RYA4KOPPsLs7GzANSIiPzDIE42Aj3/843j++ecBAJ/4xCdw7ty5gGtERH7wbez63d1d/OIXv/CrOCKy+d3f/V0AwKOPPopisRhwbYhG15EjR5BMJhv6yQyKb8PadhpDm4iIaFT8+Mc/9qXzq69Z6DY2NnDx4kU/iyQaKdevX8fs7GzLserpAdkvYWNjI+Ca0KiJxWL47//+b1/K4jN5IiKiiGKQJyIiiigGeSIioohikCciIoooBnkiIqKIYpAnIiKKKAZ5InK0uLiIxcXFoKsRWqZpYmVlJehqkM9WVlZQr9eDroZrDPJEFEr1ej20g2iZpokrV67g9OnTiMViiMViLW+I5Hz1MwzK5TLW1taQTCbb1nltba0v++RHeaZpYnFx0ToPm5ubTcscHBwgk8kgFoshk8lgZ2enYf7Zs2cxNzcH0zQ91cF3wicAxMbGhl/FEY2kjY0N4eOf9UAVi8WB7svFixfFxYsXu16vVqsJTdPE7u6u9XOhUBAARDabdVynWq0KAKJarfZUZ7/oui40TRPFYlFUKpWWy5VKJQGg5/PkR3nVatU6Z0II65zpum5Nq9VqolgsWv+Xy8hp0u7urtA0TdRqta7rIYS/8ZDf5IkodOr1OtbW1oKuhqN8Po9EIoHJyUkAQDwex4ULFwAAy8vLjt8Ox8fHG/4Ns0wmg1qthvX1dWiahpMnTzouV6/X8dZbbw1Neffu3bPOGQDrnM3Pz1vTbt26BU3TADSe12Qy2bCtyclJnDhxAvl83nN9/MIgT0RNTNPE5uamdXGz/2wYBmKxGJLJJA4ODqxlDMOwlpHNqplMBvv7+9a2nZqt7dN0XYdhGA3zgOD7CZimifn5eZw5c8Zxvq7rmJmZcQz0Tur1OjY3N619XFtba2gGdnPc1WVXVlas+fZmZjfksV1aWkI8Hm+7bD6fx0svvdR1GUGVpwZ4ANZz9Ww2a02TAd4unU43TZuensb8/Hz4m+19aS8QbK4n8kO/mus1TWtoFlV/lk2elUpFABDpdFoIIaz56jK1Wk2k02kBQNy9e1cI8aDpWq2n3JY6zf6zEEJks9mWTeLd8tJcLx8hODUpy7pms1kBQJRKJcf5Kk3TRC6XE0IcHhdN0xqagd0cd3XdQqEghBBie3vbsQ7tyKbwYrEocrmcACA0TRPb29tNy25vb1v1cTpPYSxPValUrPMkfy+d1Go1x+Z6uY1W8zrxMx4yyBNFSD+fybsJum6WkRdz9dmn1231k5cgLwODEzldPrO3BxD7ejIQq8/pd3d3BQArWMv1Oh0r+ezYvkw3N0S6rjfcGKg3aOqz7Gq1at2YtKpfGMuT1BtK+++l3fb2dstn7/IGoN36rTDIE5EnYQzy/d5Wv3gJ8u3qpE6XrRWapllB3L6eDGgqGTg0TWtbpn2a+o3f/ull3+QNmtpqoAbcVuuFsTy7Uqlk3bTZy5DUDpZOetl3drwjIhpS4+PjKJVKMAwDqVTK8b3q1dXVpmnyubTsj+CWXF4cfnFr+PQikUg01NUwDHzjG9/oaZthKS+RSGBubg4A8OKLLzbN39zchKZpTc/yhw2DPBH5wqnzUpQlEgkUi0UYhgFd15vmy05eTh23vB4rtYNjt2SZTjcksq7JZBKPPvpoy86TYS7PyalTpxynl8tl3LlzB5cuXeq5jKAxyBPRQMnAc+7cuYBr0jsZrN2OeKZpGgqFApaXl5vmXbx4EcDhq12S3O709HRX9crlcgCA9fV1axvdjsgny7x//35TfWRd27UUdNtq4Hd5TmR5hULBmmaaJra2trC0tGRNK5fLyGQyjttQe+eHki8PBQSfyRP5oV/P5NUe8NVqteFn2QlJPj+Wywjx4Bml7DhWq9VENptteMYshGjqcS87nEF5HiufM1erVatzU1h713ca7Mapw57soKc+ty8UCk295t0cd3U59SPrae/k1oo8V3K7uVyu6dzZybJUYSxP0zSh67p1TOTvpvr7JN9ScDqW9l707F1vL4hBnmjg+hXknS5y6sdpGXVaqVSyLpa5XK6pd3KlUrHmy4ukfAVMXvBlJ6xsNmtNCzrIy2CqdsZqdXzsnIKX7Dmu3hypx8rtcRei8bWwdDrdcCOSzWZFOp3uGECFEA31cTp3dk77HMby5A2a/Oi63tSpTt58On3sr9rJG1Mvoxj6GQ9j/1fgwMViMWxsbFjNMETUf9evX8fs7GxfmjK9kM9Jgyq/G7OzswCAjY2NrtaTTeCXL1/uar16vd5xwJdBSyaTKBaLLK8PFhcXMTY21vXvAeBvPOQzeSKiLqRSKdy8eRN7e3tdrRd0gN/b28PCwgLL64NyuYxyuYxUKuVLeb1gkB8y9mEuqTOnYxb08KhRZB+ONari8Tjy+TyuXbuGcrkcdHVc2dnZwbFjx3x7HSzK5e3v72N1dRX5fD7wGzc3GOSHzJUrVzAzM9PVe7T2NJftvoHs7e0NJC2mU7pNOca2fbzufvNyzLzqlKay1XGIxWJYWVmBYRhDlataNTEx4fj/KBofH8f6+jq2traCroorU1NTLV8XY3ndMQwDV69eHYpkQwCD/NB54403ul5HCIFKpWL9/KMf/ajlsuq8arXat2erQghUq9WGn4UQ+OEPf4iDgwNMTEz09I5vO07HbGlpqeEVmX6o1+sol8t44403UKvV8NRTT+Hpp59uuLmwH4darWYdi7Nnz2JtbW24clUrRItXnaIqHo97eh5Lw+3y5ctDE+ABBvmRIdM36rqO1dXVpgxWwOG30Mcee8z6ud+/yE7bO3nypJVZ6rXXXutreX5zm6ZSPQ5qc18ikbBSV7YaJY2IqBuhDPKt0itmMhkrOMn0jOo04EEeatkEuri4aH0rcmqG9to07Tatplqvdiklu11O1c3z5bNnzwIA3nnnnaZ577zzjjXfqV6DOq4y6NmH+RzUMfOSRlXa2dlBMpm0mtfVcrpJU9nK+Pg4Xn75ZRiGgVu3brlej4jIkS8v6onu3gtUByOQgxvIdxLT6XTblIvyPcdqteo4X76TqQ4ioWlaVykZ5f7IT7u0muo+tUsp2c1ysL0n6vbdYbmOU2IMOd1p++o6vR5Xp23LwT3U7bk9Fm6XU8v1kkZViAfv2cplZOYvp31S98tpsIxW67Q7Hm70M0FN1Hl5T56oH7qJhz2X5UspovudcroIupkmB0Vot44asHRd9zSYQattO6XVdJtSspfUk27rq5ajDgRRKpWsPM5O2+/XcbXfvMlRp+z1GfQx6/RzN8u0SjXZLk1lp3Po9RwzyLvHIE9B8TPIP+TyC//QkJ2pDg4OcOPGDcdlrl69itXVVaRSKei63tdnzzKL0vz8vNUpR9ZDLefzn/88gMPBS+SzW7fL9WpqagrAYSc7+crJW2+91bYjWr+P6xNPPGH9P5vNolQqWccOCN8xAw6b3Z0yh6nnWvX9738fCwsLgbxmc/78ed/LHDa3b98GwGNF0RbKZ/K9Wltbw3e/+92Wz0jHx8dRKBRgGAb+8z//c+D1cZtSsp+pJzspFApWBzzTNPH7v//7Hdfp53EVSi/spaWlhgAPhPOYyWfrm5ubAGC9I+2UYayXNJWyw13oE18QUehF7pv85uYmXnzxRVQqFatHuZ1pmvjlL38JXdfx5S9/GdVqte89ydXOVpqmwTAMmKbZVI6X5frhK1/5CoAHHfDkz634fVzDeMxk6tD9/X3EYjErw5i9tUCmqfT6it67774LADhz5oznur755pue1x0VXoe1JepVv8YfccWXhwLCv2fynX4WQljPUGUWKC8dnFpt++7du02drWQHLfWZs+xcJZ+Dd7OcU7lu66uSz8Ltz5S9HGch3B1Xt3Uf9DFzsz/2acVisWPyDDVjmlQqlZqORavjoHYc9ILP5N3jM3kKSrfxsKeyfClFdLdTTukV7akvW02TPaUrlYoVcOV82clLvVDLgOAls5Xcdqe0mm5SSrpdzmmf3fSud0qFKTsJqj3gnbYvRH+Oq1OKzFYGecx6TaNq/6TTaWs7btJUqttWj5nM3KbuS7cY5N1jkKegjHyQt18gu5lmT08pe4XLV6JafYPz8u1YrtMpraYQnVNKul3Oqb6dgrxT0JGceswP4ri223YrgzpmburU6hi0CuLpdNpVmsp25TqlvuwWg7x7DPIUFD+DPFPN9mCY0mpS7/b39/Hxj3+8qU/C/v4+Hn/88VD8HgSdanaY8Jk8BYWpZolCZnNzE6dOnXLsdDgxMYFCoRBArYiI2mOQ92hU0mrSoevXr2Ntba1pmNv9/X28+eabfX0fn4aDaZpYWVkJuhrks5WVlaHKK8Egb9MuFaj6GaW0mgSsr6/jk5/8JF599dWG8ft/8Ytf4NKlS0FXLzTq9fpAXw8a9PbdMk0TV65cwenTpxt+H5w4XT/CyjRNLC4uWvWUY0KoOqVTjnp5Z8+eHa5Mkb48+Rf+djQgGlVBd7yT4/sPw/a9dryTb3SoOSvkq5ytOsA6vd0SNtVqtaHjp9wn9ZXQWq1mvSmi7rdTfoYol7e7u9tyyGo3/IyHDPJEERJkkJfBb1Dl93v7XoO8ruuOwRzK2x1Ogrz5csPpzQ65T1K3yZaiXF46nW6Zt6ITP+Mhm+uJqGO6XqemZvs0XdetoYTldLcpmb1uH+gu1XKvTNPE/Px8y9EIdV3HzMyMYzOwk07HvZs0yLKPgJzfbbO2fQhmp+GV+5FOOSrlTU9PY35+PvTN9gzyRIS5uTm8//77EEKgWq3CMAykUinrQlitVpvWqVQqDT+rw/iK/8tLMDExgWQyCcMwsLe3h0uXLqFWqwEAHn/8cSvQe92+32RSm8cee8xx/uXLl5HNZjEzM2PlNmin03FPpVKYmZmxjp+maahUKjAMA6+++qq1HdM0kUqlcOLECQgh8PLLL+Ppp592VQcnBwcHVk6Gubm5lsvJep47d85TOcNcnvwdkL8ToeVLe4Fgcz2RH7w01/eS4tg+zc0yQjinZPa6fa+8NNfLoaCdyOnqYwU5CJI6X+rncZfPju3LeBnJ0z7AVbsm6XbplKNenhy50kuTvZ/xkEGeKEK8BHk5Up9KXsDUIZr7GeS9rht0kG9XvjpddrRThyi2r9fP495qJMZejlWpVLJuanK5nOMyagfEXg1jeV6PsZ/xkCPeEUWIlxHvWo3caJ/utJyXZfq9fa+8jHjXrvxYLNYwvVwu44knnoCmaVhfX8fY2NhQHBeVHM3Radubm5t4//33+/oK6bCV5/W4c8Q7IvKN7Gzk1IGo3+l6/d5+kGRqYsMwrOe/qkEcd7UzYz+cOnXKcbpMp9zvMSKiXl4QGOSJRpz8NnHv3j1rmuxwND09PZAyZTDqtQOV32SwdjvimaZpKBQKWF5ebprXz+Oey+UAHA7aJLfRjxH55LbUYZtN08TW1lZDR8hyuYxMJtNTWcNanto7P5R8eSgg+EyeyA9ensm7TesrnyHLzmSykxgAa1n5bLharVodkuQynVIye92+m1TLTrw8k5eD8VQqlYbpnQa7ceqw122a5HZpkNXl1I+sp67rAmhMK22naZrQdd1aR54n9di6Tacc9fKEeNCBz8vAPH7GQwZ5ogjxOhiOm7S+lUrFugDKC5umaaJQKFjBxp6SWAj3KZm9bt/PIC+DqdoZyykgOLHf1MjtdZtaulVZlUrFupmQaaAlmRraqQ6SvIGRH6fUx27SKY9CeUI8uAn1Moqhn/GQHe+IIiSMqWbDmpLZa6pZ2QR++fLlrtar1+uIx+NdrdNvyWQSxWKR5fXB4uIixsbGuv49ANjxjogotFKpFG7evIm9vb2u1gs6wO/t7WFhYYHl9UG5XEa5XEYqlfKlvF4wyBPRwEQxJXM8Hkc+n8e1a9c8jyjnt52dHRw7dqxpaFeW1739/X2srq4in88HfuPmxkNBV4CIosuekjlsTfZejY+PY319Hfl8HolEIujqdDQ1NcXy+sQwDFy9ehXj4+O+ldkLBnkiGpioBHUn8Xjc0/NYGm7Dds7ZXE9ERBRRDPJEREQRxSBPREQUUQzyREREEcUgT0REFFG+jnhHREREwI9//GM899xzAy/Ht1fo3nnnHfziF7/wqzgicnD+/Hl873vfw9e+9rWgq0I0so4cOYJvfvObvpTl2zd5Igoec0gQjRY+kyciIoooBnkiIqKIYpAnIiKKKAZ5IiKiiGKQJyIiiigGeSIioohikCciIoooBnkiIqKIYpAnIiKKKAZ5IiKiiGKQJyIiiigGeSIioohikCciIoooBnkiIqKIYpAnIiKKKAZ5IiKiiGKQJyIiiigGeSIioohikCciIoooBnkiIqKIYpAnIiKKKAZ5IiKiiGKQJyIiiigGeSIioohikCciIoooBnkiIqKIYpAnIiKKKAZ5IiKiiGKQJyIiiigGeSIioohikCciIoooBnkiIqKIeijoChDRYPzP//wPfvWrXzVNN00T9+7ds36Ox+P49Kc/7WfViMgnMSGECLoSRNR/r7zyCr7//e+7WpaXAaJo4jd5ooj6whe+0HGZWCyGL3/5yz7UhoiCwGfyRBH13HPP4ZFHHum43EsvveRDbYgoCAzyRBH1yU9+Epqm4aGHWjfYPfLII9A0zcdaEZGfGOSJIuzixYv46KOPHOcdPXoUzz33HD7xiU/4XCsi8guDPFGEnTt3rmUQ//DDD/Htb3/b5xoRkZ8Y5Iki7JFHHsH58+dx9OjRpnmf+tSn8Cd/8icB1IqI/MIgTxRxs7Oz+PDDDxumHT16FN/61rccgz8RRQffkyeKuI8++ggTExP4j//4j4bp//AP/4CnnnoqoFoRkR/4TZ4o4o4cOYJvf/vbePjhh61px48fx9e//vUAa0VEfmCQJxoBFy9exAcffAAAePjhh3Hx4kV87GP88yeKOjbXE42IRx99FAcHBwCAf/qnf8IXv/jFgGtERIPGW3miETE3NwcA+H//7/8xwBONCI5d38HCwgLee++9oKtB1LP/+q//AgD8+te/xvnz5wOuDVHvjhw5gtdeew3Hjx8Puiqhxeb6DmKxGABgeno64JqQnw4ODnD79u3Infef/exnOHHiREMnvF7dvn0bAPClL32pb9skcuPGjRvY2NjAxYsXg65KaPGbvAv8JRo9169fx+zsLN58882gqxJ6s7OzAA7/Toj8JL+EUWt8Jk9ERBRRDPJEREQRxSBPREQUUQzyREREEcUgT0REFFEM8kQDtri4iMXFxaCrEVqmaWJlZSXoapDPVlZWUK/Xg65G5DHIE0VcvV4P7atGpmniypUrOH36NGKxGGKxWMsbIjlf/YSVaZpYXFy06rm5udm0zMHBATKZDGKxGDKZDHZ2dkaqvLNnz2Jubg6maXquB7kgqC0AYmNjI+hqkM82NjZEVP48isXiQPfl4sWL4uLFi12vV6vVhKZpYnd31/q5UCgIACKbzTquU61WBQBRrVZ7qvMgVatVa5+EENY+6bpuTavVaqJYLFr/l8vIaaNS3u7urtA0TdRqta7rIQSvz25E4yo2QPwlGk1RCfIykIYxyOu67hjMAQgAolAoOK4X9vOiBkBJ7pPkFFzty4xKeel0uuEGoRu8PnfG5nqiATJNE5ubm0gmk44/G4aBWCyGZDJpZYgzTROGYVjLrK2tWU2e+/v71radmq3t03Rdh2EYDfOA4PsJmKaJ+fl5nDlzxnG+ruuYmZlxbAZ2Uq/Xsbm5ae3j2tpaQzOwm+OuLruysmLN77ZZe3JysqluAJDNZq1pmqY5rptOp7sqKwrlTU9PY35+ns32gxL0XUbYgXeKI6lf3+Tlt2i5LfVn+Y2oUqkIACKdTgshHnzjUZep1WoinU4LAOLu3btCiAdN12o95bbUafafhRAim822bBLvlpdv8vIRQqVSaZon65rNZgUAUSqVHOerNE0TuVxOCHF4XDRNa2gGdnPc1XVlK8L29rZjHdyqVCrWfsjz5qRWq3luPh/28uR58FIXXp87Y5DvgL9Eo6mfzfVugq6bZUqlUtOzT6/b6icvQV4GBidyuvqoQQ0g9vVkIFaf0+/u7jY1+bs5VvLZsX0ZLzdE6g2X/bzZbW9v9/RsepjLkzcAXprseX3ujEG+A/4SjaYwBvl+b6tfvAT5dnVSp8vWCk3TrCBuX0+2cKhk4NA0rW2Z9mnqN377x6tSqWTd1MjWBju1A2KvhrE8r8eY1+fOmGq2g1gsxix0I0hmoevHn4d8Di63Zf/Z7TL93la/eMlC165OsVisYXq5XMYTTzwBTdOwvr6OsbGxtvvbanqQx2p/fx+PP/6447Y3Nzfx/vvv49KlSyNbntfjzutzZ+x4RzRkvHSWGmaJRALFYhGGYUDX9ab5spOXU8ctr8dK7eDYD6dOnXKcXi6XcefOnb4G3FEoj9xjkCcaEjLwnDt3LuCa9E4Ga7cjnmmahkKhgOXl5aZ58lvcvXv3rGlyu9PT013VK5fLAQDW19etbfRjRD65rUKhYE0zTRNbW1tYWlqyppXLZWQymZ7KGtby1N751Ec+PhoYSuAzn5HUr2fyag/4arXa8LPshCSfH8tlhGh+V7xWq4lsNtvwjFkI0dTjXnY4g9JrXD5nrlarVuemsPau7zTYjVOHPdlBT31uXygUmnrNuznu6nLqR9ZT13UBtO9tr2ma0HXdWkeeO/V4y178TmWpvcyjXp4Q7F0/aAzyHfCXaDT1K8g7XeTUj9My6rRSqWRdLHO5XFPv5EqlYs2XF0n5CpgMXLJXfjabtaYFHeRlMFU7Y7U6Pnb2Gx25vVwu13BzpB4rt8ddiMbXwtLpdMONSDabFel02rEOkryBkR9d15s6ncmbM6eP+iZB1MsT4sGNqZdRDHl97owd7zpgx47R1M+Od14MurNcP3npeAfAagK/fPlyV+vV63XE4/Gu1um3ZDKJYrHI8vpgcXERY2NjXf8eALw+u8Fn8kQUiFQqhZs3b2Jvb6+r9YIO8Ht7e1hYWGB5fVAul1Eul5FKpXwpbxQxyBOFjH041qiKx+PI5/O4du0ayuVy0NVxZWdnB8eOHWsa2pXldW9/fx+rq6vI5/OB37hFGYP8gOzt7VlpFuW443Lc7CizjxFO3ZuYmHD8fxSNj49jfX0dW1tbQVfFlampqZavi7G87hiGgatXr2J8fNyX8kbVQ0FXIIp2dnbw9NNPo1Kp4I033kAmk8Hq6mpX28OMmbcAABveSURBVKjX602DfjhN84PbvN1CCFy5cmWo9zUMRm2f4/G4p+exNNx4zv3Bb/IDcOPGDQDAyZMnAQBvvPFG19u4deuWq2l+EEKgVqs1/Kx+tre3rXnDvq9ERFHCID8A3X6TtavX61hbW+s4zU/tnplNTU153m4Y95WIKCoY5PuoVW5vJzKQyWUWFxetTlZOOcBb5QUHWue/dptDu5fc4m5e9QrTvhIRjRT/X80fLvAw2AIcBvKwT5ODRVSrVce81m62IUT7/Nduc2i7HRjFXr7cVqflwrSvbvUzC13UeRkMh6gfvFyfRw2vYh0MKsjLkaVazXcb+Drlv3a7nW72y/5ptZw0jPvKIO8egzwFhUG+M17FOhhUkJcqlYo1XrSXwNcp//UggrxadzdBfhj3VQZ5fvjhJ9wfBvn2+ApdgNbW1qz0mfPz8562IZ9diwBeu5JvD7gxrPv65ptv+lbWsHr99dcBAN/73vcCrgmNmvPnzwddhdBjkA/I5uYmXnzxRVQqla6CZSv7+/u+DpohuQm4w7yv3aYqHUU/+clPAPBYEYURe9cHZGZmBkB334adDCr/dT+N0r4SEYUJg3yfqWNw7+/vA3Aei1zTNADAwcGBtZzTfDWIOU179tlnAQDLy8sYGxtDLBbDxMQEpqenG8qVQVH+q5bl5hU6dT31/3Zh31ciolHCIN9HsVgMTzzxhPXz448/bgUiSf5/aWkJwOGz6rGxMWSzWaTTafz6179umP+DH/wAc3NzLaeNj4+jUqkgm80CANLptNUsrpY7NjbW8K9aFzf7pa4nA6yTYd9XIqIoYT75DpiveDQFnU9+mHjNJ0/UK16fO+M3eSIioohikCeiocROl8FbWVlp20eHgscgTxRC9XrddYrfMG5/0EzTxJUrV3D69OmGnAhO5Hz1E1amaWJxcdGq5+bmZtMyBwcHyGQyiMViyGQyVv4GSZ5bp4/T9oDDDsNra2tIJpNNx8cwDGt6Mpls2MbZs2cxNzfHjq1hFuRIPMMAHFFpJAU9rG2xWBxo+f3cvt/D2tZqNaFpmpWjoFarWUMet8rBUK1WBXCYPyGsqtWqtU9CPBjGWdd1a1qtVhPFYtH6v1xGThNCiN3d3Zajwzntv67rQtM0USwWRaVSaZoHHOaHEEKIUqnUVKfd3V2haZqo1Wr9ORBd4PW5M36TJwqZQafaHfZUvvl8HolEApOTkwAO0yBfuHABwOHrlU7fVsfHxxv+DaN79+5Z+wTA2id1hMhbt25Zr5eq+y2zLwLA/fv3UalUIA6HLYcQAtVqFdlstmn/M5kMarUa1tfXoWla01gWsuxEItHw782bN61lJicnceLECeTz+d4OAA0EgzxRH9XrdWxublrNo2traw1NmU5NxvZpTql2TdO0mk0BWKl7M5lMw9gDXrcP9JZy2C+maWJ+fh5nzpxxnK/rOmZmZlo2S9t1Ol/dpDBulQbZLTXAy7oBsF4ZBR6MH2GXTqet/09NTTUF652dHTz//PMN0+S5XlpaQjwed9yurusAgL29PQCw9lm+4ipNT09jfn6ezfZhFHBLQuiBzUEjyWtzvaZpIpfLCSEepMZVmzJls7G6bZnoR53W6mcADc3UMo3v3bt3e9q+EO5TDtv52VwvHzPYm5WFENb+ZLPZhiZm+3xVp/PlNoVxuzTIXlQqFWs/5Ll1UqvVmprrndjTLctm92KxKHK5nAAgNE0T29vbTevKeuzu7opCoeDY5C+PSad69Buvz50xyHfAX6LR5CXIywu7ehGUz0flxV8Id9ny3CwjhPMzUq/b98rPIC8DjhM5XT6ztwdI+3r9PF+d0iB3Q70ps59bu+3t7Y7Pw0ulUsP+CNH8rF29YVT7BUhyXjabdSxL3my0q+sg8PrcGYN8B/wlGk1egry8EKrkxU/TNGtaP4O813WHNci3q7c6XbZoaJpmBXH7ev08X53SIHtRKpWsmxrZ2mCndkBsJZvNNn37bnfDaP/Wr+u6KBQKolariWw22/Kmop+/U27x+twZg3wH/CUaTV6C/KCDMIO8+yAvxIOgJYPSsBxP1d27d1tuu1AotAz+UrVadWxNcLvvsoVCBnVZH6dyGeTDiR3viPpETapjp3aMGoRBb38YJRIJFItFGIZhdSBTDeJ8qZ0g+6FVSuVyuYw7d+7g0qVLbdd36nAHPNg/p4Fs1M59MoOk7Jgnc0C8+OKLLmpPYcAgT9Qncvzse/fuWdPkRXRQudZlUDl37txAth82Mli7HWVN0zQUCgUsLy83zevn+RpUGmS5rUKhYE0zTRNbW1sNPdzL5TIymUzT+jdv3rRee1PJ/bt//35TWeo48Pbe/DLYt+rlr74JQCERdFNC2IHNQSPJS3O97PClPgcuFApNzzjtPeLVwUvksvIZb7VatTozyWVkJyr1GWk/tj/Mves7DXbj1GHPzflS31aQTday6V8tT11O/ch62ju6OdE0Tei6bq0jz696TmQvfqey7D3bnTrc2Y+Juu+5XK7pd0l2TpTbkb9L9l747F0fXgzyHfCXaDR5fYWuWq1aryTJi6O9k1KlUrEu1PKiKF+/khdc+TxZ7TQlt1kqlaz1c7lc37Y/DEFeBlO1s5lTwHNiD2Bye+3Ol9N2W5WlvvaWTqcbbkSy2axIp9OOdZDkDYz86Lre1KlO3sA5feyv2jl1uLNT993pd0mIw0Avy02n046v2cng7/eIgrw+d8ZUsx0wleFoCmOqWTloTZjqBPifalY2gV++fLmr9er1estBX/ySTCZRLBYDrcMgLC4uYmxsrOtz0itenzvjM3kiGiqpVAo3b960RmFzK+gAv7e3h4WFhUDrMAjlchnlchmpVCroqpADBnmiIWAfanWUxeNx5PN5XLt2DeVyOejquLKzs4Njx441DV077Pb397G6uop8Ph/4TRQ5Y5AnGgLy1SX7/0fV+Pg41tfXsbW1FXRVXJmammr5OtwwMwwDV69eDXXin1H3UNAVIKLOwvYcPgzi8bjvz4CpEY9/+PGbPBERUUQxyBMREUUUgzwREVFEMcgTERFFFDveuXDjxg0cPXo06GqQj27fvg3g8NxTewcHBwB4rIjCiCPedfDII4/ggw8+CLoaRETk4Pbt23jyySeDrkZoMcgTjRAOA0o0WvhMnoiIKKIY5ImIiCKKQZ6IiCiiGOSJiIgiikGeiIgoohjkiYiIIopBnoiIKKIY5ImIiCKKQZ6IiCiiGOSJiIgiikGeiIgoohjkiYiIIopBnoiIKKIY5ImIiCKKQZ6IiCiiGOSJiIgiikGeiIgoohjkiYiIIopBnoiIKKIY5ImIiCKKQZ6IiCiiGOSJiIgiikGeiIgoohjkiYiIIopBnoiIKKIY5ImIiCKKQZ6IiCiiGOSJiIgiikGeiIgoohjkiYiIIopBnoiIKKIY5ImIiCKKQZ6IiCiiHgq6AkQ0GKVSCX//93/fNN0wDPz85z+3fn7sscfw53/+535WjYh8EhNCiKArQUT991d/9Vd4/fXX8cgjj7Rc5n//938BALwMEEUTm+uJIurP/uzPABwG8lafhx9+GN/97ncDrikRDQq/yRNF1G9+8xucOHEC//7v/952uZ/+9Kf46le/6lOtiMhP/CZPFFEf+9jHMDs7i4cffrjlMp/97Gfxla98xcdaEZGfGOSJImxmZgYffPCB47yjR4/iO9/5DmKxmM+1IiK/sLmeKOI+97nP4Wc/+5njvH/5l3/BH/7hH/pcIyLyC7/JE0XcX/zFX+Do0aNN03/v936PAZ4o4hjkiSJuZmYGH374YcO0o0eP4oUXXgioRkTkFzbXE42ARCKBf/3Xf7Xeh4/FYnjvvffwuc99LuCaEdEg8Zs80Qh44YUXcOTIEQCHAf4LX/gCAzzRCGCQJxoBFy5cwEcffQQAOHLkCObm5gKuERH5gUGeaAR89rOfxde//nUAh4PkfOtb3wq4RkTkBwZ5ohExOzsLAPjiF7+I48ePB1wbIvIDO96F3COPPNJyMBMioqDdvn0bTz75ZNDVoBaYajbkPvjgAzz33HO4ePFi0FUZCefPn8f3vvc9fO1rXwu6KgNRr9fxqU99qudR7n7605/i9ddfx5tvvtmnmtEwOn/+PN577z0G+RBjkB8C09PTmJ6eDroaI+NLX/oSj3cH8r17HieicOMzeSIioohikCciIoooBnkiIqKIYpAnIiKKKAZ5IiKiiGKQJxqAxcVFLC4uBl2N0DJNEysrK0FXY6StrKygXq8HXQ0aMAZ5ogiq1+s9vws/KKZp4sqVKzh9+jRisRhisVjLGyI5X/2ElWmaWFxctOq5ubnZtMzBwQEymQxisRgymQx2dnYa5svz5vRx2h4AlMtlrK2tIZlMNh0fwzCs6clksmEbZ8+exdzcHEzT7MPeU2gJCjUAYmNjI+hqjIyoHO9isSgG+ee9sbHhafu1Wk1omiZ2d3etnwuFggAgstms4zrValUAENVqtac6D1K1WrX2SQhh7ZOu69a0Wq0misWi9X+5jJwmhBC7u7sCgOPHaf91XReapolisSgqlUrTPACiVCoJIYQolUpNddrd3RWapolareZpv6Py9xJl/CZPFDH1eh1ra2tBV8NRPp9HIpHA5OQkACAej+PChQsAgOXlZcdvq+Pj4w3/htG9e/esfQJg7dP8/Lw17datW9A0DUDjfieTSWuZ+/fvo1KpQAhhfarVKrLZbNP+ZzIZ1Go1rK+vQ9M0nDx5smG+LDuRSDT8e/PmTWuZyclJnDhxAvl8vrcDQKHFIE/UZ6ZpYnNz07p42382DMNqPj04OLCWkU2rALC2tmY16e7v71vbdmq2tk/TdR2GYTTMA4LvJ2CaJubn53HmzBnH+bquY2ZmpmWztF29Xsfm5qa1j2traw1Nz26Ou7rsysqKNd/ejN6JGuBl3QAgm81a02SAt0un09b/p6ammoL1zs4Onn/++YZp8jwuLS0hHo87blfXdQDA3t4eAFj7vLS01LDc9PQ05ufn2WwfVQG3JFAHYHOYr/pxvDVNs5pY7T/LJt1KpSIAiHQ6bZVrX6ZWq4l0Oi0AiLt37wohHjRdq3+6clvqNPvPQgiRzWZbNol3y0tzvXyEYG9WFkJY28pmsw1NzPb5Kk3TRC6XE0IcHhdN0xqant0cd3XdQqEghBBie3vbsQ5uVSoVaz/keXNSq9WamuudqHUV4kGze7FYFLlcTgAQmqaJ7e3tpnVlPXZ3d0WhUHBs8pfHpFM9nPD6FH4M8iHHPyJ/9et4uwm6bpZxeo7qdVv95CXIy4DjRE6Xz+ztAdK+ngzEatCSz7NlsJbrdTpW8tm4fRkvN0TqDZf9vNltb293fB5eKpUa9keI5mft6s2g2i9AkvOy2axjWfJmo11dW+H1KfwY5EOOf0T+CluQ7/e2+sVLkG9XJ3W6bK3QNM0K4vb1ZOBSyWClaVrbMu3T1G/89o9XpVLJuqmRrQ12agfEVrLZbNO373Y3g/Zv/bqui0KhIGq1mshmsy1vKrzuL69P4ccgH3L8I/IXg7w7gwzyQjwIWjIoddrfVtODPFZ3795tue1CodAy+EvVatWxNcHtvssWChnUZX2cymWQjy52vCMaAmrnrFGQSCRQLBZhGIbVgUwlO7E5dRbzeqzUDo79cOrUKcfp5XIZd+7cwaVLl9qu79ThDniwf04D2aid+2ZmZgDA6pg3MTEBAHjxxRdd1J6igkGeKMRk4Dl37lzANemdDNZuR1nTNA2FQgHLy8tN8y5evAjg8NU1SW632xz3uVwOALC+vm5tox8j8sltFQoFa5ppmtja2mro4V4ul5HJZJrWv3nzpvXam0ru3/3795vKkscFaO7NL4N9q17+6psAFCFBNyVQe2BzmK/6cbzVHvDVarXhZ9l0Kpug5TKybCgdx9TnqCp7j3t1ABX5TFY+Z65Wq1aHqrD2ru802I1Thz3ZQU99bl8oFJp6zbs57upy6kfW097RzYmmaULXdWsdee7U4y178TuVZe/Z7tThzn5M1H3P5XJNvyeyc6Lcjvw9sffCZ+/6aGOQDzn+EfmrH8fb6SKufpyWUaeVSiUrGORyuaaOUpVKxZovL8zyFTB50ZfPtNWOW0EHeRlM1c5mrY6PnT2Aye3JV8hkMFOPldvjLkTja2/pdLrhRiSbzYp0Ou1YB0newMiPrutNnerkzZnTx/6qnVOHOzt1351+T4Q4DPSy3HQ67fianQz+XkYU5PUp/GJCCOH+ez/5LRaLYWNjo6EZjgYnyOMtB60Zhj/J69evY3Z2tuu6yibwy5cvd7VevV5vOeiLX5LJJIrFYqB1GITFxUWMjY11fU4AXp+GAZ/JE5FvUqkUbt68aY3C5lbQAX5vbw8LCwuB1mEQyuUyyuUyUqlU0FWhAWGQj6i9vb2GbFflcjnoKlEb9uFYoyoejyOfz+PatWtD8zu5s7ODY8eONQ1dO+z29/exurqKfD4f+E0UDQ6DfATt7Ozgy1/+Mv76r/8aQgg89dRTfRmzvFUKzFgshpWVFRiGwfzUHsnXm+z/j6Lx8XGsr69ja2sr6Kq4MjU11fJ1uGFmGAauXr0a6sQ/1DsG+Qi6ceMGAFiJLi5cuNCXZ4ni/zJiSbVazcqUdfbsWaytrTE/tUfyOMpP1MXjcU/PgKl/Ll++zAA/AhjkI2h1dXVg21YvCmoTXyKRsNJVplIpfqMnIgoBBvkIaZWCVHJKzanqNRXp+Pg4Xn75ZRiGgVu3bjXMa5XKs5t0oHJ9mVJU3bd2ZRARjSoG+QixN/Xaf56bm8OdO3es6f/8z//c9/ziX/ziFwEAf/d3f2dNM00TqVQKJ06cgBACL7/8Mp5++mmrV+/MzAwMw8De3h40TUOlUoFhGHj11VetbaysrGB6ehpCCJw/fx4/+MEPGsptVwYR0cjy9a186ho8DDYBh0FFZLIKe2rOdgN8dLP9dvM7pfJ02p59mr3ucmAVt2W45eV4jyIvg+FQ9PDvJfwe8vWOggJz/fp1AI3P1CcnJ30Z3EOWbW9eX15ebhjDu510Oo2JiQkUCgU888wzGB8fb2il6EcZ0u3bt3H06NGu1hk1t2/fBvCgkycRhVTQdxnUHvr0Td5pWi91arUtOTa4+g26U9lu6nv37t2Gcb/leOxuy3BLbocffvhx9+E3+XDjM/kRITNPDfoZ9bvvvgsAOHPmTNO8XlJ5njp1CsViEaVSCel0GvPz845ZwvqRLnRjY6PplTZ+Gj8bGxsAEHg9+An2Q+HHID8iZJBfXV21Xm87ODhwTHHplWma+P73vw9N0zA1NWVN70cqz1gshnq9jkQigTfeeAOlUgnz8/N9LYOIKGoY5CNG/aaufqt99tlnoWkaVldXMTY2hlgshldffRWvvPKKtYybV+jU99/V/6vjX8v35dWygcPn47LsiYkJTE9PNwycI7enbledr+u69Vrd7/zO71j5yTuVQUQ0qhjkIyQWi+GJJ56wfn788cetjmjj4+PI5/PIZrMAgGw2i1deeaWr4TpjsRjGxsasn2UwjcVi2NrawsLCAorFYtMoWuPj46hUKlbZ6XQalUoFJ0+ebBjCVW5bLUOd/9JLL+HGjRuIxWK4ceNGw4hp7cogIhpVTDUbckzl6C8eb3e8ppqlaOHfS/jxmzwREVFEMcgTERFFFIM8EQ2tUXyDYmVlhQmgyDUGeaKQqNfrTSP2DdP2/WaaJq5cuYLTp09bHUBbvR0i56ufsKrX69jb28Pa2pqVuEl19uxZpnQm1zisLVFI2DP3Ddv2/VSv15FKpbCwsIDJyUnUajW8/fbbmJmZAYCmoYyFEDBNExMTE6hWq6HOoy5fDV1eXnacn0gksLCwgFQqhfX19YaUz0R2/CZPFAL1er0p9e8wbd9v+XweiUQCk5OTAIB4PI4LFy4AOAyOm5ubTevIwB7mAA8c3qB0yrcwOTmJEydONI1JQWTHIE/Uo3q9js3NTasZWOa7l5yaiO3TdF2HYRgN80zThGEYVpPt2toaYrEYMplMw0BHXrcPuBsAKWxM08T8/Lzj0MnA4b7OzMw4Bnonnc6faZrY3Ny0zoNhGIjFYkgmk9bgTOqyKysr1vydnR2Pe9nZ9PQ05ufn2WxPbTHIE/Vobm4O77//PoQQqFarMAwDqVTK6hxVrVab1qlUKg0/q9/c5LjgExMTSCaTMAwDe3t7uHTpEmq1GoDDgY5koPe6/WElM+A99thjjvMvX76MbDaLmZkZV7kaOp2/VCqFmZkZ6zxomoZKpQLDMPDqq69a2zFNE6lUCidOnIAQAi+//DKefvrpgeWLkPsvjweRI0GhBmZ58lW3x3t7e1sAjbnud3d3BQBRKBQatmv/c7NPc7OMEEKUSiUBNGbi87p9r4LMJ5/NZluWLafXajUra+Hdu3eb5kv9PH+FQsFxGTUjYzc6nS+Z8dGekdFPvD6FH7/JE/VA5lNXn/N+/vOfB/Agx32/JRIJAGhI0DNKWnVIU8Xjcet5dbsm7X6eP7m8/VGJm/p6ITvcjervAbnDIE/Ug9XV1aZp8uIrn4FTMMbHx1EqlZqa31X9PH9yecGUrBQiDPJEPZApfJ2+KabT6YGWPejtR0EikUCxWIRhGA1ZC6VBnD+1UyRR0BjkiXogE3Pcu3fPmia/MQ4qza0MIufOnRvI9sNOBmu3o75pmoZCoeDYbN7P85fL5QAA6+vr1jb8GJFPZl4kcsIgT9SDZ555Bpqm4dq1a9a3wbfffhvpdBpTU1PWcvJboQzQe3t71rxMJgOg8VulPTDI18Hq9TrW19ehaZq1fC/bH8ZX6GR6ZHuQl8ff6Vv5hQsXHIOhm/Onbk+WqZYt5z/77LMADp/ByzTMExMT1s2CfLXOTW97dfutbmbk63tPPvlkx+3RCAu02x91BPZe9ZWX412tVkUul7N6QxcKBVGr1RqWqVQqVm/vYrEohBBC0zRRKBSsnt2y13w2m7WmyW2WSiVr/Vwu17ftZ7NZT72/g+xdX61WBQCxu7trTZPHSf040TTNcXvtzp/TdluVValUrN7/6XRaVCoVa142mxXpdNqxDiqnfXHaH/kWgPpmgN94fQo/5pMPOeZr9lfYjrfsoR22P9Og88nLlojLly93tV69Xg98GNhkMolisdjzdhYXFzE2Ntb1MeinsP29UDM21xPR0EmlUrh582bDYwk3gg7we3t7WFhY6Hk75XIZ5XIZqVSqD7WiKGOQJwop+9Cq9IB8D/7atWsDG1Gu33Z2dnDs2DFrvH2v9vf3sbq6inw+H/hNC4UfgzxRSE1MTDj+nw6Nj49jfX0dW1tbQVfFlampKavTYC8Mw8DVq1dDn2iHwoGpZolCKmzP4cMoHo8H+kw6CKO2v9QbfpMnIiKKKAZ5IiKiiGKQJyIiiigGeSIioohix7shMDs7i5/85CdBV2NkvP766zzeHcghVc+fPx9wTYioHY54F3ILCwt47733gq4GEVGTI0eO4LXXXsPx48eDrgq1wCBPREQUUXwmT0REFFEM8kRERBHFIE9ERBRRDPJEREQR9f8B6DjVXads7pQAAAAASUVORK5CYII\u003d\n",
            "text/plain": "\u003cIPython.core.display.Image object\u003e"
          },
          "metadata": {},
          "output_type": "execute_result",
          "execution_count": 18
        }
      ],
      "source": "keras.utils.plot_model(happyModel, to_file\u003d\u0027HappyModel.png\u0027, show_shapes\u003dTrue)\nImage(\"HappyModel.png\")"
    }
  ],
  "metadata": {
    "kernelspec": {
      "display_name": "Python 3",
      "language": "python",
      "name": "python3"
    },
    "language_info": {
      "codemirror_mode": {
        "name": "ipython",
        "version": 3
      },
      "file_extension": ".py",
      "mimetype": "text/x-python",
      "name": "python",
      "nbconvert_exporter": "python",
      "pygments_lexer": "ipython3",
      "version": "3.6.0"
    }
  },
  "nbformat": 4,
  "nbformat_minor": 2
}